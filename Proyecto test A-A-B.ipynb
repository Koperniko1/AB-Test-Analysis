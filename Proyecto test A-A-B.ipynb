{
 "cells": [
  {
   "cell_type": "markdown",
   "metadata": {},
   "source": [
    "# Proyecto: Toma de decisiones de negocios basadas en datos\n",
    "\n",
    "\n",
    "## Descripción del proyecto\n",
    "\n",
    "En este proyecto, analisamos los datos de una tienda en línea. El principal objetivo es ayudar a incrementar los ingresos de la empresa mediante la priorización de hipótesis propuestas en colaboración con el departamento de marketing y la ejecución de un experimento A/B. Para lograr esto, abordaremos dos partes fundamentales: la priorización de hipótesis utilizando los frameworks ICE y RICE, y el análisis detallado de los resultados del test A/B.\n",
    "\n",
    "### Contexto\n",
    "\n",
    "El proyecto inicia con una serie de hipótesis, cada una diseñada para mejorar el desempeño de la tienda en línea. A través de técnicas de priorización de hipótesis, seleccionaremos las más prometedoras para ponerlas a prueba en un experimento A/B. Este análisis busca determinar si las estrategias implementadas generan un impacto significativo en los ingresos, en el comportamiento de los usuarios y en las tasas de conversión.\n",
    "\n",
    "### Descripción de los datos\n",
    "\n",
    "Para llevar a cabo este proyecto, se utilizan dos conjuntos de datos principales:\n",
    "\n",
    "#### Datos para la priorización de hipótesis\n",
    "Archivo: `hypotheses_us.csv`\n",
    "\n",
    "Las columnas incluyen:\n",
    "\n",
    "- **Hypotheses**: descripción breve de cada hipótesis.\n",
    "- **Reach**: el alcance de la hipótesis en una escala del 1 al 10.\n",
    "- **Impact**: el impacto potencial de la hipótesis en los usuarios en una escala del 1 al 10.\n",
    "- **Confidence**: el nivel de confianza en la hipótesis en una escala del 1 al 10.\n",
    "- **Effort**: los recursos necesarios para implementar la hipótesis, medidos en una escala del 1 al 10.\n",
    "\n",
    "#### Datos del experimento A/B\n",
    "Archivos:`orders_us.csv`, `visits_us.csv`\n",
    "\n",
    "**orders_us.csv**: contiene información sobre los pedidos realizados, como el identificador del pedido, el usuario, la fecha, los ingresos generados y el grupo de test A/B al que pertenece el usuario.\n",
    "\n",
    "Las columnas incluyen:\n",
    "\n",
    "- **transactionId**: identificador de pedido\n",
    "- **visitorId**: identificador del usuario que realizó el pedido\n",
    "- **date**: fecha del pedido\n",
    "- **revenue**: ingresos del pedido\n",
    "- **group**: el grupo del test A/B al que pertenece el usuario\n",
    "\n",
    "**visits_us.csv**: incluye información diaria sobre el número de visitas de los usuarios, la fecha y el grupo de test A/B.\n",
    "\n",
    "Las columnas incluyen:\n",
    "\n",
    "- **date**: la fecha\n",
    "- **group**: grupo del test A/B\n",
    "- **visits**: el número de visitas en la fecha especificada para el grupo de test A/B especificado\n",
    "\n",
    "### Priorizar hipótesis\n",
    "\n",
    "Utilizaremos dos frameworks populares para priorizar las hipótesis: **ICE** y **RICE**. El objetivo es evaluar las hipótesis en términos de impacto, confianza, esfuerzo y alcance, y compararlas entre ambos métodos para identificar las más valiosas para el negocio.\n",
    "\n",
    "### Análisis del test A/B\n",
    "\n",
    "El siguiente paso del proyecto es analizar los resultados del experimento A/B, que nos permitirá validar las hipótesis seleccionadas. Para ello, estudiaremos diversas métricas, como el ingreso acumulado, el tamaño promedio de los pedidos, la tasa de conversión y la significancia estadística de las diferencias entre los grupos A y B.\n",
    "\n",
    "Entre los análisis clave se incluyen:\n",
    "\n",
    "- **Ingreso acumulado por grupo**: para ver cómo varían los ingresos en cada grupo a lo largo del tiempo.\n",
    "- **Tamaño de pedido promedio**: para determinar si existe una diferencia en el valor promedio de los pedidos entre los grupos.\n",
    "- **Tasa de conversión**: para analizar cuántos usuarios completan un pedido en cada grupo.\n",
    "- **Distribución de pedidos por usuario**: observando la dispersión de los pedidos y el comportamiento de usuarios anómalos.\n",
    "- **Significancia estadística**: verificaremos si las diferencias observadas entre los grupos A y B son estadísticamente significativas en términos de conversión y tamaño de pedido.\n",
    "\n",
    "### Toma de decisiones basada en los resultados\n",
    "\n",
    "Finalmente, con base en los resultados del análisis, se tomará una decisión informada sobre si implementar las estrategias del grupo B o realizar ajustes adicionales para optimizar los ingresos de la tienda en línea.\n",
    "\n",
    "Este enfoque basado en datos permitirá garantizar que las decisiones de negocio estén respaldadas por pruebas y resultados cuantitativos sólidos, maximizando así las oportunidades de éxito.\n"
   ]
  },
  {
   "cell_type": "markdown",
   "metadata": {},
   "source": [
    "<div class=\"alert alert-block alert-success\">\n",
    "<b>Comentario del revisor</b> <a class=\"tocSkip\"></a>\n",
    "\n",
    "Excelente, me encanta la forma en que introduces el proyecto, todo está muy ordenado y con una estructura que invita al lector a seguir explorando tu contenido. Te felicito. \n",
    "</div>"
   ]
  },
  {
   "cell_type": "markdown",
   "metadata": {},
   "source": [
    "## Importar librerias"
   ]
  },
  {
   "cell_type": "code",
   "execution_count": 29,
   "metadata": {},
   "outputs": [],
   "source": [
    "import pandas as pd\n",
    "from pandas.api.types import CategoricalDtype\n",
    "import matplotlib.pyplot as plt\n",
    "import matplotlib.dates as mdates\n",
    "import seaborn as sns\n",
    "import re\n",
    "import numpy as np\n",
    "import scipy.stats as stats"
   ]
  },
  {
   "cell_type": "markdown",
   "metadata": {},
   "source": [
    "## Importar datasets"
   ]
  },
  {
   "cell_type": "code",
   "execution_count": 30,
   "metadata": {},
   "outputs": [],
   "source": [
    "# Cargar los archivos CSV\n",
    "hypotheses = pd.read_csv('hypotheses_us.csv', sep=';')\n",
    "orders = pd.read_csv('orders_us.csv', dtype={'transactionId': 'int64', 'visitorId': 'int64', 'revenue': 'float64', 'group': 'category'}, parse_dates=['date'], memory_map=True)\n",
    "visits = pd.read_csv('visits_us.csv', dtype={'group': 'category', 'visits': 'int64'}, parse_dates=['date'])"
   ]
  },
  {
   "cell_type": "code",
   "execution_count": 31,
   "metadata": {
    "scrolled": false
   },
   "outputs": [
    {
     "name": "stdout",
     "output_type": "stream",
     "text": [
      "<class 'pandas.core.frame.DataFrame'>\n",
      "RangeIndex: 9 entries, 0 to 8\n",
      "Data columns (total 5 columns):\n",
      " #   Column      Non-Null Count  Dtype \n",
      "---  ------      --------------  ----- \n",
      " 0   Hypothesis  9 non-null      object\n",
      " 1   Reach       9 non-null      int64 \n",
      " 2   Impact      9 non-null      int64 \n",
      " 3   Confidence  9 non-null      int64 \n",
      " 4   Effort      9 non-null      int64 \n",
      "dtypes: int64(4), object(1)\n",
      "memory usage: 492.0+ bytes\n"
     ]
    }
   ],
   "source": [
    "# Llama al método info()\n",
    "hypotheses.info()"
   ]
  },
  {
   "cell_type": "code",
   "execution_count": 32,
   "metadata": {},
   "outputs": [
    {
     "data": {
      "text/html": [
       "<div>\n",
       "<style scoped>\n",
       "    .dataframe tbody tr th:only-of-type {\n",
       "        vertical-align: middle;\n",
       "    }\n",
       "\n",
       "    .dataframe tbody tr th {\n",
       "        vertical-align: top;\n",
       "    }\n",
       "\n",
       "    .dataframe thead th {\n",
       "        text-align: right;\n",
       "    }\n",
       "</style>\n",
       "<table border=\"1\" class=\"dataframe\">\n",
       "  <thead>\n",
       "    <tr style=\"text-align: right;\">\n",
       "      <th></th>\n",
       "      <th>Hypothesis</th>\n",
       "      <th>Reach</th>\n",
       "      <th>Impact</th>\n",
       "      <th>Confidence</th>\n",
       "      <th>Effort</th>\n",
       "    </tr>\n",
       "  </thead>\n",
       "  <tbody>\n",
       "    <tr>\n",
       "      <th>0</th>\n",
       "      <td>Add two new channels for attracting traffic. T...</td>\n",
       "      <td>3</td>\n",
       "      <td>10</td>\n",
       "      <td>8</td>\n",
       "      <td>6</td>\n",
       "    </tr>\n",
       "    <tr>\n",
       "      <th>1</th>\n",
       "      <td>Launch your own delivery service. This will sh...</td>\n",
       "      <td>2</td>\n",
       "      <td>5</td>\n",
       "      <td>4</td>\n",
       "      <td>10</td>\n",
       "    </tr>\n",
       "    <tr>\n",
       "      <th>2</th>\n",
       "      <td>Add product recommendation blocks to the store...</td>\n",
       "      <td>8</td>\n",
       "      <td>3</td>\n",
       "      <td>7</td>\n",
       "      <td>3</td>\n",
       "    </tr>\n",
       "    <tr>\n",
       "      <th>3</th>\n",
       "      <td>Change the category structure. This will incre...</td>\n",
       "      <td>8</td>\n",
       "      <td>3</td>\n",
       "      <td>3</td>\n",
       "      <td>8</td>\n",
       "    </tr>\n",
       "    <tr>\n",
       "      <th>4</th>\n",
       "      <td>Change the background color on the main page. ...</td>\n",
       "      <td>3</td>\n",
       "      <td>1</td>\n",
       "      <td>1</td>\n",
       "      <td>1</td>\n",
       "    </tr>\n",
       "    <tr>\n",
       "      <th>5</th>\n",
       "      <td>Add a customer review page. This will increase...</td>\n",
       "      <td>3</td>\n",
       "      <td>2</td>\n",
       "      <td>2</td>\n",
       "      <td>3</td>\n",
       "    </tr>\n",
       "    <tr>\n",
       "      <th>6</th>\n",
       "      <td>Show banners with current offers and sales on ...</td>\n",
       "      <td>5</td>\n",
       "      <td>3</td>\n",
       "      <td>8</td>\n",
       "      <td>3</td>\n",
       "    </tr>\n",
       "    <tr>\n",
       "      <th>7</th>\n",
       "      <td>Add a subscription form to all the main pages....</td>\n",
       "      <td>10</td>\n",
       "      <td>7</td>\n",
       "      <td>8</td>\n",
       "      <td>5</td>\n",
       "    </tr>\n",
       "    <tr>\n",
       "      <th>8</th>\n",
       "      <td>Launch a promotion that gives users discounts ...</td>\n",
       "      <td>1</td>\n",
       "      <td>9</td>\n",
       "      <td>9</td>\n",
       "      <td>5</td>\n",
       "    </tr>\n",
       "  </tbody>\n",
       "</table>\n",
       "</div>"
      ],
      "text/plain": [
       "                                          Hypothesis  Reach  Impact  \\\n",
       "0  Add two new channels for attracting traffic. T...      3      10   \n",
       "1  Launch your own delivery service. This will sh...      2       5   \n",
       "2  Add product recommendation blocks to the store...      8       3   \n",
       "3  Change the category structure. This will incre...      8       3   \n",
       "4  Change the background color on the main page. ...      3       1   \n",
       "5  Add a customer review page. This will increase...      3       2   \n",
       "6  Show banners with current offers and sales on ...      5       3   \n",
       "7  Add a subscription form to all the main pages....     10       7   \n",
       "8  Launch a promotion that gives users discounts ...      1       9   \n",
       "\n",
       "   Confidence  Effort  \n",
       "0           8       6  \n",
       "1           4      10  \n",
       "2           7       3  \n",
       "3           3       8  \n",
       "4           1       1  \n",
       "5           2       3  \n",
       "6           8       3  \n",
       "7           8       5  \n",
       "8           9       5  "
      ]
     },
     "execution_count": 32,
     "metadata": {},
     "output_type": "execute_result"
    }
   ],
   "source": [
    "hypotheses"
   ]
  },
  {
   "cell_type": "code",
   "execution_count": 33,
   "metadata": {
    "scrolled": true
   },
   "outputs": [
    {
     "name": "stdout",
     "output_type": "stream",
     "text": [
      "<class 'pandas.core.frame.DataFrame'>\n",
      "RangeIndex: 1197 entries, 0 to 1196\n",
      "Data columns (total 5 columns):\n",
      " #   Column         Non-Null Count  Dtype         \n",
      "---  ------         --------------  -----         \n",
      " 0   transactionId  1197 non-null   int64         \n",
      " 1   visitorId      1197 non-null   int64         \n",
      " 2   date           1197 non-null   datetime64[ns]\n",
      " 3   revenue        1197 non-null   float64       \n",
      " 4   group          1197 non-null   category      \n",
      "dtypes: category(1), datetime64[ns](1), float64(1), int64(2)\n",
      "memory usage: 38.8 KB\n"
     ]
    }
   ],
   "source": [
    "orders.info()"
   ]
  },
  {
   "cell_type": "markdown",
   "metadata": {},
   "source": [
    "¨**Identificar y eliminar los visitantes duplicados que pertenecen a múltiples grupos**"
   ]
  },
  {
   "cell_type": "code",
   "execution_count": 34,
   "metadata": {
    "scrolled": true
   },
   "outputs": [
    {
     "name": "stdout",
     "output_type": "stream",
     "text": [
      "Total de visitantes únicos por grupo:\n",
      "  group  visitorId\n",
      "0     A        445\n",
      "1     B        528\n",
      "\n",
      "Total de transacciones después de la limpieza: 1016\n"
     ]
    },
    {
     "name": "stderr",
     "output_type": "stream",
     "text": [
      "C:\\Users\\Main\\AppData\\Local\\Temp\\ipykernel_13880\\3396029086.py:11: FutureWarning: The default of observed=False is deprecated and will be changed to True in a future version of pandas. Pass observed=False to retain current behavior or observed=True to adopt the future default and silence this warning.\n",
      "  unique_visitors_summary = orders.groupby('group')['visitorId'].nunique().reset_index()\n"
     ]
    }
   ],
   "source": [
    "# Identificar visitantes que pertenecen a múltiples grupos\n",
    "visitor_groups = orders.groupby('visitorId')['group'].nunique().reset_index()\n",
    "\n",
    "# Filtrar visitantes que están en ambos grupos\n",
    "duplicate_visitors = visitor_groups[visitor_groups['group'] > 1]['visitorId']\n",
    "\n",
    "# Eliminar del DataFrame original aquellos visitantes duplicados\n",
    "orders = orders[~orders['visitorId'].isin(duplicate_visitors)]\n",
    "\n",
    "# Resumir la información de visitantes únicos por grupo\n",
    "unique_visitors_summary = orders.groupby('group')['visitorId'].nunique().reset_index()\n",
    "\n",
    "# Imprimir resultados\n",
    "print(f\"Total de visitantes únicos por grupo:\\n{unique_visitors_summary}\")\n",
    "print(f\"\\nTotal de transacciones después de la limpieza: {orders.shape[0]}\")\n"
   ]
  },
  {
   "cell_type": "code",
   "execution_count": 35,
   "metadata": {},
   "outputs": [
    {
     "data": {
      "text/html": [
       "<div>\n",
       "<style scoped>\n",
       "    .dataframe tbody tr th:only-of-type {\n",
       "        vertical-align: middle;\n",
       "    }\n",
       "\n",
       "    .dataframe tbody tr th {\n",
       "        vertical-align: top;\n",
       "    }\n",
       "\n",
       "    .dataframe thead th {\n",
       "        text-align: right;\n",
       "    }\n",
       "</style>\n",
       "<table border=\"1\" class=\"dataframe\">\n",
       "  <thead>\n",
       "    <tr style=\"text-align: right;\">\n",
       "      <th></th>\n",
       "      <th>transactionId</th>\n",
       "      <th>visitorId</th>\n",
       "      <th>date</th>\n",
       "      <th>revenue</th>\n",
       "      <th>group</th>\n",
       "    </tr>\n",
       "  </thead>\n",
       "  <tbody>\n",
       "    <tr>\n",
       "      <th>0</th>\n",
       "      <td>3667963787</td>\n",
       "      <td>3312258926</td>\n",
       "      <td>2019-08-15</td>\n",
       "      <td>30.4</td>\n",
       "      <td>B</td>\n",
       "    </tr>\n",
       "    <tr>\n",
       "      <th>1</th>\n",
       "      <td>2804400009</td>\n",
       "      <td>3642806036</td>\n",
       "      <td>2019-08-15</td>\n",
       "      <td>15.2</td>\n",
       "      <td>B</td>\n",
       "    </tr>\n",
       "    <tr>\n",
       "      <th>3</th>\n",
       "      <td>3797467345</td>\n",
       "      <td>1196621759</td>\n",
       "      <td>2019-08-15</td>\n",
       "      <td>155.1</td>\n",
       "      <td>B</td>\n",
       "    </tr>\n",
       "    <tr>\n",
       "      <th>4</th>\n",
       "      <td>2282983706</td>\n",
       "      <td>2322279887</td>\n",
       "      <td>2019-08-15</td>\n",
       "      <td>40.5</td>\n",
       "      <td>B</td>\n",
       "    </tr>\n",
       "    <tr>\n",
       "      <th>5</th>\n",
       "      <td>182168103</td>\n",
       "      <td>935554773</td>\n",
       "      <td>2019-08-15</td>\n",
       "      <td>35.0</td>\n",
       "      <td>B</td>\n",
       "    </tr>\n",
       "    <tr>\n",
       "      <th>...</th>\n",
       "      <td>...</td>\n",
       "      <td>...</td>\n",
       "      <td>...</td>\n",
       "      <td>...</td>\n",
       "      <td>...</td>\n",
       "    </tr>\n",
       "    <tr>\n",
       "      <th>1191</th>\n",
       "      <td>3592955527</td>\n",
       "      <td>608641596</td>\n",
       "      <td>2019-08-14</td>\n",
       "      <td>255.7</td>\n",
       "      <td>B</td>\n",
       "    </tr>\n",
       "    <tr>\n",
       "      <th>1192</th>\n",
       "      <td>2662137336</td>\n",
       "      <td>3733762160</td>\n",
       "      <td>2019-08-14</td>\n",
       "      <td>100.8</td>\n",
       "      <td>B</td>\n",
       "    </tr>\n",
       "    <tr>\n",
       "      <th>1193</th>\n",
       "      <td>2203539145</td>\n",
       "      <td>370388673</td>\n",
       "      <td>2019-08-14</td>\n",
       "      <td>50.1</td>\n",
       "      <td>A</td>\n",
       "    </tr>\n",
       "    <tr>\n",
       "      <th>1194</th>\n",
       "      <td>1807773912</td>\n",
       "      <td>573423106</td>\n",
       "      <td>2019-08-14</td>\n",
       "      <td>165.3</td>\n",
       "      <td>A</td>\n",
       "    </tr>\n",
       "    <tr>\n",
       "      <th>1196</th>\n",
       "      <td>3936777065</td>\n",
       "      <td>2108080724</td>\n",
       "      <td>2019-08-15</td>\n",
       "      <td>3120.1</td>\n",
       "      <td>B</td>\n",
       "    </tr>\n",
       "  </tbody>\n",
       "</table>\n",
       "<p>1016 rows × 5 columns</p>\n",
       "</div>"
      ],
      "text/plain": [
       "      transactionId   visitorId       date  revenue group\n",
       "0        3667963787  3312258926 2019-08-15     30.4     B\n",
       "1        2804400009  3642806036 2019-08-15     15.2     B\n",
       "3        3797467345  1196621759 2019-08-15    155.1     B\n",
       "4        2282983706  2322279887 2019-08-15     40.5     B\n",
       "5         182168103   935554773 2019-08-15     35.0     B\n",
       "...             ...         ...        ...      ...   ...\n",
       "1191     3592955527   608641596 2019-08-14    255.7     B\n",
       "1192     2662137336  3733762160 2019-08-14    100.8     B\n",
       "1193     2203539145   370388673 2019-08-14     50.1     A\n",
       "1194     1807773912   573423106 2019-08-14    165.3     A\n",
       "1196     3936777065  2108080724 2019-08-15   3120.1     B\n",
       "\n",
       "[1016 rows x 5 columns]"
      ]
     },
     "execution_count": 35,
     "metadata": {},
     "output_type": "execute_result"
    }
   ],
   "source": [
    "orders"
   ]
  },
  {
   "cell_type": "code",
   "execution_count": 36,
   "metadata": {
    "scrolled": false
   },
   "outputs": [
    {
     "name": "stdout",
     "output_type": "stream",
     "text": [
      "<class 'pandas.core.frame.DataFrame'>\n",
      "RangeIndex: 62 entries, 0 to 61\n",
      "Data columns (total 3 columns):\n",
      " #   Column  Non-Null Count  Dtype         \n",
      "---  ------  --------------  -----         \n",
      " 0   date    62 non-null     datetime64[ns]\n",
      " 1   group   62 non-null     category      \n",
      " 2   visits  62 non-null     int64         \n",
      "dtypes: category(1), datetime64[ns](1), int64(1)\n",
      "memory usage: 1.2 KB\n"
     ]
    }
   ],
   "source": [
    "visits.info()"
   ]
  },
  {
   "cell_type": "code",
   "execution_count": 37,
   "metadata": {
    "scrolled": true
   },
   "outputs": [
    {
     "data": {
      "text/html": [
       "<div>\n",
       "<style scoped>\n",
       "    .dataframe tbody tr th:only-of-type {\n",
       "        vertical-align: middle;\n",
       "    }\n",
       "\n",
       "    .dataframe tbody tr th {\n",
       "        vertical-align: top;\n",
       "    }\n",
       "\n",
       "    .dataframe thead th {\n",
       "        text-align: right;\n",
       "    }\n",
       "</style>\n",
       "<table border=\"1\" class=\"dataframe\">\n",
       "  <thead>\n",
       "    <tr style=\"text-align: right;\">\n",
       "      <th></th>\n",
       "      <th>date</th>\n",
       "      <th>group</th>\n",
       "      <th>visits</th>\n",
       "    </tr>\n",
       "  </thead>\n",
       "  <tbody>\n",
       "    <tr>\n",
       "      <th>0</th>\n",
       "      <td>2019-08-01</td>\n",
       "      <td>A</td>\n",
       "      <td>719</td>\n",
       "    </tr>\n",
       "    <tr>\n",
       "      <th>1</th>\n",
       "      <td>2019-08-02</td>\n",
       "      <td>A</td>\n",
       "      <td>619</td>\n",
       "    </tr>\n",
       "    <tr>\n",
       "      <th>2</th>\n",
       "      <td>2019-08-03</td>\n",
       "      <td>A</td>\n",
       "      <td>507</td>\n",
       "    </tr>\n",
       "    <tr>\n",
       "      <th>3</th>\n",
       "      <td>2019-08-04</td>\n",
       "      <td>A</td>\n",
       "      <td>717</td>\n",
       "    </tr>\n",
       "    <tr>\n",
       "      <th>4</th>\n",
       "      <td>2019-08-05</td>\n",
       "      <td>A</td>\n",
       "      <td>756</td>\n",
       "    </tr>\n",
       "    <tr>\n",
       "      <th>...</th>\n",
       "      <td>...</td>\n",
       "      <td>...</td>\n",
       "      <td>...</td>\n",
       "    </tr>\n",
       "    <tr>\n",
       "      <th>57</th>\n",
       "      <td>2019-08-27</td>\n",
       "      <td>B</td>\n",
       "      <td>720</td>\n",
       "    </tr>\n",
       "    <tr>\n",
       "      <th>58</th>\n",
       "      <td>2019-08-28</td>\n",
       "      <td>B</td>\n",
       "      <td>654</td>\n",
       "    </tr>\n",
       "    <tr>\n",
       "      <th>59</th>\n",
       "      <td>2019-08-29</td>\n",
       "      <td>B</td>\n",
       "      <td>531</td>\n",
       "    </tr>\n",
       "    <tr>\n",
       "      <th>60</th>\n",
       "      <td>2019-08-30</td>\n",
       "      <td>B</td>\n",
       "      <td>490</td>\n",
       "    </tr>\n",
       "    <tr>\n",
       "      <th>61</th>\n",
       "      <td>2019-08-31</td>\n",
       "      <td>B</td>\n",
       "      <td>718</td>\n",
       "    </tr>\n",
       "  </tbody>\n",
       "</table>\n",
       "<p>62 rows × 3 columns</p>\n",
       "</div>"
      ],
      "text/plain": [
       "         date group  visits\n",
       "0  2019-08-01     A     719\n",
       "1  2019-08-02     A     619\n",
       "2  2019-08-03     A     507\n",
       "3  2019-08-04     A     717\n",
       "4  2019-08-05     A     756\n",
       "..        ...   ...     ...\n",
       "57 2019-08-27     B     720\n",
       "58 2019-08-28     B     654\n",
       "59 2019-08-29     B     531\n",
       "60 2019-08-30     B     490\n",
       "61 2019-08-31     B     718\n",
       "\n",
       "[62 rows x 3 columns]"
      ]
     },
     "execution_count": 37,
     "metadata": {},
     "output_type": "execute_result"
    }
   ],
   "source": [
    "visits"
   ]
  },
  {
   "cell_type": "markdown",
   "metadata": {},
   "source": [
    "## Priorizar hipótesis\n",
    "\n",
    "En el contexto del comercio electrónico, la identificación de estrategias efectivas para aumentar los ingresos es fundamental. El archivo `hypotheses_us.csv` presenta nueve hipótesis que proponen diferentes iniciativas, cada una evaluada en términos de **Reach** (alcance), **Impact** (impacto), **Confidence** (confianza) y **Effort** (esfuerzo). Este análisis se realiza mediante los frameworks de priorización **ICE** (Impact, Confidence, Effort) y **RICE** (Reach, Impact, Confidence, Effort), que permiten clasificar las hipótesis en función de su potencial para generar ingresos.\n"
   ]
  },
  {
   "cell_type": "code",
   "execution_count": 38,
   "metadata": {
    "scrolled": true
   },
   "outputs": [],
   "source": [
    "# Calcula el puntaje ICE para cada hipótesis.\n",
    "# ICE = (Impacto * Confianza) / Esfuerzo\n",
    "hypotheses['ICE_Score'] = (hypotheses['Impact'] * hypotheses['Confidence']) / hypotheses['Effort']\n",
    "\n",
    "# Calcula el puntaje RICE para cada hipótesis.\n",
    "# RICE = (Alcance * Impacto * Confianza) / Esfuerzo\n",
    "hypotheses['RICE_Score'] = (hypotheses['Reach'] * hypotheses['Impact'] * hypotheses['Confidence']) / hypotheses['Effort']"
   ]
  },
  {
   "cell_type": "markdown",
   "metadata": {},
   "source": [
    "### Framework ICE"
   ]
  },
  {
   "cell_type": "code",
   "execution_count": 39,
   "metadata": {
    "scrolled": true
   },
   "outputs": [
    {
     "name": "stderr",
     "output_type": "stream",
     "text": [
      "C:\\Users\\Main\\AppData\\Local\\Temp\\ipykernel_13880\\1366058176.py:12: FutureWarning: \n",
      "\n",
      "Passing `palette` without assigning `hue` is deprecated and will be removed in v0.14.0. Assign the `y` variable to `hue` and set `legend=False` for the same effect.\n",
      "\n",
      "  sns.barplot(x='ICE_Score', y='Short_Hypothesis', data=hypotheses, palette='crest')\n"
     ]
    },
    {
     "data": {
      "image/png": "[encoded data removed]",
      "text/plain": [
       "<Figure size 1200x600 with 1 Axes>"
      ]
     },
     "metadata": {},
     "output_type": "display_data"
    }
   ],
   "source": [
    "# Ordenar el DataFrame por la columna ICE_Score en orden descendente\n",
    "hypotheses = hypotheses.sort_values(by='ICE_Score', ascending=False)\n",
    "\n",
    "# Usar expresiones regulares para extraer solo el texto antes del primer punto\n",
    "hypotheses['Short_Hypothesis'] = hypotheses['Hypothesis'].apply(lambda x: re.split(r'\\.', x)[0])\n",
    "\n",
    "# Configurar el estilo de Seaborn\n",
    "sns.set(style=\"whitegrid\")\n",
    "\n",
    "# Crear un gráfico de barras\n",
    "plt.figure(figsize=(12, 6))  # Ajusta el tamaño de la figura según sea necesario\n",
    "sns.barplot(x='ICE_Score', y='Short_Hypothesis', data=hypotheses, palette='crest')\n",
    "\n",
    "# Configurar títulos y etiquetas\n",
    "plt.title('Puntajes ICE por Hipótesis', fontsize=16)\n",
    "plt.xlabel('Puntaje ICE', fontsize=14)\n",
    "plt.ylabel('Hipótesis', fontsize=14)\n",
    "\n",
    "# Mostrar el gráfico\n",
    "plt.show()"
   ]
  },
  {
   "cell_type": "markdown",
   "metadata": {},
   "source": [
    "**Puntos clave priorizados por el ICE Score**\n",
    "\n",
    "1. **Prioridad clara basada en impacto y confianza**:\n",
    "La hipótesis con el mayor ICE Score es **\"Launch a promotion that gives users discounts\"** con un ICE Score de 16.2. Esta idea tiene un alto impacto (9) y confianza (9), aunque su alcance es bajo (1). Esto sugiere que, aunque esta iniciativa puede no llegar a todos los usuarios, tiene un impacto significativo en aquellos a los que afecta, lo que la convierte en una de las ideas más atractivas para implementar.\n",
    "\n",
    "**\"Add two new channels for attracting traffic\"** también tiene un ICE Score elevado de 13.33, lo que implica que podría generar un gran beneficio (impacto 10 y confianza 8), aunque requiere un esfuerzo considerable (6). Esto puede ser una estrategia de largo plazo que genere mucho valor.\n",
    "\n",
    "2. **Ideas de bajo esfuerzo y alto beneficio**:\n",
    "**\"Add a subscription form to all the main pages\"** tiene un ICE Score elevado de 11.2. Esta hipótesis combina un alcance (10) y confianza (8) altos con un esfuerzo relativamente moderado (5), lo que la convierte en una opción muy atractiva para implementación rápida. Podría llegar a una amplia base de usuarios con un buen potencial de impacto.\n",
    "\n",
    "**\"Show banners with current offers and sales on the main page\"** y **\"Add product recommendation blocks to the store website\"** también destacan con buenos ICE Scores (8.0 y 7.0, respectivamente). Estas ideas tienen un esfuerzo bajo (3), lo que sugiere que son implementaciones rápidas y efectivas con un beneficio considerable.\n",
    "\n",
    "3. **Ideas con bajo impacto o bajo retorno**:\n",
    "Las hipótesis como **\"Change the background color on the main page\"** y **\"Change the category structure\"** tienen ICE Scores bajos (1.0 y 1.12, respectivamente). A pesar de que son fáciles de implementar (esfuerzo bajo), su bajo impacto y confianza sugieren que no tendrán un efecto significativo en los resultados. Estas podrían ser descartadas o relegadas a un nivel de prioridad menor.\n",
    "\n",
    "**\"Add a customer review page\"** tiene un ICE Score de 1.33, lo que indica que, aunque puede ser útil, es probable que no tenga un impacto sustancial, y el esfuerzo puede no justificar su implementación inmediata.\n",
    "\n",
    "4. **Alto esfuerzo, bajo retorno**:\n",
    "La idea de **\"Launch your own delivery service\"** tiene un ICE Score de 2.0, debido a que el esfuerzo necesario es alto (10), pero su impacto y confianza no lo justifican completamente. Esta iniciativa sería costosa y difícil de implementar con un retorno relativamente bajo, por lo que probablemente no sea una buena inversión de recursos en este momento.\n",
    "\n",
    "**Conclusiones:**\n",
    "Las ideas más prioritarias parecen ser aquellas que tienen un impacto significativo y un esfuerzo moderado, como **\"Launch a promotion that gives users discounts\"**, **\"Add two new channels for attracting traffic\"**, y **\"Add a subscription form to all the main pages\"**.\n",
    "\n",
    "Las iniciativas de bajo esfuerzo y alto impacto, como **\"Show banners with current offers and sales on the main page\"** o **\"Add product recommendation blocks to the store website\"**, son soluciones rápidas y efectivas que podrían traer beneficios significativos con poco costo.\n",
    "\n",
    "Las ideas de bajo impacto o alto esfuerzo, como **\"Change the background color on the main page\"** o **\"Launch your own delivery service\"**, probablemente no sean rentables y deberían ser consideradas para futuro, si acaso.\n"
   ]
  },
  {
   "cell_type": "markdown",
   "metadata": {},
   "source": [
    "### Framework RICE"
   ]
  },
  {
   "cell_type": "code",
   "execution_count": 40,
   "metadata": {
    "scrolled": false
   },
   "outputs": [
    {
     "name": "stderr",
     "output_type": "stream",
     "text": [
      "C:\\Users\\Main\\AppData\\Local\\Temp\\ipykernel_13880\\349494330.py:12: FutureWarning: \n",
      "\n",
      "Passing `palette` without assigning `hue` is deprecated and will be removed in v0.14.0. Assign the `y` variable to `hue` and set `legend=False` for the same effect.\n",
      "\n",
      "  sns.barplot(x='RICE_Score', y='Short_Hypothesis', data=hypotheses, palette='autumn')\n"
     ]
    },
    {
     "data": {
      "image/png": "[encoded data removed]",
      "text/plain": [
       "<Figure size 1200x600 with 1 Axes>"
      ]
     },
     "metadata": {},
     "output_type": "display_data"
    }
   ],
   "source": [
    "# Ordenar el DataFrame por la columna ICE_Score en orden descendente\n",
    "hypotheses = hypotheses.sort_values(by='RICE_Score', ascending=False)\n",
    "\n",
    "# Configurar el estilo de Seaborn\n",
    "sns.set(style=\"whitegrid\")\n",
    "\n",
    "# Ordenar el DataFrame por RICE_Score de manera descendente\n",
    "hypotheses = hypotheses.sort_values('RICE_Score', ascending=False)\n",
    "\n",
    "# Crear un gráfico de barras\n",
    "plt.figure(figsize=(12, 6))  # Ajusta el tamaño de la figura según sea necesario\n",
    "sns.barplot(x='RICE_Score', y='Short_Hypothesis', data=hypotheses, palette='autumn')\n",
    "\n",
    "# Configurar títulos y etiquetas\n",
    "plt.title('Puntajes RICE por Hipótesis', fontsize=16)\n",
    "plt.xlabel('Puntaje RICE', fontsize=14)\n",
    "plt.ylabel('Hipótesis', fontsize=14)\n",
    "\n",
    "# Mostrar el gráfico\n",
    "plt.show()"
   ]
  },
  {
   "cell_type": "markdown",
   "metadata": {},
   "source": [
    "**Puntos clave basados en el RICE Score**\n",
    "\n",
    "1. **Mayor prioridad con alto alcance:**  \n",
    "La hipótesis **\"Add a subscription form to all the main pages\"** tiene el RICE Score más alto, con un 112.0. Esto se debe principalmente a su alto alcance (Reach de 10), lo que implica que podría llegar a la mayor cantidad de usuarios. Además, su impacto (7) y confianza (8) son bastante buenos, y el esfuerzo (5) es relativamente moderado. Esta es, sin duda, una de las iniciativas más prioritarias dado su amplio impacto potencial.\n",
    "\n",
    "2. **Estrategias con buen balance entre alcance y esfuerzo:**  \n",
    "Las hipótesis **\"Add two new channels for attracting traffic\"** y **\"Show banners with current offers and sales\"** comparten un RICE Score de 40.0. Estas ideas tienen un buen equilibrio entre alcance, impacto y confianza, aunque el esfuerzo es un poco más alto (6 y 3, respectivamente). Son opciones interesantes para implementar, ya que pueden generar beneficios considerables sin un esfuerzo desmedido.\n",
    "\n",
    "3. **Impacto considerable con esfuerzo moderado:**  \n",
    "La hipótesis **\"Add product recommendation blocks to the store\"** tiene un RICE Score de 56.0. Aunque su alcance es menor que la opción anterior (Reach de 8), sigue siendo una de las iniciativas más prometedoras con un esfuerzo relativamente bajo (3). Esta idea podría generar una mejora significativa en la experiencia del usuario con un esfuerzo razonable.\n",
    "\n",
    "4. **Menor prioridad debido a bajo alcance o alto esfuerzo:**  **\"Launch a promotion that gives users discounts\"** tiene un RICE Score de 16.2, que es considerablemente más bajo debido a su bajo alcance (Reach de 1). Aunque el impacto y la confianza son altos, el hecho de que esta iniciativa llegue a tan pocos usuarios limita su prioridad a pesar de ser beneficiosa para los que sí afecte.  **\"Launch your own delivery service\"** tiene un RICE Score bajo de 4.0, debido a un alto esfuerzo (10) en comparación con su impacto y confianza. Este tipo de idea sería costosa de implementar sin un retorno claro, por lo que probablemente no sea una de las mejores inversiones de recursos.\n",
    "\n",
    "5. **Iniciativas con muy bajo retorno:**  \n",
    "Las ideas como **\"Change the background color on the main page\"** tienen un RICE Score de 3.0, lo que sugiere que, a pesar de su bajo esfuerzo (1), el impacto es extremadamente bajo. Este tipo de iniciativa es la menos prioritaria, ya que no generaría un cambio significativo en los resultados generales.\n"
   ]
  },
  {
   "cell_type": "markdown",
   "metadata": {},
   "source": [
    "### Comparación de la Priorización de Hipótesis: RICE vs. ICE\n",
    "\n",
    "**1. Diferencias Fundamentales en el Enfoque:**\n",
    "- **RICE** (**Reach, Impact, Confidence, Effort**) se centra más en la **capacidad de llegar a los usuarios** y en el **impacto potencial** de la implementación en comparación con el **esfuerzo requerido**. Este método prioriza las iniciativas que tienen un **amplio alcance** y un **impacto significativo**, lo que permite identificar las oportunidades con mayor potencial para generar **beneficios amplios**.\n",
    "\n",
    "- **ICE** (**Impact, Confidence, Effort**) se centra en **impacto** y **confianza** de las hipótesis sin considerar el **alcance de la solución**. Esto puede resultar en priorizar iniciativas que, aunque son efectivas, podrían no tener el mismo nivel de **exposición a los usuarios**.\n",
    "\n",
    "**2. Cambios en la Prioridad:**\n",
    "- **Iniciativas de Alto Alcance:** Con el **RICE Score**, la hipótesis **\"Add a subscription form to all the main pages\"** recibe una **alta priorización** (**RICE Score de 112.0**) gracias a su **alto alcance** (**10**), lo que indica que puede **impactar a un gran número de usuarios**. En cambio, en el **ICE Score**, esta hipótesis se mantiene en la parte alta, pero el enfoque es **menos claro** en términos de **alcance**, ya que se evalúa sin considerar cuántos usuarios puede alcanzar realmente.\n",
    "\n",
    "- **Impacto Significativo pero de Bajo Alcance:** La hipótesis **\"Launch a promotion that gives users discounts\"** muestra un **ICE Score alto** (**16.2**) por su **impacto** y **confianza**, pero su **bajo alcance** (**RICE Score de 16.2**) limita su priorización en el contexto del **RICE**. Esto resalta cómo **RICE** puede priorizar otras hipótesis que puedan **impactar a más usuarios**, aunque el **impacto individual** sea menor.\n",
    "\n",
    "- **Estrategias Balanceadas:** Las hipótesis **\"Add two new channels for attracting traffic\"** y **\"Show banners with current offers and sales\"** obtienen un **RICE Score de 40.0**, lo que las coloca en un nivel prioritario **similar** al de **\"Add product recommendation blocks to the store\"** (**RICE Score de 56.0**). En el contexto de **ICE**, podrían no haber sido evaluadas tan favorablemente. **RICE** resalta la **importancia del alcance** y el **impacto conjunto**, lo que permite una evaluación más **balanceada**.\n",
    "\n",
    "- **Iniciativas de Bajo Impacto:** Ideas como **\"Change the background color on the main page\"** y **\"Change the category structure\"** que tienen puntuaciones **bajas** en ambos sistemas (**1.0** y **1.12**) se mantienen en la parte **baja** de la priorización. Sin embargo, el **RICE Score** muestra que, aunque el **esfuerzo** es **bajo**, el **impacto** es tan **mínimo** que no justifica su **implementación**, sugiriendo que estos esfuerzos podrían ser **mejor invertidos** en ideas con **mayor potencial de alcance**.\n"
   ]
  },
  {
   "cell_type": "markdown",
   "metadata": {},
   "source": [
    "## Análisis del test A/B"
   ]
  },
  {
   "cell_type": "markdown",
   "metadata": {},
   "source": [
    "**Introducción**  \n",
    "En este análisis, estamos evaluando los resultados de una prueba A/B. Una prueba A/B es una metodología común en el análisis de datos, utilizada para comparar dos grupos (en este caso, **Grupo A** y **Grupo B**) con el fin de identificar diferencias clave en su comportamiento. Nuestro objetivo es examinar el impacto de diferentes variables en el rendimiento de cada grupo, lo que nos ayudará a tomar decisiones informadas.\n",
    "\n",
    "**Las métricas que estamos evaluando incluyen:**\n",
    "\n",
    "- **Ingreso acumulado por grupo:** Veremos cómo evoluciona el ingreso total para cada grupo a lo largo del tiempo.\n",
    "- **Tamaño promedio de pedido acumulado:** Compararemos la evolución del tamaño promedio de los pedidos en ambos grupos.\n",
    "- **Tasa de conversión diaria:** Analizaremos cuántas visitas terminan en un pedido en cada grupo y cómo cambia esto día a día.\n",
    "- **Número de pedidos por usuario:** Exploraremos cómo se distribuyen los pedidos entre los usuarios.\n",
    "- **Precios de los pedidos:** Investigaremos los precios de los pedidos para detectar patrones o anomalías.\n",
    "\n",
    "Además, evaluaremos la **significancia estadística** de las diferencias encontradas entre los grupos, tanto en términos de tasa de conversión como del tamaño promedio de pedido. Este análisis nos permitirá concluir si uno de los grupos muestra un rendimiento superior, si no hay diferencias significativas, o si es necesario continuar la prueba.\n"
   ]
  },
  {
   "cell_type": "markdown",
   "metadata": {},
   "source": [
    "### Ingreso acumulado por grupo."
   ]
  },
  {
   "cell_type": "code",
   "execution_count": 41,
   "metadata": {
    "scrolled": true
   },
   "outputs": [],
   "source": [
    "# Define el orden de las categorías si es necesario\n",
    "group_type = CategoricalDtype(categories=['A', 'B'], ordered=True)\n",
    "\n",
    "# Convierte la columna 'group' en una categórica ordenada\n",
    "orders['group'] = orders['group'].astype(group_type)\n",
    "visits['group'] = visits['group'].astype(group_type)\n",
    "\n",
    "# Crear un DataFrame con las combinaciones únicas de 'date' y 'group'\n",
    "datesGroups = orders[['date', 'group']].drop_duplicates()\n",
    "\n",
    "# Agrupación acumulativa de los datos de 'orders'\n",
    "ordersAggregated = datesGroups.apply(\n",
    "    lambda x: orders[\n",
    "        np.logical_and(orders['date'] <= x['date'], orders['group'] == x['group'])\n",
    "    ].agg({\n",
    "        'date': 'max',                # Fecha máxima\n",
    "        'group': 'max',               # Grupo A/B\n",
    "        'transactionId': pd.Series.nunique,  # Número de pedidos únicos (transactionId)\n",
    "        'visitorId': pd.Series.nunique,      # Número de usuarios únicos (visitorId)\n",
    "        'revenue': 'sum'              # Suma de los ingresos\n",
    "    }), axis=1).sort_values(by=['date', 'group'])\n",
    "\n",
    "# Agrupación acumulativa de los datos de 'visits'\n",
    "visitsAggregated = datesGroups.apply(\n",
    "    lambda x: visits[\n",
    "        np.logical_and(visits['date'] <= x['date'], visits['group'] == x['group'])\n",
    "    ].agg({\n",
    "        'date': 'max',        # Fecha máxima\n",
    "        'group': 'max',       # Grupo A/B\n",
    "        'visits': 'sum'       # Suma de las visitas\n",
    "    }), axis=1).sort_values(by=['date', 'group'])\n",
    "\n",
    "# Unir los datos acumulados de orders y visits\n",
    "cumulativeData = ordersAggregated.merge(visitsAggregated, left_on=['date', 'group'], right_on=['date', 'group'])\n",
    "\n",
    "# Renombrar columnas para que sean más descriptivas\n",
    "cumulativeData.columns = ['date', 'group', 'orders', 'buyers', 'revenue', 'visitors']\n"
   ]
  },
  {
   "cell_type": "markdown",
   "metadata": {},
   "source": [
    "**Filtrar los datos**"
   ]
  },
  {
   "cell_type": "code",
   "execution_count": 42,
   "metadata": {},
   "outputs": [],
   "source": [
    "# Filtrar los datos acumulados para el grupo A, seleccionando las columnas 'date', 'revenue', y 'orders'\n",
    "cumulativeRevenueA = cumulativeData[cumulativeData['group']=='A'][['date','revenue', 'orders']]\n",
    "\n",
    "# Filtrar los datos acumulados para el grupo B, seleccionando las columnas 'date', 'revenue', y 'orders'\n",
    "cumulativeRevenueB = cumulativeData[cumulativeData['group']=='B'][['date','revenue', 'orders']]"
   ]
  },
  {
   "cell_type": "markdown",
   "metadata": {},
   "source": [
    "**Crear un gráfico**"
   ]
  },
  {
   "cell_type": "code",
   "execution_count": 43,
   "metadata": {},
   "outputs": [
    {
     "data": {
      "image/png": "[encoded data removed]",
      "text/plain": [
       "<Figure size 1000x600 with 1 Axes>"
      ]
     },
     "metadata": {},
     "output_type": "display_data"
    }
   ],
   "source": [
    "# Crear un gráfico\n",
    "plt.figure(figsize=(10, 6))\n",
    "\n",
    "# Trazar el gráfico de ingresos del grupo A\n",
    "plt.plot(cumulativeRevenueA['date'], cumulativeRevenueA['revenue'], label='Grupo A', color='blue')\n",
    "plt.scatter(cumulativeRevenueA['date'], cumulativeRevenueA['revenue'], color='blue', s=10)  # Agregar puntos para el grupo A\n",
    "\n",
    "# Trazar el gráfico de ingresos del grupo B\n",
    "plt.plot(cumulativeRevenueB['date'], cumulativeRevenueB['revenue'], label='Grupo B', color='red')\n",
    "plt.scatter(cumulativeRevenueB['date'], cumulativeRevenueB['revenue'], color='red', s=10)  # Agregar puntos para el grupo B\n",
    "\n",
    "# Mejorar las leyendas\n",
    "plt.title('Comparación de ingresos acumulados entre Grupo A y Grupo B')\n",
    "plt.xlabel('Fecha')\n",
    "plt.ylabel('Ingresos acumulados')\n",
    "\n",
    "# Formatear el eje de fechas para que sea más claro\n",
    "plt.gca().xaxis.set_major_formatter(mdates.DateFormatter('%d-%m-%Y'))\n",
    "plt.gca().xaxis.set_major_locator(mdates.WeekdayLocator(interval=1))\n",
    "plt.gcf().autofmt_xdate()\n",
    "\n",
    "# Agregar una cuadrícula\n",
    "plt.grid(True)\n",
    "\n",
    "# Mostrar leyenda con título\n",
    "plt.legend(title=\"Grupos\")\n",
    "\n",
    "# Mostrar gráfico\n",
    "plt.show()\n"
   ]
  },
  {
   "cell_type": "markdown",
   "metadata": {},
   "source": [
    "- **Diferencia significativa en ingresos acumulados:** El **Grupo B** generó notablemente más ingresos que el **Grupo A** al final del período analizado. Al **31 de agosto de 2019**, el **Grupo B** acumuló aproximadamente **79,651.2** en ingresos, mientras que el **Grupo A** acumuló **53,212.0**. Esto muestra una diferencia de más de **26,000 unidades monetarias** a favor del **Grupo B**.\n",
    "\n",
    "- **Ritmo de crecimiento en ingresos:** El **Grupo B** experimentó un crecimiento más acelerado en ingresos a partir del **19 de agosto de 2019**, cuando los ingresos acumulados se dispararon de **34,684.7** el **18 de agosto** a **56,749.6** el día siguiente. Este fuerte crecimiento no se observó de manera tan pronunciada en el **Grupo A**, que creció de **29,735.7** a **32,389.3** en el mismo período.\n",
    "\n",
    "- **Tendencia general:** A lo largo del experimento, el **Grupo B** ha mantenido consistentemente un mayor nivel de ingresos en comparación con el **Grupo A**. Esto sugiere que las modificaciones o estrategias aplicadas al **Grupo B** fueron más efectivas en generar ingresos que las aplicadas al **Grupo A**.\n",
    "\n",
    "- **Pedidos acumulados:** El número de pedidos también fue mayor en el **Grupo B**, alcanzando **548 pedidos** el **31 de agosto**, frente a los **468 pedidos** del **Grupo A**. Aunque la diferencia en pedidos no es tan amplia como la de los ingresos, indica que el **Grupo B** no solo atrajo más ingresos por pedido, sino también un volumen ligeramente mayor de transacciones.\n",
    "\n",
    "**Conclusiones:**\n",
    "- El **Grupo B** parece estar funcionando mejor tanto en términos de ingresos como de número de pedidos.\n",
    "- El mayor salto en ingresos para el **Grupo B** a partir del **19 de agosto** merece una investigación más profunda para identificar qué cambio específico podría haber desencadenado este aumento.\n"
   ]
  },
  {
   "cell_type": "markdown",
   "metadata": {},
   "source": [
    "### Tamaño de pedido promedio acumulado por grupo."
   ]
  },
  {
   "cell_type": "code",
   "execution_count": 44,
   "metadata": {},
   "outputs": [
    {
     "data": {
      "image/png": "[encoded data removed]",
      "text/plain": [
       "<Figure size 1000x600 with 1 Axes>"
      ]
     },
     "metadata": {},
     "output_type": "display_data"
    }
   ],
   "source": [
    "# Crear un gráfico\n",
    "plt.figure(figsize=(10, 6))\n",
    "\n",
    "# Trazar el gráfico del tamaño promedio de pedido del grupo A\n",
    "plt.plot(cumulativeRevenueA['date'], cumulativeRevenueA['revenue'] / cumulativeRevenueA['orders'], label='Grupo A', color='blue')\n",
    "plt.scatter(cumulativeRevenueA['date'], cumulativeRevenueA['revenue'] / cumulativeRevenueA['orders'], color='blue', s=10)  # Agregar puntos para el grupo A\n",
    "\n",
    "# Trazar el gráfico del tamaño promedio de pedido del grupo B\n",
    "plt.plot(cumulativeRevenueB['date'], cumulativeRevenueB['revenue'] / cumulativeRevenueB['orders'], label='Grupo B', color='red')\n",
    "plt.scatter(cumulativeRevenueB['date'], cumulativeRevenueB['revenue'] / cumulativeRevenueB['orders'], color='red', s=10)  # Agregar puntos para el grupo B\n",
    "\n",
    "# Mejorar las leyendas\n",
    "plt.title('Comparación del tamaño promedio de pedido entre Grupo A y Grupo B')\n",
    "plt.xlabel('Fecha')\n",
    "plt.ylabel('Tamaño promedio del pedido')\n",
    "\n",
    "# Formatear el eje de fechas para que sea más claro\n",
    "plt.gca().xaxis.set_major_formatter(mdates.DateFormatter('%d-%m-%Y'))\n",
    "plt.gca().xaxis.set_major_locator(mdates.WeekdayLocator(interval=1))\n",
    "plt.gcf().autofmt_xdate()\n",
    "\n",
    "# Agregar una cuadrícula\n",
    "plt.grid(True)\n",
    "\n",
    "# Mostrar leyenda con título\n",
    "plt.legend(title=\"Grupos\")\n",
    "\n",
    "# Mostrar gráfico\n",
    "plt.show()\n"
   ]
  },
  {
   "cell_type": "markdown",
   "metadata": {},
   "source": [
    "**Grupo A**\n",
    "- **Tamaño promedio del pedido**: Al analizar los datos, observamos que el tamaño promedio del pedido en el **Grupo A** comenzó el **1 de agosto** con un valor de aproximadamente **98.5**. Sin embargo, a medida que avanzó el mes, este promedio descendió ligeramente, llegando a **72.7** el **6 de agosto**. Después de esa fecha, el tamaño del pedido promedio comenzó a aumentar de manera constante, llegando a **113.7** hacia el final de agosto.\n",
    "\n",
    "- **Comportamiento del tamaño del pedido**: El **Grupo A** muestra un comportamiento inicial algo inestable, con una caída en el tamaño promedio del pedido en la primera mitad del mes. Sin embargo, en la segunda mitad, se observó una recuperación y un crecimiento continuo. Este aumento podría deberse a factores como una mayor disposición de los clientes a gastar o a promociones que incentivaron pedidos de mayor valor.\n",
    "\n",
    "**Grupo B**\n",
    "- **Tamaño promedio del pedido**: Aunque no se tiene el tamaño promedio calculado directamente como en el **Grupo A**, podemos estimar el tamaño del pedido dividiendo los ingresos por el número de pedidos. El **Grupo B** comenzó el mes con ingresos y un número de pedidos más bajos en comparación con el **Grupo A**. Sin embargo, el **Grupo B** mostró un crecimiento constante en ambos indicadores y terminó el mes con ingresos más altos (**79,651.2** en comparación con **53,212.0** en el **Grupo A**).\n",
    "\n",
    "- **Comportamiento del tamaño del pedido**: A pesar de tener menos pedidos inicialmente, el **Grupo B** mostró un incremento constante en el número de pedidos y en los ingresos a lo largo del mes. Esto sugiere que el **Grupo B** podría haber implementado estrategias que generaron un mayor volumen de pedidos y mayores ingresos\n",
    "\n",
    "**Conclusiones y Conjeturas**\n",
    "- **Promociones o estrategias diferenciadas**: Es posible que el **Grupo B** haya empleado estrategias más efectivas, como promociones o descuentos, que impulsaron tanto los ingresos como el número de pedidos de manera más eficiente que en el **Grupo A**.\n",
    "- **Preferencias de los clientes**: El **Grupo A** muestra un comportamiento más inestable en el tamaño promedio del pedido, mientras que el **Grupo B** es más consistente. Esto podría indicar que los clientes del **Grupo B** respondieron mejor a las ofertas o tenían mayor disposición a gastar.\n",
    "- **Impacto de eventos específicos**: Los aumentos en los tamaños promedio de los pedidos en ambos grupos podrían estar relacionados con momentos clave, como fines de semana o promociones especiales, cuando los clientes suelen hacer compras más grandes.\n"
   ]
  },
  {
   "cell_type": "markdown",
   "metadata": {},
   "source": [
    "### Diferencia relativa en el tamaño de pedido promedio acumulado para el grupo B en comparación con el grupo A."
   ]
  },
  {
   "cell_type": "code",
   "execution_count": 45,
   "metadata": {
    "scrolled": false
   },
   "outputs": [
    {
     "data": {
      "image/png": "[encoded data removed]",
      "text/plain": [
       "<Figure size 1000x600 with 1 Axes>"
      ]
     },
     "metadata": {},
     "output_type": "display_data"
    }
   ],
   "source": [
    "# Unir los DataFrames por fecha\n",
    "mergedCumulativeRevenue = pd.merge(cumulativeRevenueA, cumulativeRevenueB, on='date', suffixes=('A', 'B'))\n",
    "\n",
    "# Crear un gráfico\n",
    "plt.figure(figsize=(10, 6))\n",
    "\n",
    "# Trazar un gráfico de diferencia relativa para los tamaños de compra promedio\n",
    "plt.plot(\n",
    "    mergedCumulativeRevenue['date'], \n",
    "    (mergedCumulativeRevenue['revenueB'] / mergedCumulativeRevenue['ordersB']) / \n",
    "    (mergedCumulativeRevenue['revenueA'] / mergedCumulativeRevenue['ordersA']) - 1, \n",
    "    label='Diferencia relativa', color='orange'\n",
    ")\n",
    "\n",
    "# Agregar una línea horizontal en y=0\n",
    "plt.axhline(y=0, color='black', linestyle='--', label='Sin diferencia')\n",
    "\n",
    "# Mejorar las leyendas\n",
    "plt.title('Diferencia relativa en el tamaño de pedido promedio acumulado para el grupo B en comparación con el grupo A')\n",
    "plt.xlabel('Fecha')\n",
    "plt.ylabel('Diferencia relativa (%)')\n",
    "\n",
    "# Formatear el eje de fechas para que sea más claro\n",
    "plt.gca().xaxis.set_major_formatter(mdates.DateFormatter('%d-%m-%Y'))\n",
    "plt.gca().xaxis.set_major_locator(mdates.WeekdayLocator(interval=1))\n",
    "plt.gcf().autofmt_xdate()\n",
    "\n",
    "# Agregar una cuadrícula\n",
    "plt.grid(True)\n",
    "\n",
    "# Mostrar leyenda con título\n",
    "plt.legend(title=\"Análisis\")\n",
    "\n",
    "# Mostrar gráfico\n",
    "plt.show()"
   ]
  },
  {
   "cell_type": "markdown",
   "metadata": {},
   "source": [
    "**Conclusiones**\n",
    "\n",
    "1. **Tendencia Inicial Negativa**: Al inicio del periodo (del 1 al 18 de agosto), la diferencia relativa presenta valores negativos, indicando que el grupo B tiene un tamaño de pedido promedio acumulado menor que el grupo A. Esto sugiere que durante esta fase, el grupo B podría haber estado enfrentando dificultades o una menor demanda.\n",
    "\n",
    "2. **Mejora Significativa**: A partir del 18 de agosto, la diferencia relativa cambia drásticamente, mostrando valores positivos. El 19 de agosto, la diferencia relativa alcanza un 0.505404, lo que indica un aumento significativo en el tamaño de pedido promedio acumulado para el grupo B en comparación con el grupo A.\n",
    "\n",
    "3. **Consistencia en el Crecimiento**: Desde el 19 de agosto hasta el 30 de agosto, la diferencia relativa se mantiene en un rango positivo y relativamente alto (entre 0.288151 y 0.505404). Esto indica que el grupo B ha logrado una consistencia en el aumento del tamaño de pedido promedio, superando al grupo A durante esta fase.\n",
    "\n",
    "4. **Máximo Aumento**: El mayor aumento en la diferencia relativa se observa el 19 de agosto, seguido de un ligero descenso y una estabilización en los días posteriores. Esto puede sugerir que se alcanzó un punto máximo, y luego el crecimiento se moderó, aunque sigue siendo positivo.\n",
    "\n",
    "**Conjeturas**\n",
    "\n",
    "1. **Cambios en Estrategia de Marketing o Ventas**: La mejora en el tamaño de pedido promedio acumulado del grupo B puede deberse a cambios en las estrategias de marketing, promociones o descuentos que hayan atraído a más clientes o incrementado el tamaño de los pedidos.\n",
    "\n",
    "2. **Satisfacción del Cliente**: Si el grupo B ha implementado mejoras en el servicio al cliente, esto podría haber llevado a una mayor lealtad y a un aumento en los pedidos.\n",
    "\n",
    "3. **Condiciones del Mercado**: Las condiciones externas, como una mayor demanda en el mercado o cambios en las preferencias de los consumidores, podrían haber beneficiado al grupo B, resultando en un crecimiento más rápido en comparación con el grupo A.\n",
    "\n",
    "4. **Efectos de Temporada**: Es posible que el periodo en cuestión haya coincidido con una temporada alta de ventas, lo que pudo haber influido en el incremento del tamaño de pedido promedio acumulado.\n",
    "\n",
    "5. **Segmentación de Clientes**: Podría haber una segmentación más efectiva de los clientes en el grupo B, lo que permitió captar mejor las necesidades del mercado y optimizar el tamaño de los pedidos.\n",
    "\n"
   ]
  },
  {
   "cell_type": "markdown",
   "metadata": {},
   "source": [
    "### Tasa de conversión de cada grupo."
   ]
  },
  {
   "cell_type": "code",
   "execution_count": 46,
   "metadata": {
    "scrolled": true
   },
   "outputs": [],
   "source": [
    "# Renombrar columnas para que sean más descriptivas\n",
    "cumulativeData.columns = [\n",
    "    'date',\n",
    "    'group',\n",
    "    'orders',\n",
    "    'buyers',\n",
    "    'revenue',\n",
    "    'visitors',\n",
    "]\n",
    "\n",
    "# Calcular la tasa de conversión\n",
    "cumulativeData['conversion'] = (\n",
    "    cumulativeData['orders'] / cumulativeData['visitors']\n",
    ")\n",
    "\n",
    "# Filtrar los datos acumulados por grupo A y B\n",
    "cumulativeDataA = cumulativeData[cumulativeData['group'] == 'A']\n",
    "cumulativeDataB = cumulativeData[cumulativeData['group'] == 'B']"
   ]
  },
  {
   "cell_type": "code",
   "execution_count": 47,
   "metadata": {
    "scrolled": false
   },
   "outputs": [
    {
     "data": {
      "image/png": "[encoded data removed]",
      "text/plain": [
       "<Figure size 640x480 with 1 Axes>"
      ]
     },
     "metadata": {},
     "output_type": "display_data"
    }
   ],
   "source": [
    "# Filtrar los datos acumulados por grupo A y B\n",
    "cumulativeDataA = cumulativeData[cumulativeData['group'] == 'A']\n",
    "cumulativeDataB = cumulativeData[cumulativeData['group'] == 'B']\n",
    "\n",
    "# Trazar la tasa de conversión para ambos grupos\n",
    "plt.plot(cumulativeDataA['date'], cumulativeDataA['conversion'], label='Grupo A')\n",
    "plt.plot(cumulativeDataB['date'], cumulativeDataB['conversion'], label='Grupo B')\n",
    "\n",
    "# Personalizar la leyenda y los ejes\n",
    "plt.legend()\n",
    "\n",
    "# Establecer el rango de fechas según los datos disponibles\n",
    "plt.axis([pd.to_datetime('2019-08-01'), pd.to_datetime('2019-08-31'), 0, 0.05])\n",
    "\n",
    "# Formatear el eje X para mostrar las fechas por semana\n",
    "plt.gca().xaxis.set_major_locator(mdates.WeekdayLocator())\n",
    "plt.gca().xaxis.set_major_formatter(mdates.DateFormatter('%Y-%m-%d'))\n",
    "\n",
    "# Rotar las etiquetas del eje X\n",
    "plt.xticks(rotation=45)\n",
    "\n",
    "# Mostrar el gráfico\n",
    "plt.title('Tasa de Conversión Acumulada por Grupo')\n",
    "plt.xlabel('Fecha')\n",
    "plt.ylabel('Tasa de Conversión')\n",
    "plt.grid(True)\n",
    "plt.tight_layout()  # Ajustar el diseño para que no se superpongan los elementos\n",
    "plt.show()\n"
   ]
  },
  {
   "cell_type": "markdown",
   "metadata": {},
   "source": [
    "**Diferencias Observadas**\n",
    "\n",
    "- **Tasa de Conversión del Grupo A:** En general, la tasa de conversión del grupo A parece ser más alta que la del grupo B en la mayoría de los días, especialmente al principio del mes. La tasa de conversión varía, pero no muestra grandes picos ni caídas drásticas.\n",
    "\n",
    "- **Tasa de Conversión del Grupo B:** La tasa de conversión del grupo B es generalmente más baja, aunque presenta algunas mejoras en ciertos días, especialmente hacia el final del mes.\n",
    "\n",
    "**Conclusiones y Conjeturas**\n",
    "\n",
    "- **Consistencia:** El grupo A muestra una tasa de conversión más consistente a lo largo del mes, mientras que el grupo B tiene fluctuaciones más pronunciadas. Esto podría indicar que las estrategias de marketing o la experiencia del usuario en el grupo A son más efectivas.\n",
    "\n",
    "- **Factores Externos:** Las diferencias en la tasa de conversión podrían estar influenciadas por factores externos, como campañas de publicidad, promociones, o incluso el comportamiento estacional de los consumidores.\n",
    "\n",
    "- **Necesidad de Análisis Adicional:** Se recomienda realizar un análisis más profundo de los factores que podrían estar influyendo en las tasas de conversión, como la segmentación de la audiencia, el canal de adquisición, y el producto en sí.\n",
    "\n",
    "- **Estrategias a Implementar:** Considerar implementar estrategias del grupo A en el grupo B para tratar de aumentar su tasa de conversión, tales como promociones, ajustes en la experiencia de usuario, o mejoras en la comunicación.\n"
   ]
  },
  {
   "cell_type": "code",
   "execution_count": 48,
   "metadata": {
    "scrolled": false
   },
   "outputs": [
    {
     "data": {
      "image/png": "[encoded data removed]",
      "text/plain": [
       "<Figure size 640x480 with 1 Axes>"
      ]
     },
     "metadata": {},
     "output_type": "display_data"
    }
   ],
   "source": [
    "# Unir las conversiones acumuladas de ambos grupos\n",
    "mergedCumulativeConversions = cumulativeDataA[['date', 'conversion']].merge(\n",
    "    cumulativeDataB[['date', 'conversion']],\n",
    "    on='date',\n",
    "    how='left',\n",
    "    suffixes=['A', 'B'],\n",
    ")\n",
    "\n",
    "# Calcular la diferencia relativa\n",
    "mergedCumulativeConversions['relative_difference'] = (\n",
    "    mergedCumulativeConversions['conversionB'] / mergedCumulativeConversions['conversionA'] - 1\n",
    ")\n",
    "\n",
    "# Trazar la diferencia relativa\n",
    "plt.plot(mergedCumulativeConversions['date'], mergedCumulativeConversions['relative_difference'], label='Diferencia Relativa')\n",
    "\n",
    "# Añadir líneas de referencia\n",
    "plt.axhline(y=0, color='black', linestyle='--', label='Sin Cambio')\n",
    "plt.axhline(y=0.2, color='grey', linestyle='--', label='20% de Aumento')\n",
    "\n",
    "# Ajustar el rango del eje x de acuerdo con los datos\n",
    "plt.axis([mergedCumulativeConversions['date'].min(), mergedCumulativeConversions['date'].max(), -0.5, 0.5])\n",
    "\n",
    "# Formatear el eje X para mostrar las fechas por semana\n",
    "plt.gca().xaxis.set_major_locator(mdates.WeekdayLocator())\n",
    "plt.gca().xaxis.set_major_formatter(mdates.DateFormatter('%Y-%m-%d'))\n",
    "\n",
    "# Rotar las etiquetas del eje X\n",
    "plt.xticks(rotation=45)\n",
    "\n",
    "# Personalizar el gráfico\n",
    "plt.title('Diferencia Relativa en la Tasa de Conversión Acumulada (Grupo B vs Grupo A)')\n",
    "plt.xlabel('Fecha')\n",
    "plt.ylabel('Diferencia Relativa')\n",
    "plt.grid(True)\n",
    "plt.legend(title=\"Análisis\")\n",
    "plt.tight_layout()  # Ajustar el diseño para que no se superpongan los elementos\n",
    "plt.show()"
   ]
  },
  {
   "cell_type": "markdown",
   "metadata": {},
   "source": [
    "- **Tendencia General:** La diferencia relativa comienza en un valor negativo significativo (-0.254650) el 1 de agosto, lo que indica que el Grupo B tuvo una tasa de conversión mucho más baja en comparación con el Grupo A al inicio del mes. A lo largo del mes, la tendencia de la diferencia relativa muestra una clara mejora, pasando a ser positiva a partir del 7 de agosto.\n",
    "\n",
    "- **Mejora Progresiva:** Desde el 8 de agosto hasta el 15 de agosto, la diferencia relativa muestra un crecimiento constante, alcanzando un valor máximo de 0.210440 el 17 de agosto. Esto indica que el Grupo B ha ido mejorando su tasa de conversión de manera continua y sostenida. La diferencia relativa se mantiene positiva y relativamente alta en los días siguientes, sugiriendo que el Grupo B ha igualado o superado a Grupo A en términos de tasa de conversión.\n",
    "\n",
    "- **Estabilidad de la Diferencia:** A partir del 18 de agosto, aunque hay ligeras fluctuaciones, la diferencia relativa se mantiene generalmente por encima de 0, lo que indica que, en promedio, el Grupo B ha tenido un rendimiento superior al Grupo A en la segunda mitad del mes.\n",
    "\n",
    "- **Oportunidades de Análisis Adicional:** Sería útil investigar qué factores contribuyeron a la mejora en la tasa de conversión del Grupo B en la segunda mitad del mes. Esto podría incluir estrategias de marketing, cambios en la oferta de productos, ajustes en la experiencia del usuario, o influencias externas como promociones.\n",
    "\n",
    "- **Rendimiento en Fechas Clave:** Observar el rendimiento en fechas clave puede proporcionar información adicional sobre patrones de comportamiento del consumidor. Por ejemplo, si se llevaron a cabo campañas de marketing o promociones en fechas específicas que coincidieron con picos en la diferencia relativa.\n",
    "\n",
    "- **Recomendaciones:** Dada la tendencia positiva en la tasa de conversión del Grupo B, podría ser valioso considerar replicar las estrategias implementadas en ese grupo en otros segmentos o en el Grupo A para maximizar las conversiones.\n"
   ]
  },
  {
   "cell_type": "markdown",
   "metadata": {},
   "source": [
    "### Gráfico de dispersión del número de pedidos por usuario. "
   ]
  },
  {
   "cell_type": "code",
   "execution_count": 49,
   "metadata": {
    "scrolled": false
   },
   "outputs": [
    {
     "data": {
      "image/png": "[encoded data removed]",
      "text/plain": [
       "<Figure size 640x480 with 1 Axes>"
      ]
     },
     "metadata": {},
     "output_type": "display_data"
    }
   ],
   "source": [
    "# Agrupar las órdenes por usuario\n",
    "ordersByUsers = (\n",
    "    orders.drop(['group', 'revenue', 'date'], axis=1)\n",
    "    .groupby('visitorId', as_index=False)\n",
    "    .agg({'transactionId': pd.Series.nunique})\n",
    ")\n",
    "\n",
    "# Renombrar la columna para evitar duplicados\n",
    "ordersByUsers.columns = ['visitorId', 'transactionCount']\n",
    "\n",
    "# Crear un rango de números desde 0 hasta el número de observaciones en ordersByUsers\n",
    "x_values = pd.Series(range(0, len(ordersByUsers)))\n",
    "\n",
    "# Graficar la cantidad de transacciones por usuario\n",
    "plt.scatter(x_values, ordersByUsers['transactionCount'])\n",
    "plt.title('Cantidad de Transacciones por Usuario')\n",
    "plt.xlabel('Usuario')\n",
    "plt.ylabel('Cantidad de Transacciones')\n",
    "plt.grid(True)\n",
    "\n",
    "# Establecer el rango y las etiquetas del eje Y\n",
    "plt.yticks([0, 1, 2, 3, 4])  # Solo mostrar 0, 1, 2, 3 y 4\n",
    "\n",
    "plt.show()"
   ]
  },
  {
   "cell_type": "markdown",
   "metadata": {},
   "source": [
    "El gráfico de dispersión generado por este código revela que la **gran mayoría de los usuarios realizan solo una transacción**. Esta tendencia es tan marcada que **los puntos se agrupan en una línea continua**. En contraste, **los clientes que realizan dos órdenes son significativamente menos**, lo que se refleja en la presencia de algunos puntos dispersos, pero no suficientes para formar una línea, dejando espacios vacíos en el gráfico. Por último, **los usuarios que hicieron tres órdenes son realmente escasos**, al punto de que es factible contarlos manualmente. Este patrón sugiere que la mayoría de los usuarios **se involucran de manera mínima en el proceso de compra**, lo que podría indicar la necesidad de **estrategias adicionales para fomentar un mayor número de transacciones** por parte de los clientes.\n"
   ]
  },
  {
   "cell_type": "markdown",
   "metadata": {},
   "source": [
    "### Percentiles 95 y 99 para el número de pedidos por usuario."
   ]
  },
  {
   "cell_type": "code",
   "execution_count": 50,
   "metadata": {
    "scrolled": true
   },
   "outputs": [
    {
     "name": "stdout",
     "output_type": "stream",
     "text": [
      "Informe de Pedidos por Usuario:\n",
      "=====================================\n",
      "Percentil 90: 1.00 - El 90% de los usuarios han realizado hasta 1.00 pedidos.\n",
      "Percentil 95: 1.00 - El 95% de los usuarios han realizado hasta 1.00 pedidos.\n",
      "Percentil 99: 2.00 - El 99% de los usuarios han realizado hasta 2.00 pedidos.\n"
     ]
    }
   ],
   "source": [
    "# Calcular los percentiles 90, 95 y 99\n",
    "percentiles = np.percentile(ordersByUsers['transactionCount'], [90, 95, 99])\n",
    "\n",
    "# Crear un informe en formato de texto\n",
    "print(\"Informe de Pedidos por Usuario:\")\n",
    "print(\"=====================================\")\n",
    "print(f\"Percentil 90: {percentiles[0]:.2f} - El 90% de los usuarios han realizado hasta {percentiles[0]:.2f} pedidos.\")\n",
    "print(f\"Percentil 95: {percentiles[1]:.2f} - El 95% de los usuarios han realizado hasta {percentiles[1]:.2f} pedidos.\")\n",
    "print(f\"Percentil 99: {percentiles[2]:.2f} - El 99% de los usuarios han realizado hasta {percentiles[2]:.2f} pedidos.\")"
   ]
  },
  {
   "cell_type": "markdown",
   "metadata": {},
   "source": [
    "### Gráfico de dispersión de los precios de los pedidos."
   ]
  },
  {
   "cell_type": "code",
   "execution_count": 51,
   "metadata": {
    "scrolled": false
   },
   "outputs": [
    {
     "data": {
      "image/png": "[encoded data removed]",
      "text/plain": [
       "<Figure size 640x480 with 1 Axes>"
      ]
     },
     "metadata": {},
     "output_type": "display_data"
    }
   ],
   "source": [
    "x_values = pd.Series(range(0, len(orders['revenue'])))\n",
    "\n",
    "# Crear el gráfico de dispersión\n",
    "plt.scatter(x_values, orders['revenue'])\n",
    "plt.title('Gráfico de dispersión de los precios de los pedidos')\n",
    "plt.xlabel('Ordenes')\n",
    "plt.ylabel('Ingreso')\n",
    "plt.show()"
   ]
  },
  {
   "cell_type": "markdown",
   "metadata": {},
   "source": [
    "Se observa una clara tendencia en la relación entre las órdenes y los ingresos generados. Visualmente, se puede notar que las órdenes con dificultades tienen una probabilidad muy baja de superar un ingreso de **2000** , ya que solo se registran dos puntos por encima de **2500**."
   ]
  },
  {
   "cell_type": "markdown",
   "metadata": {},
   "source": [
    "### Percentiles 95 y 99 de los precios de los pedidos."
   ]
  },
  {
   "cell_type": "code",
   "execution_count": 52,
   "metadata": {},
   "outputs": [
    {
     "name": "stdout",
     "output_type": "stream",
     "text": [
      "Informe de Ingresos por porcentaje de usuarios:\n",
      "=====================================\n",
      "Percentil 90: 280.80 - El 90% de los usuarios han generado hasta 280.80 en ingresos.\n",
      "Percentil 95: 414.27 - El 95% de los usuarios han generado hasta 414.27 en ingresos.\n",
      "Percentil 99: 830.30 - El 99% de los usuarios han generado hasta 830.30 en ingresos.\n"
     ]
    }
   ],
   "source": [
    "# Calcular los percentiles 90, 95 y 99\n",
    "percentiles = np.percentile(orders['revenue'], [90, 95, 99])\n",
    "\n",
    "# Crear un informe en formato de texto\n",
    "print(\"Informe de Ingresos por porcentaje de usuarios:\")\n",
    "print(\"=====================================\")\n",
    "print(f\"Percentil 90: {percentiles[0]:.2f} - El 90% de los usuarios han generado hasta {percentiles[0]:.2f} en ingresos.\")\n",
    "print(f\"Percentil 95: {percentiles[1]:.2f} - El 95% de los usuarios han generado hasta {percentiles[1]:.2f} en ingresos.\")\n",
    "print(f\"Percentil 99: {percentiles[2]:.2f} - El 99% de los usuarios han generado hasta {percentiles[2]:.2f} en ingresos.\")"
   ]
  },
  {
   "cell_type": "markdown",
   "metadata": {},
   "source": [
    "### Significancia estadística de la diferencia en la conversión."
   ]
  },
  {
   "cell_type": "code",
   "execution_count": 53,
   "metadata": {
    "scrolled": true
   },
   "outputs": [
    {
     "name": "stdout",
     "output_type": "stream",
     "text": [
      "p-value: 0.000\n",
      "Diferencia relativa en la conversión: 0.090\n"
     ]
    }
   ],
   "source": [
    "# Filtrar los datos de conversión de los grupos A y B\n",
    "cumulativeDataA = cumulativeData[cumulativeData['group'] == 'A']['conversion'].astype(float)\n",
    "cumulativeDataB = cumulativeData[cumulativeData['group'] == 'B']['conversion'].astype(float)\n",
    "\n",
    "# Realizar la prueba de Mann-Whitney U\n",
    "p_value_conversion = stats.mannwhitneyu(cumulativeDataA, cumulativeDataB)[1]\n",
    "\n",
    "# Calcular la diferencia relativa en las conversiones\n",
    "conversion_diff = cumulativeDataB.mean() / cumulativeDataA.mean() - 1\n",
    "\n",
    "print(f\"p-value: {p_value_conversion:.3f}\")\n",
    "print(f\"Diferencia relativa en la conversión: {conversion_diff:.3f}\")"
   ]
  },
  {
   "cell_type": "markdown",
   "metadata": {},
   "source": [
    "- **Significancia Estadística:** El p-value obtenido es **0.000**, lo que indica que hay una **diferencia estadísticamente significativa** en las tasas de conversión entre los grupos A y B. Comúnmente, un p-value menor que **0.05** se considera significativo, lo que respalda la afirmación de que los grupos tienen diferentes comportamientos de conversión.\n",
    "\n",
    "- **Diferencia Relativa en la Conversión:** La diferencia relativa en la conversión es **0.090**, lo que implica que el grupo B tiene una tasa de conversión aproximadamente **9%** mayor que el grupo A. Este aumento es relevante desde una perspectiva práctica y sugiere que el grupo B está realizando un **mejor desempeño** en términos de conversión.\n",
    "\n",
    "- **Conclusión General:** La evidencia estadística sugiere que el grupo B no solo se comporta de manera significativamente diferente que el grupo A en términos de tasas de conversión, sino que también muestra un **aumento cuantitativo** en la efectividad. Esto podría implicar que las estrategias implementadas para el grupo B son más efectivas, y podría valer la pena investigar más a fondo qué factores están contribuyendo a este mejor desempeño.\n"
   ]
  },
  {
   "cell_type": "markdown",
   "metadata": {},
   "source": [
    "### Significancia estadística de la diferencia en el tamaño promedio de pedido entre los grupos.\n"
   ]
  },
  {
   "cell_type": "code",
   "execution_count": 54,
   "metadata": {
    "scrolled": true
   },
   "outputs": [
    {
     "name": "stdout",
     "output_type": "stream",
     "text": [
      "p-value para el tamaño promedio de pedido: 0.163\n",
      "Diferencia relativa en el tamaño promedio de pedido: 0.194\n"
     ]
    }
   ],
   "source": [
    "# Calcular el tamaño promedio de pedido para cada grupo\n",
    "avg_order_size_A = cumulativeRevenueA['revenue'] / cumulativeRevenueA['orders']\n",
    "avg_order_size_B = cumulativeRevenueB['revenue'] / cumulativeRevenueB['orders']\n",
    "\n",
    "# Realizar la prueba Mann-Whitney U\n",
    "p_value_avg_order = stats.mannwhitneyu(avg_order_size_A, avg_order_size_B)[1]\n",
    "avg_order_diff = avg_order_size_B.mean() / avg_order_size_A.mean() - 1\n",
    "\n",
    "# Mostrar resultados\n",
    "print(f\"p-value para el tamaño promedio de pedido: {p_value_avg_order:.3f}\")\n",
    "print(f\"Diferencia relativa en el tamaño promedio de pedido: {avg_order_diff:.3f}\")"
   ]
  },
  {
   "cell_type": "markdown",
   "metadata": {},
   "source": [
    "- **Significancia Estadística:** El p-value para el tamaño promedio de pedido es **0.163**. Dado que este valor es mayor que el umbral comúnmente aceptado de **0.05**, no podemos rechazar la hipótesis nula. Esto sugiere que no hay evidencia suficiente para afirmar que hay una diferencia estadísticamente significativa en el tamaño promedio de pedido entre los grupos A y B.\n",
    "\n",
    "- **Diferencia Relativa en el Tamaño Promedio de Pedido:** La diferencia relativa en el tamaño promedio de pedido es **0.194**, lo que indica que el grupo B tiene un tamaño promedio de pedido aproximadamente **19.4%** mayor que el grupo A. Aunque esta diferencia es notable desde una perspectiva cuantitativa, la falta de significancia estadística implica que esta diferencia puede ser el resultado de la variabilidad natural en los datos en lugar de un efecto real.\n",
    "\n",
    "- **Conclusión General:** En resumen, aunque existe una diferencia en el tamaño promedio de pedido entre los grupos A y B, esta diferencia no es estadísticamente significativa. Esto sugiere que, a pesar de que el grupo B tiene un tamaño promedio de pedido mayor, esta variación no es lo suficientemente robusta como para considerar que las estrategias o factores asociados a los grupos están afectando significativamente el tamaño del pedido. Es posible que se necesite un tamaño de muestra más grande o una metodología diferente para detectar diferencias más sutiles en el futuro.\n"
   ]
  },
  {
   "cell_type": "markdown",
   "metadata": {},
   "source": [
    "### Significancia estadística de la diferencia en la conversión entre los grupos."
   ]
  },
  {
   "cell_type": "code",
   "execution_count": 55,
   "metadata": {
    "scrolled": true
   },
   "outputs": [
    {
     "name": "stdout",
     "output_type": "stream",
     "text": [
      "Valor p: 0.32834\n",
      "Ganancia relativa del grupo B: 0.015\n"
     ]
    }
   ],
   "source": [
    "# Agrupar las órdenes por usuario para el grupo A\n",
    "ordersByUsersA = (\n",
    "    orders[orders['group'] == 'A']\n",
    "    .groupby('visitorId', as_index=False)\n",
    "    .agg({'transactionId': pd.Series.nunique})\n",
    ")\n",
    "\n",
    "# Renombrar la columna para evitar duplicados\n",
    "ordersByUsersA.columns = ['visitorId', 'orders']\n",
    "\n",
    "# Agrupar las órdenes por usuario para el grupo B\n",
    "ordersByUsersB = (\n",
    "    orders[orders['group'] == 'B']\n",
    "    .groupby('visitorId', as_index=False)\n",
    "    .agg({'transactionId': pd.Series.nunique})\n",
    ")\n",
    "\n",
    "# Renombrar la columna para evitar duplicados\n",
    "ordersByUsersB.columns = ['visitorId', 'orders']\n",
    "\n",
    "# Identifica a los usuarios con más de 1 pedidos\n",
    "usersWithManyOrders = pd.concat(\n",
    "    [\n",
    "        ordersByUsersA[ordersByUsersA['orders'] > 1]['visitorId'],\n",
    "        ordersByUsersB[ordersByUsersB['orders'] > 1]['visitorId'],\n",
    "    ],\n",
    "    axis=0,\n",
    ")\n",
    "\n",
    "# Identifica a los usuarios con pedidos cuyo revenue es mayor a 280.80\n",
    "usersWithExpensiveOrders = orders[orders['revenue'] > 280.80]['visitorId']\n",
    "\n",
    "# Combina ambas listas de usuarios anómalos\n",
    "abnormalUsers = (\n",
    "    pd.concat([usersWithManyOrders, usersWithExpensiveOrders], axis=0)\n",
    "    .drop_duplicates()\n",
    "    .sort_values()\n",
    ")\n",
    "\n",
    "# Filtra las muestras para eliminar a los usuarios anómalos\n",
    "sampleAFiltered = pd.concat([\n",
    "    ordersByUsersA[np.logical_not(ordersByUsersA['visitorId'].isin(abnormalUsers))]['orders'],\n",
    "    pd.Series(0, index=np.arange(orders[orders['group'] == 'A'].shape[0] - len(ordersByUsersA)), name='orders')\n",
    "], axis=0)\n",
    "\n",
    "sampleBFiltered = pd.concat([\n",
    "    ordersByUsersB[np.logical_not(ordersByUsersB['visitorId'].isin(abnormalUsers))]['orders'],\n",
    "    pd.Series(0, index=np.arange(orders[orders['group'] == 'B'].shape[0] - len(ordersByUsersB)), name='orders')\n",
    "], axis=0)\n",
    "\n",
    "# Prueba de Mann-Whitney para comparar las tasas de conversión entre los dos grupos\n",
    "p_value = stats.mannwhitneyu(sampleAFiltered, sampleBFiltered)[1]\n",
    "relative_gain = sampleBFiltered.mean() / sampleAFiltered.mean() - 1\n",
    "\n",
    "# Imprime los resultados\n",
    "print(f\"Valor p: {p_value:.5f}\")\n",
    "print(f\"Ganancia relativa del grupo B: {relative_gain:.3f}\")\n"
   ]
  },
  {
   "cell_type": "markdown",
   "metadata": {},
   "source": [
    "- **Significancia Estadística:** El p-value obtenido es **0.32834**. Dado que este valor es considerablemente mayor que el umbral comúnmente aceptado de **0.05**, no podemos rechazar la hipótesis nula. Esto implica que no hay evidencia suficiente para afirmar que existe una diferencia estadísticamente significativa en las tasas de conversión entre los grupos A y B. En otras palabras, los grupos A y B se comportan de manera similar en términos de conversión.\n",
    "\n",
    "- **Ganancia Relativa:** La ganancia relativa del grupo B es **0.015**, lo que sugiere que la tasa de conversión del grupo B es aproximadamente **1.5%** mayor que la del grupo A. Sin embargo, esta diferencia es pequeña y, dado que no es estadísticamente significativa, es probable que no represente un efecto real o consistente.\n",
    "\n",
    "- **Conclusión General:** En resumen, aunque se ha observado una ligera diferencia en la tasa de conversión entre los grupos A y B, esta diferencia no es estadísticamente significativa. Esto sugiere que, a pesar de que el grupo B tiene una tasa de conversión ligeramente superior, esta variación podría ser atribuible a la variabilidad natural en los datos en lugar de a un efecto real causado por las estrategias implementadas. Puede ser necesario considerar un mayor tamaño de muestra o diferentes métodos de análisis para detectar diferencias más sutiles en futuras investigaciones.\n"
   ]
  },
  {
   "cell_type": "markdown",
   "metadata": {},
   "source": [
    "### Significancia estadística de la diferencia en el tamaño promedio de pedido entre los grupos."
   ]
  },
  {
   "cell_type": "code",
   "execution_count": 56,
   "metadata": {
    "scrolled": true
   },
   "outputs": [
    {
     "name": "stdout",
     "output_type": "stream",
     "text": [
      "Valor p: 0.67694 - Significancia estadística de la diferencia en el tamaño de pedido promedio.\n",
      "Diferencia relativa: -0.058 - La diferencia relativa en el tamaño promedio de pedido entre los grupos.\n"
     ]
    }
   ],
   "source": [
    "# Filtra los datos de los grupos A y B eliminando los usuarios anómalos\n",
    "orders_filtered_A = orders[\n",
    "    (orders['group'] == 'A') & (~orders['visitorId'].isin(abnormalUsers))\n",
    "]['revenue']\n",
    "\n",
    "orders_filtered_B = orders[\n",
    "    (orders['group'] == 'B') & (~orders['visitorId'].isin(abnormalUsers))\n",
    "]['revenue']\n",
    "\n",
    "# Realiza la prueba de Mann-Whitney U para comparar el tamaño de pedido entre los grupos A y B\n",
    "p_value = stats.mannwhitneyu(orders_filtered_A, orders_filtered_B)[1]\n",
    "\n",
    "# Calcula la diferencia relativa en el tamaño promedio del pedido\n",
    "relative_difference = orders_filtered_B.mean() / orders_filtered_A.mean() - 1\n",
    "\n",
    "# Imprime los resultados\n",
    "print(f\"Valor p: {p_value:.5f} - Significancia estadística de la diferencia en el tamaño de pedido promedio.\")\n",
    "print(f\"Diferencia relativa: {relative_difference:.3f} - La diferencia relativa en el tamaño promedio de pedido entre los grupos.\")"
   ]
  },
  {
   "cell_type": "markdown",
   "metadata": {},
   "source": [
    "- **Significancia Estadística:** El valor p obtenido es **0.67694**. Dado que este valor es considerablemente mayor que el umbral comúnmente aceptado de **0.05**, no podemos rechazar la hipótesis nula. Esto indica que no hay evidencia suficiente para afirmar que existe una diferencia estadísticamente significativa en el tamaño promedio de pedido entre los grupos A y B. En otras palabras, los grupos A y B se comportan de manera similar en términos de tamaño de pedido.\n",
    "\n",
    "- **Diferencia Relativa:** La diferencia relativa en el tamaño promedio de pedido es **-0.058**, lo que sugiere que el tamaño promedio de pedido del grupo B es aproximadamente **5.8% menor** que el del grupo A. Aunque esta diferencia es notable desde una perspectiva cuantitativa, la falta de significancia estadística implica que esta variación podría ser el resultado de la variabilidad natural en los datos y no de un efecto real o significativo.\n",
    "\n",
    "- **Conclusión General:** En resumen, los resultados sugieren que, aunque existe una ligera diferencia en el tamaño promedio de pedido entre los grupos A y B, esta diferencia no es estadísticamente significativa. Por lo tanto, no hay suficientes pruebas para concluir que las estrategias o factores asociados a los grupos están afectando significativamente el tamaño del pedido. Puede ser necesario aumentar el tamaño de la muestra o explorar diferentes metodologías analíticas para detectar diferencias más sutiles en futuros estudios.\n"
   ]
  },
  {
   "cell_type": "markdown",
   "metadata": {},
   "source": [
    "## Toma una decisión basada en los resultados de la prueba."
   ]
  },
  {
   "cell_type": "markdown",
   "metadata": {},
   "source": [
    "**Resumen general:** Tras realizar dos rondas de pruebas, la primera con todos los datos y la segunda filtrando los usuarios anómalos, la decisión más adecuada parece ser continuar la prueba. A continuación, se presenta un análisis más detallado considerando la significancia estadística y las diferencias relativas entre los grupos A y B.\n",
    "\n",
    "**1. Conversión con datos filtrados:**\n",
    "Prueba de Mann-Whitney (**p-valor = 0.000**): Los resultados de la prueba muestran que hay una diferencia estadísticamente significativa en las tasas de conversión entre los grupos A y B, incluso tras filtrar los datos de usuarios anómalos. La ganancia relativa para el grupo B es del **9%**, lo que indica que el grupo B tiene una tasa de conversión superior en comparación con el grupo A.  \n",
    "**Conclusión:** Esta diferencia es relevante tanto desde el punto de vista práctico como estadístico. En este sentido, podría sugerirse que el grupo B está logrando un mejor rendimiento en términos de conversión. Este resultado respalda la posibilidad de considerar al grupo B como un líder en la prueba.\n",
    "\n",
    "**2. Tamaño promedio de pedido con datos filtrados:**\n",
    "Prueba de Mann-Whitney (**p-valor = 0.163**): Para el tamaño promedio de pedido, no se encontró una diferencia estadísticamente significativa entre los grupos A y B. A pesar de que el grupo B muestra un tamaño de pedido un **19.4%** mayor que el grupo A, esta diferencia no es lo suficientemente robusta desde el punto de vista estadístico.  \n",
    "**Conclusión:** Aunque la diferencia cuantitativa es considerable, su falta de significancia estadística implica que podría ser el resultado de la variabilidad natural de los datos. Esto sugiere que no se puede afirmar con certeza que las estrategias implementadas en el grupo B estén afectando el tamaño promedio de pedido de manera significativa.\n",
    "\n",
    "**3. Conversión (segunda prueba) con datos filtrados:**\n",
    "Prueba de Mann-Whitney (**p-valor = 0.32834**): Al realizar una segunda prueba en la tasa de conversión, tras eliminar los datos de usuarios anómalos, no se observó una diferencia estadísticamente significativa entre los grupos A y B. La ganancia relativa del grupo B es solo del **1.5%**, lo que sugiere que esta diferencia es mínima y puede ser atribuida a la variabilidad natural de los datos.  \n",
    "**Conclusión:** Este resultado sugiere que la diferencia observada inicialmente puede haber sido un efecto de algunos valores extremos, y con los datos filtrados, la conversión entre los grupos se comporta de manera similar.\n",
    "\n",
    "**4. Tamaño promedio de pedido (segunda prueba) con datos filtrados:**\n",
    "Prueba de Mann-Whitney (**p-valor = 0.67694**): En la segunda prueba, no se encontró una diferencia estadísticamente significativa en el tamaño promedio de pedido entre los grupos A y B. De hecho, el grupo B muestra un tamaño de pedido **5.8% menor** que el grupo A, lo que refuerza la idea de que no hay un impacto notable en esta métrica.  \n",
    "**Conclusión:** Al no haber una diferencia estadísticamente significativa, no hay suficiente evidencia para concluir que las estrategias aplicadas en el grupo B tengan un efecto relevante en el tamaño promedio de pedido.\n",
    "\n",
    "**Decisión final:**\n",
    "Dado que solo en uno de los resultados (la tasa de conversión inicial) se observa una diferencia significativa, mientras que las otras métricas no respaldan una diferencia clara entre los grupos, la decisión más adecuada es continuar la prueba. Esto permitirá:\n",
    "\n",
    "- Recolectar más datos, especialmente en las métricas donde aún no se ha encontrado una diferencia significativa (tamaño promedio de pedido).\n",
    "- Asegurar la robustez de los resultados en la conversión para verificar si la tendencia observada a favor del grupo B sigue siendo consistente con una mayor muestra.\n",
    "\n",
    "Al haber filtrado los datos de usuarios anómalos, esta decisión también garantizará que los resultados finales reflejen comportamientos más representativos y confiables, sin la influencia de valores atípicos que puedan distorsionar las conclusiones.\n"
   ]
  }
 ],
 "metadata": {
  "ExecuteTimeLog": [
   {
    "duration": 294,
    "start_time": "2024-09-30T02:14:07.769Z"
   },
   {
    "duration": 3,
    "start_time": "2024-09-30T02:14:11.205Z"
   },
   {
    "duration": 13,
    "start_time": "2024-09-30T02:21:00.096Z"
   },
   {
    "duration": 8,
    "start_time": "2024-09-30T02:21:12.898Z"
   },
   {
    "duration": 9,
    "start_time": "2024-09-30T02:21:25.119Z"
   },
   {
    "duration": 10,
    "start_time": "2024-09-30T02:21:39.943Z"
   },
   {
    "duration": 9,
    "start_time": "2024-09-30T02:22:28.193Z"
   },
   {
    "duration": 12,
    "start_time": "2024-09-30T02:23:46.458Z"
   },
   {
    "duration": 9,
    "start_time": "2024-09-30T02:23:49.765Z"
   },
   {
    "duration": 7,
    "start_time": "2024-09-30T02:23:52.018Z"
   },
   {
    "duration": 12,
    "start_time": "2024-09-30T02:24:09.775Z"
   },
   {
    "duration": 10,
    "start_time": "2024-09-30T02:24:30.209Z"
   },
   {
    "duration": 16,
    "start_time": "2024-09-30T02:27:39.909Z"
   },
   {
    "duration": 11,
    "start_time": "2024-09-30T02:27:44.465Z"
   },
   {
    "duration": 12,
    "start_time": "2024-09-30T02:27:50.212Z"
   },
   {
    "duration": 11,
    "start_time": "2024-09-30T02:28:22.057Z"
   },
   {
    "duration": 10,
    "start_time": "2024-09-30T02:28:25.544Z"
   },
   {
    "duration": 13,
    "start_time": "2024-09-30T02:28:40.496Z"
   },
   {
    "duration": 10,
    "start_time": "2024-09-30T02:28:44.554Z"
   },
   {
    "duration": 9,
    "start_time": "2024-09-30T02:29:14.244Z"
   },
   {
    "duration": 15,
    "start_time": "2024-09-30T02:30:48.418Z"
   },
   {
    "duration": 11,
    "start_time": "2024-09-30T02:30:56.314Z"
   },
   {
    "duration": 11,
    "start_time": "2024-09-30T02:30:59.813Z"
   },
   {
    "duration": 10,
    "start_time": "2024-09-30T02:31:07.699Z"
   },
   {
    "duration": 10,
    "start_time": "2024-09-30T02:31:11.295Z"
   },
   {
    "duration": 7,
    "start_time": "2024-09-30T02:33:24.988Z"
   },
   {
    "duration": 5,
    "start_time": "2024-09-30T02:33:55.205Z"
   },
   {
    "duration": 17,
    "start_time": "2024-09-30T02:34:22.048Z"
   },
   {
    "duration": 10,
    "start_time": "2024-09-30T02:36:10.684Z"
   },
   {
    "duration": 9,
    "start_time": "2024-09-30T02:37:44.750Z"
   },
   {
    "duration": 9,
    "start_time": "2024-09-30T02:40:05.539Z"
   },
   {
    "duration": 11,
    "start_time": "2024-09-30T02:40:38.806Z"
   },
   {
    "duration": 160,
    "start_time": "2024-10-01T05:16:25.225Z"
   },
   {
    "duration": 286,
    "start_time": "2024-10-01T05:16:30.355Z"
   },
   {
    "duration": 36,
    "start_time": "2024-10-01T05:16:30.643Z"
   },
   {
    "duration": 9,
    "start_time": "2024-10-01T05:16:30.680Z"
   },
   {
    "duration": 10,
    "start_time": "2024-10-01T05:16:30.691Z"
   },
   {
    "duration": 9,
    "start_time": "2024-10-01T05:16:30.704Z"
   },
   {
    "duration": 10,
    "start_time": "2024-10-01T05:16:30.714Z"
   },
   {
    "duration": 11,
    "start_time": "2024-10-01T05:16:30.727Z"
   },
   {
    "duration": 32,
    "start_time": "2024-10-01T05:16:30.740Z"
   },
   {
    "duration": 9,
    "start_time": "2024-10-01T05:16:30.774Z"
   },
   {
    "duration": 7,
    "start_time": "2024-10-01T05:16:30.785Z"
   },
   {
    "duration": 8,
    "start_time": "2024-10-01T05:18:10.883Z"
   },
   {
    "duration": 85,
    "start_time": "2024-10-01T05:18:55.046Z"
   },
   {
    "duration": 16,
    "start_time": "2024-10-01T05:19:02.382Z"
   },
   {
    "duration": 13,
    "start_time": "2024-10-01T05:19:04.709Z"
   },
   {
    "duration": 322,
    "start_time": "2024-10-01T05:19:14.091Z"
   },
   {
    "duration": 16,
    "start_time": "2024-10-01T05:19:14.416Z"
   },
   {
    "duration": 9,
    "start_time": "2024-10-01T05:19:14.434Z"
   },
   {
    "duration": 26,
    "start_time": "2024-10-01T05:19:14.444Z"
   },
   {
    "duration": 9,
    "start_time": "2024-10-01T05:19:14.472Z"
   },
   {
    "duration": 10,
    "start_time": "2024-10-01T05:19:14.483Z"
   },
   {
    "duration": 11,
    "start_time": "2024-10-01T05:19:14.494Z"
   },
   {
    "duration": 8,
    "start_time": "2024-10-01T05:19:14.507Z"
   },
   {
    "duration": 9,
    "start_time": "2024-10-01T05:19:14.517Z"
   },
   {
    "duration": 123,
    "start_time": "2024-10-01T05:19:14.527Z"
   },
   {
    "duration": 12,
    "start_time": "2024-10-01T05:20:23.475Z"
   },
   {
    "duration": 8,
    "start_time": "2024-10-01T05:20:56.223Z"
   },
   {
    "duration": 10,
    "start_time": "2024-10-01T05:22:41.396Z"
   },
   {
    "duration": 11,
    "start_time": "2024-10-01T05:29:32.309Z"
   },
   {
    "duration": 11,
    "start_time": "2024-10-01T05:33:11.344Z"
   },
   {
    "duration": 8,
    "start_time": "2024-10-01T05:40:20.265Z"
   },
   {
    "duration": 10,
    "start_time": "2024-10-01T05:40:30.319Z"
   },
   {
    "duration": 10,
    "start_time": "2024-10-01T05:40:38.174Z"
   },
   {
    "duration": 11,
    "start_time": "2024-10-01T05:40:54.669Z"
   },
   {
    "duration": 10,
    "start_time": "2024-10-01T05:41:08.149Z"
   },
   {
    "duration": 9,
    "start_time": "2024-10-01T05:41:34.493Z"
   },
   {
    "duration": 7,
    "start_time": "2024-10-01T05:41:45.772Z"
   },
   {
    "duration": 9,
    "start_time": "2024-10-01T05:41:51.252Z"
   },
   {
    "duration": 6,
    "start_time": "2024-10-01T05:41:59.178Z"
   },
   {
    "duration": 9,
    "start_time": "2024-10-01T05:42:12.083Z"
   },
   {
    "duration": 10,
    "start_time": "2024-10-01T05:57:50.596Z"
   },
   {
    "duration": 5,
    "start_time": "2024-10-01T05:59:19.577Z"
   },
   {
    "duration": 8,
    "start_time": "2024-10-01T05:59:27.019Z"
   },
   {
    "duration": 7,
    "start_time": "2024-10-01T06:07:45.762Z"
   },
   {
    "duration": 331,
    "start_time": "2024-10-01T06:07:56.486Z"
   },
   {
    "duration": 21,
    "start_time": "2024-10-01T06:07:56.819Z"
   },
   {
    "duration": 10,
    "start_time": "2024-10-01T06:07:56.844Z"
   },
   {
    "duration": 24,
    "start_time": "2024-10-01T06:07:56.855Z"
   },
   {
    "duration": 10,
    "start_time": "2024-10-01T06:07:56.882Z"
   },
   {
    "duration": 10,
    "start_time": "2024-10-01T06:07:56.893Z"
   },
   {
    "duration": 11,
    "start_time": "2024-10-01T06:07:56.904Z"
   },
   {
    "duration": 7,
    "start_time": "2024-10-01T06:07:56.917Z"
   },
   {
    "duration": 9,
    "start_time": "2024-10-01T06:07:56.928Z"
   },
   {
    "duration": 33,
    "start_time": "2024-10-01T06:07:56.939Z"
   },
   {
    "duration": 8,
    "start_time": "2024-10-01T06:07:56.976Z"
   },
   {
    "duration": 8,
    "start_time": "2024-10-01T06:07:56.986Z"
   },
   {
    "duration": 11,
    "start_time": "2024-10-01T06:11:57.648Z"
   },
   {
    "duration": 4,
    "start_time": "2024-10-01T06:17:57.270Z"
   },
   {
    "duration": 5,
    "start_time": "2024-10-01T06:18:10.480Z"
   },
   {
    "duration": 272,
    "start_time": "2024-10-01T06:18:16.852Z"
   },
   {
    "duration": 17,
    "start_time": "2024-10-01T06:18:17.126Z"
   },
   {
    "duration": 9,
    "start_time": "2024-10-01T06:18:17.145Z"
   },
   {
    "duration": 20,
    "start_time": "2024-10-01T06:18:17.156Z"
   },
   {
    "duration": 14,
    "start_time": "2024-10-01T06:18:17.179Z"
   },
   {
    "duration": 11,
    "start_time": "2024-10-01T06:18:17.195Z"
   },
   {
    "duration": 11,
    "start_time": "2024-10-01T06:18:17.208Z"
   },
   {
    "duration": 9,
    "start_time": "2024-10-01T06:18:17.220Z"
   },
   {
    "duration": 40,
    "start_time": "2024-10-01T06:18:17.231Z"
   },
   {
    "duration": 4,
    "start_time": "2024-10-01T06:18:17.274Z"
   },
   {
    "duration": 9,
    "start_time": "2024-10-01T06:18:17.280Z"
   },
   {
    "duration": 7,
    "start_time": "2024-10-01T06:18:17.292Z"
   },
   {
    "duration": 3,
    "start_time": "2024-10-01T06:19:30.510Z"
   },
   {
    "duration": 2357,
    "start_time": "2024-10-01T06:19:34.763Z"
   },
   {
    "duration": 292,
    "start_time": "2024-10-01T06:19:55.802Z"
   },
   {
    "duration": 2,
    "start_time": "2024-10-01T06:22:48.823Z"
   },
   {
    "duration": 232,
    "start_time": "2024-10-01T06:23:12.547Z"
   },
   {
    "duration": 221,
    "start_time": "2024-10-01T06:24:30.612Z"
   },
   {
    "duration": 221,
    "start_time": "2024-10-01T06:24:41.009Z"
   },
   {
    "duration": 217,
    "start_time": "2024-10-01T06:24:53.992Z"
   },
   {
    "duration": 216,
    "start_time": "2024-10-01T06:25:03.551Z"
   },
   {
    "duration": 278,
    "start_time": "2024-10-01T06:25:13.824Z"
   },
   {
    "duration": 220,
    "start_time": "2024-10-01T06:25:45.575Z"
   },
   {
    "duration": 229,
    "start_time": "2024-10-01T06:25:56.721Z"
   },
   {
    "duration": 218,
    "start_time": "2024-10-01T06:26:03.604Z"
   },
   {
    "duration": 267,
    "start_time": "2024-10-01T06:29:06.467Z"
   },
   {
    "duration": 248,
    "start_time": "2024-10-01T06:29:12.056Z"
   },
   {
    "duration": 210,
    "start_time": "2024-10-01T06:29:39.950Z"
   },
   {
    "duration": 232,
    "start_time": "2024-10-01T06:30:06.150Z"
   },
   {
    "duration": 230,
    "start_time": "2024-10-01T06:31:26.763Z"
   },
   {
    "duration": 211,
    "start_time": "2024-10-01T06:31:52.126Z"
   },
   {
    "duration": 573,
    "start_time": "2024-10-01T06:32:29.000Z"
   },
   {
    "duration": 276,
    "start_time": "2024-10-01T06:32:41.358Z"
   },
   {
    "duration": 12,
    "start_time": "2024-10-01T06:42:52.922Z"
   },
   {
    "duration": 12,
    "start_time": "2024-10-01T06:42:57.327Z"
   },
   {
    "duration": 9,
    "start_time": "2024-10-01T06:45:02.005Z"
   },
   {
    "duration": 16,
    "start_time": "2024-10-01T06:45:05.735Z"
   },
   {
    "duration": 16,
    "start_time": "2024-10-01T06:45:08.046Z"
   },
   {
    "duration": 16,
    "start_time": "2024-10-01T06:45:10.956Z"
   },
   {
    "duration": 425,
    "start_time": "2024-10-01T06:45:24.524Z"
   },
   {
    "duration": 16,
    "start_time": "2024-10-01T06:46:06.010Z"
   },
   {
    "duration": 14,
    "start_time": "2024-10-01T06:48:03.597Z"
   },
   {
    "duration": 13,
    "start_time": "2024-10-01T06:48:14.593Z"
   },
   {
    "duration": 13,
    "start_time": "2024-10-01T06:48:47.465Z"
   },
   {
    "duration": 14,
    "start_time": "2024-10-01T06:49:06.520Z"
   },
   {
    "duration": 11,
    "start_time": "2024-10-01T06:49:10.852Z"
   },
   {
    "duration": 13,
    "start_time": "2024-10-01T06:49:14.202Z"
   },
   {
    "duration": 17,
    "start_time": "2024-10-01T06:49:26.670Z"
   },
   {
    "duration": 6,
    "start_time": "2024-10-01T06:52:20.840Z"
   },
   {
    "duration": 7,
    "start_time": "2024-10-01T06:52:52.509Z"
   },
   {
    "duration": 403,
    "start_time": "2024-10-01T06:52:56.144Z"
   },
   {
    "duration": 387,
    "start_time": "2024-10-01T06:54:22.854Z"
   },
   {
    "duration": 12,
    "start_time": "2024-10-01T06:57:56.306Z"
   },
   {
    "duration": 10,
    "start_time": "2024-10-01T06:59:28.906Z"
   },
   {
    "duration": 13,
    "start_time": "2024-10-01T07:02:40.865Z"
   },
   {
    "duration": 14,
    "start_time": "2024-10-01T07:03:42.008Z"
   },
   {
    "duration": 18,
    "start_time": "2024-10-01T07:10:02.006Z"
   },
   {
    "duration": 12,
    "start_time": "2024-10-01T07:10:56.029Z"
   },
   {
    "duration": 12,
    "start_time": "2024-10-01T07:11:03.651Z"
   },
   {
    "duration": 112,
    "start_time": "2024-10-01T07:15:47.595Z"
   },
   {
    "duration": 866,
    "start_time": "2024-10-01T07:15:55.489Z"
   },
   {
    "duration": 26,
    "start_time": "2024-10-01T07:15:56.357Z"
   },
   {
    "duration": 9,
    "start_time": "2024-10-01T07:15:56.385Z"
   },
   {
    "duration": 8,
    "start_time": "2024-10-01T07:15:56.395Z"
   },
   {
    "duration": 9,
    "start_time": "2024-10-01T07:15:56.406Z"
   },
   {
    "duration": 9,
    "start_time": "2024-10-01T07:15:56.416Z"
   },
   {
    "duration": 11,
    "start_time": "2024-10-01T07:15:56.427Z"
   },
   {
    "duration": 33,
    "start_time": "2024-10-01T07:15:56.439Z"
   },
   {
    "duration": 9,
    "start_time": "2024-10-01T07:15:56.473Z"
   },
   {
    "duration": 6,
    "start_time": "2024-10-01T07:15:56.484Z"
   },
   {
    "duration": 291,
    "start_time": "2024-10-01T07:15:56.491Z"
   },
   {
    "duration": 212,
    "start_time": "2024-10-01T07:15:56.786Z"
   },
   {
    "duration": 16,
    "start_time": "2024-10-01T07:15:57.001Z"
   },
   {
    "duration": 443,
    "start_time": "2024-10-01T07:15:57.019Z"
   },
   {
    "duration": 323,
    "start_time": "2024-10-01T07:15:57.464Z"
   },
   {
    "duration": 0,
    "start_time": "2024-10-01T07:15:57.789Z"
   },
   {
    "duration": 25,
    "start_time": "2024-10-01T07:17:11.306Z"
   },
   {
    "duration": 12,
    "start_time": "2024-10-01T07:17:52.974Z"
   },
   {
    "duration": 340,
    "start_time": "2024-10-01T07:23:23.762Z"
   },
   {
    "duration": 344,
    "start_time": "2024-10-01T07:23:48.760Z"
   },
   {
    "duration": 11,
    "start_time": "2024-10-01T07:25:17.915Z"
   },
   {
    "duration": 15,
    "start_time": "2024-10-01T07:25:42.103Z"
   },
   {
    "duration": 32,
    "start_time": "2024-10-01T07:27:44.168Z"
   },
   {
    "duration": 17,
    "start_time": "2024-10-01T07:28:27.379Z"
   },
   {
    "duration": 832,
    "start_time": "2024-10-01T07:28:35.086Z"
   },
   {
    "duration": 14,
    "start_time": "2024-10-01T07:28:35.920Z"
   },
   {
    "duration": 9,
    "start_time": "2024-10-01T07:28:35.936Z"
   },
   {
    "duration": 23,
    "start_time": "2024-10-01T07:28:35.947Z"
   },
   {
    "duration": 10,
    "start_time": "2024-10-01T07:28:35.972Z"
   },
   {
    "duration": 9,
    "start_time": "2024-10-01T07:28:35.983Z"
   },
   {
    "duration": 11,
    "start_time": "2024-10-01T07:28:35.994Z"
   },
   {
    "duration": 9,
    "start_time": "2024-10-01T07:28:36.006Z"
   },
   {
    "duration": 9,
    "start_time": "2024-10-01T07:28:36.016Z"
   },
   {
    "duration": 4,
    "start_time": "2024-10-01T07:28:36.027Z"
   },
   {
    "duration": 291,
    "start_time": "2024-10-01T07:28:36.032Z"
   },
   {
    "duration": 225,
    "start_time": "2024-10-01T07:28:36.325Z"
   },
   {
    "duration": 29,
    "start_time": "2024-10-01T07:28:36.552Z"
   },
   {
    "duration": 472,
    "start_time": "2024-10-01T07:28:36.585Z"
   },
   {
    "duration": 368,
    "start_time": "2024-10-01T07:28:37.060Z"
   },
   {
    "duration": 15,
    "start_time": "2024-10-01T07:28:37.430Z"
   },
   {
    "duration": 24,
    "start_time": "2024-10-01T07:28:37.447Z"
   },
   {
    "duration": 313,
    "start_time": "2024-10-01T07:28:52.672Z"
   },
   {
    "duration": 828,
    "start_time": "2024-10-01T07:29:05.101Z"
   },
   {
    "duration": 18,
    "start_time": "2024-10-01T07:29:05.931Z"
   },
   {
    "duration": 9,
    "start_time": "2024-10-01T07:29:05.950Z"
   },
   {
    "duration": 16,
    "start_time": "2024-10-01T07:29:05.960Z"
   },
   {
    "duration": 9,
    "start_time": "2024-10-01T07:29:05.979Z"
   },
   {
    "duration": 10,
    "start_time": "2024-10-01T07:29:05.989Z"
   },
   {
    "duration": 11,
    "start_time": "2024-10-01T07:29:06.000Z"
   },
   {
    "duration": 8,
    "start_time": "2024-10-01T07:29:06.013Z"
   },
   {
    "duration": 9,
    "start_time": "2024-10-01T07:29:06.023Z"
   },
   {
    "duration": 4,
    "start_time": "2024-10-01T07:29:06.071Z"
   },
   {
    "duration": 266,
    "start_time": "2024-10-01T07:29:06.077Z"
   },
   {
    "duration": 222,
    "start_time": "2024-10-01T07:29:06.345Z"
   },
   {
    "duration": 22,
    "start_time": "2024-10-01T07:29:06.570Z"
   },
   {
    "duration": 456,
    "start_time": "2024-10-01T07:29:06.595Z"
   },
   {
    "duration": 355,
    "start_time": "2024-10-01T07:29:07.053Z"
   },
   {
    "duration": 16,
    "start_time": "2024-10-01T07:29:07.410Z"
   },
   {
    "duration": 11,
    "start_time": "2024-10-01T07:29:07.428Z"
   },
   {
    "duration": 313,
    "start_time": "2024-10-01T07:29:22.324Z"
   },
   {
    "duration": 796,
    "start_time": "2024-10-01T07:29:44.662Z"
   },
   {
    "duration": 18,
    "start_time": "2024-10-01T07:29:45.460Z"
   },
   {
    "duration": 8,
    "start_time": "2024-10-01T07:29:45.480Z"
   },
   {
    "duration": 9,
    "start_time": "2024-10-01T07:29:45.491Z"
   },
   {
    "duration": 8,
    "start_time": "2024-10-01T07:29:45.502Z"
   },
   {
    "duration": 10,
    "start_time": "2024-10-01T07:29:45.512Z"
   },
   {
    "duration": 12,
    "start_time": "2024-10-01T07:29:45.523Z"
   },
   {
    "duration": 42,
    "start_time": "2024-10-01T07:29:45.536Z"
   },
   {
    "duration": 9,
    "start_time": "2024-10-01T07:29:45.580Z"
   },
   {
    "duration": 5,
    "start_time": "2024-10-01T07:29:45.591Z"
   },
   {
    "duration": 277,
    "start_time": "2024-10-01T07:29:45.597Z"
   },
   {
    "duration": 216,
    "start_time": "2024-10-01T07:29:45.876Z"
   },
   {
    "duration": 17,
    "start_time": "2024-10-01T07:29:46.095Z"
   },
   {
    "duration": 460,
    "start_time": "2024-10-01T07:29:46.114Z"
   },
   {
    "duration": 369,
    "start_time": "2024-10-01T07:29:46.579Z"
   },
   {
    "duration": 22,
    "start_time": "2024-10-01T07:29:46.949Z"
   },
   {
    "duration": 15,
    "start_time": "2024-10-01T07:29:46.973Z"
   },
   {
    "duration": 317,
    "start_time": "2024-10-01T07:31:40.354Z"
   },
   {
    "duration": 16,
    "start_time": "2024-10-01T07:32:48.196Z"
   },
   {
    "duration": 806,
    "start_time": "2024-10-01T07:32:57.318Z"
   },
   {
    "duration": 15,
    "start_time": "2024-10-01T07:32:58.127Z"
   },
   {
    "duration": 8,
    "start_time": "2024-10-01T07:32:58.143Z"
   },
   {
    "duration": 21,
    "start_time": "2024-10-01T07:32:58.153Z"
   },
   {
    "duration": 9,
    "start_time": "2024-10-01T07:32:58.176Z"
   },
   {
    "duration": 9,
    "start_time": "2024-10-01T07:32:58.187Z"
   },
   {
    "duration": 11,
    "start_time": "2024-10-01T07:32:58.198Z"
   },
   {
    "duration": 8,
    "start_time": "2024-10-01T07:32:58.211Z"
   },
   {
    "duration": 9,
    "start_time": "2024-10-01T07:32:58.221Z"
   },
   {
    "duration": 41,
    "start_time": "2024-10-01T07:32:58.231Z"
   },
   {
    "duration": 256,
    "start_time": "2024-10-01T07:32:58.274Z"
   },
   {
    "duration": 204,
    "start_time": "2024-10-01T07:32:58.532Z"
   },
   {
    "duration": 16,
    "start_time": "2024-10-01T07:32:58.739Z"
   },
   {
    "duration": 482,
    "start_time": "2024-10-01T07:32:58.758Z"
   },
   {
    "duration": 333,
    "start_time": "2024-10-01T07:32:59.242Z"
   },
   {
    "duration": 16,
    "start_time": "2024-10-01T07:32:59.577Z"
   },
   {
    "duration": 11,
    "start_time": "2024-10-01T07:32:59.595Z"
   },
   {
    "duration": 268,
    "start_time": "2024-10-01T07:33:14.844Z"
   },
   {
    "duration": 16,
    "start_time": "2024-10-01T07:33:17.846Z"
   },
   {
    "duration": 817,
    "start_time": "2024-10-01T07:33:24.194Z"
   },
   {
    "duration": 14,
    "start_time": "2024-10-01T07:33:25.013Z"
   },
   {
    "duration": 9,
    "start_time": "2024-10-01T07:33:25.029Z"
   },
   {
    "duration": 8,
    "start_time": "2024-10-01T07:33:25.039Z"
   },
   {
    "duration": 9,
    "start_time": "2024-10-01T07:33:25.070Z"
   },
   {
    "duration": 10,
    "start_time": "2024-10-01T07:33:25.081Z"
   },
   {
    "duration": 11,
    "start_time": "2024-10-01T07:33:25.093Z"
   },
   {
    "duration": 9,
    "start_time": "2024-10-01T07:33:25.106Z"
   },
   {
    "duration": 9,
    "start_time": "2024-10-01T07:33:25.116Z"
   },
   {
    "duration": 5,
    "start_time": "2024-10-01T07:33:25.126Z"
   },
   {
    "duration": 290,
    "start_time": "2024-10-01T07:33:25.133Z"
   },
   {
    "duration": 206,
    "start_time": "2024-10-01T07:33:25.425Z"
   },
   {
    "duration": 19,
    "start_time": "2024-10-01T07:33:25.633Z"
   },
   {
    "duration": 473,
    "start_time": "2024-10-01T07:33:25.669Z"
   },
   {
    "duration": 329,
    "start_time": "2024-10-01T07:33:26.143Z"
   },
   {
    "duration": 15,
    "start_time": "2024-10-01T07:33:26.474Z"
   },
   {
    "duration": 11,
    "start_time": "2024-10-01T07:33:26.491Z"
   },
   {
    "duration": 264,
    "start_time": "2024-10-01T07:38:53.831Z"
   },
   {
    "duration": 16,
    "start_time": "2024-10-01T07:39:17.380Z"
   },
   {
    "duration": 19,
    "start_time": "2024-10-01T07:39:40.862Z"
   },
   {
    "duration": 16,
    "start_time": "2024-10-01T07:41:54.016Z"
   },
   {
    "duration": 19,
    "start_time": "2024-10-01T07:42:05.945Z"
   },
   {
    "duration": 819,
    "start_time": "2024-10-01T07:42:11.416Z"
   },
   {
    "duration": 18,
    "start_time": "2024-10-01T07:42:12.237Z"
   },
   {
    "duration": 8,
    "start_time": "2024-10-01T07:42:12.257Z"
   },
   {
    "duration": 9,
    "start_time": "2024-10-01T07:42:12.271Z"
   },
   {
    "duration": 9,
    "start_time": "2024-10-01T07:42:12.282Z"
   },
   {
    "duration": 10,
    "start_time": "2024-10-01T07:42:12.293Z"
   },
   {
    "duration": 11,
    "start_time": "2024-10-01T07:42:12.304Z"
   },
   {
    "duration": 9,
    "start_time": "2024-10-01T07:42:12.317Z"
   },
   {
    "duration": 47,
    "start_time": "2024-10-01T07:42:12.327Z"
   },
   {
    "duration": 4,
    "start_time": "2024-10-01T07:42:12.376Z"
   },
   {
    "duration": 267,
    "start_time": "2024-10-01T07:42:12.381Z"
   },
   {
    "duration": 208,
    "start_time": "2024-10-01T07:42:12.649Z"
   },
   {
    "duration": 16,
    "start_time": "2024-10-01T07:42:12.859Z"
   },
   {
    "duration": 633,
    "start_time": "2024-10-01T07:42:12.878Z"
   },
   {
    "duration": 450,
    "start_time": "2024-10-01T07:42:13.513Z"
   },
   {
    "duration": 1157,
    "start_time": "2024-10-01T07:42:13.964Z"
   },
   {
    "duration": 0,
    "start_time": "2024-10-01T07:42:15.123Z"
   },
   {
    "duration": 12,
    "start_time": "2024-10-01T07:42:45.465Z"
   },
   {
    "duration": 437,
    "start_time": "2024-10-01T07:42:48.192Z"
   },
   {
    "duration": 340,
    "start_time": "2024-10-01T07:45:48.425Z"
   },
   {
    "duration": 363,
    "start_time": "2024-10-01T07:46:29.157Z"
   },
   {
    "duration": 423,
    "start_time": "2024-10-01T07:47:12.455Z"
   },
   {
    "duration": 439,
    "start_time": "2024-10-01T07:47:30.684Z"
   },
   {
    "duration": 333,
    "start_time": "2024-10-01T07:47:48.739Z"
   },
   {
    "duration": 322,
    "start_time": "2024-10-01T07:48:53.550Z"
   },
   {
    "duration": 451,
    "start_time": "2024-10-01T07:49:01.187Z"
   },
   {
    "duration": 10,
    "start_time": "2024-10-01T07:51:49.377Z"
   },
   {
    "duration": 11,
    "start_time": "2024-10-01T07:52:09.184Z"
   },
   {
    "duration": 354,
    "start_time": "2024-10-01T07:53:48.200Z"
   },
   {
    "duration": 444,
    "start_time": "2024-10-01T07:57:51.892Z"
   },
   {
    "duration": 794,
    "start_time": "2024-10-01T08:02:08.069Z"
   },
   {
    "duration": 17,
    "start_time": "2024-10-01T08:02:08.865Z"
   },
   {
    "duration": 9,
    "start_time": "2024-10-01T08:02:08.884Z"
   },
   {
    "duration": 8,
    "start_time": "2024-10-01T08:02:08.896Z"
   },
   {
    "duration": 10,
    "start_time": "2024-10-01T08:02:08.905Z"
   },
   {
    "duration": 10,
    "start_time": "2024-10-01T08:02:08.916Z"
   },
   {
    "duration": 10,
    "start_time": "2024-10-01T08:02:08.928Z"
   },
   {
    "duration": 10,
    "start_time": "2024-10-01T08:02:08.970Z"
   },
   {
    "duration": 10,
    "start_time": "2024-10-01T08:02:08.981Z"
   },
   {
    "duration": 4,
    "start_time": "2024-10-01T08:02:08.994Z"
   },
   {
    "duration": 270,
    "start_time": "2024-10-01T08:02:09.000Z"
   },
   {
    "duration": 215,
    "start_time": "2024-10-01T08:02:09.272Z"
   },
   {
    "duration": 16,
    "start_time": "2024-10-01T08:02:09.489Z"
   },
   {
    "duration": 454,
    "start_time": "2024-10-01T08:02:09.507Z"
   },
   {
    "duration": 339,
    "start_time": "2024-10-01T08:02:09.962Z"
   },
   {
    "duration": 386,
    "start_time": "2024-10-01T08:02:10.303Z"
   },
   {
    "duration": 163,
    "start_time": "2024-10-02T05:21:39.883Z"
   },
   {
    "duration": 2929,
    "start_time": "2024-10-02T05:21:47.564Z"
   },
   {
    "duration": 38,
    "start_time": "2024-10-02T05:21:50.495Z"
   },
   {
    "duration": 9,
    "start_time": "2024-10-02T05:21:50.535Z"
   },
   {
    "duration": 8,
    "start_time": "2024-10-02T05:21:50.547Z"
   },
   {
    "duration": 9,
    "start_time": "2024-10-02T05:21:50.558Z"
   },
   {
    "duration": 12,
    "start_time": "2024-10-02T05:21:50.568Z"
   },
   {
    "duration": 12,
    "start_time": "2024-10-02T05:21:50.587Z"
   },
   {
    "duration": 9,
    "start_time": "2024-10-02T05:21:50.601Z"
   },
   {
    "duration": 10,
    "start_time": "2024-10-02T05:21:50.612Z"
   },
   {
    "duration": 5,
    "start_time": "2024-10-02T05:21:50.623Z"
   },
   {
    "duration": 293,
    "start_time": "2024-10-02T05:21:50.630Z"
   },
   {
    "duration": 212,
    "start_time": "2024-10-02T05:21:50.926Z"
   },
   {
    "duration": 17,
    "start_time": "2024-10-02T05:21:51.140Z"
   },
   {
    "duration": 425,
    "start_time": "2024-10-02T05:21:51.161Z"
   },
   {
    "duration": 350,
    "start_time": "2024-10-02T05:21:51.589Z"
   },
   {
    "duration": 426,
    "start_time": "2024-10-02T05:21:51.940Z"
   },
   {
    "duration": 18,
    "start_time": "2024-10-02T05:21:52.368Z"
   },
   {
    "duration": 281,
    "start_time": "2024-10-02T05:34:00.906Z"
   },
   {
    "duration": 815,
    "start_time": "2024-10-02T05:34:06.681Z"
   },
   {
    "duration": 18,
    "start_time": "2024-10-02T05:34:07.498Z"
   },
   {
    "duration": 9,
    "start_time": "2024-10-02T05:34:07.517Z"
   },
   {
    "duration": 8,
    "start_time": "2024-10-02T05:34:07.528Z"
   },
   {
    "duration": 10,
    "start_time": "2024-10-02T05:34:07.539Z"
   },
   {
    "duration": 36,
    "start_time": "2024-10-02T05:34:07.551Z"
   },
   {
    "duration": 13,
    "start_time": "2024-10-02T05:34:07.589Z"
   },
   {
    "duration": 10,
    "start_time": "2024-10-02T05:34:07.604Z"
   },
   {
    "duration": 10,
    "start_time": "2024-10-02T05:34:07.615Z"
   },
   {
    "duration": 5,
    "start_time": "2024-10-02T05:34:07.627Z"
   },
   {
    "duration": 297,
    "start_time": "2024-10-02T05:34:07.634Z"
   },
   {
    "duration": 218,
    "start_time": "2024-10-02T05:34:07.933Z"
   },
   {
    "duration": 18,
    "start_time": "2024-10-02T05:34:08.153Z"
   },
   {
    "duration": 483,
    "start_time": "2024-10-02T05:34:08.173Z"
   },
   {
    "duration": 349,
    "start_time": "2024-10-02T05:34:08.659Z"
   },
   {
    "duration": 374,
    "start_time": "2024-10-02T05:34:09.010Z"
   },
   {
    "duration": 13,
    "start_time": "2024-10-02T05:34:09.386Z"
   },
   {
    "duration": 5,
    "start_time": "2024-10-02T05:34:09.401Z"
   },
   {
    "duration": 12,
    "start_time": "2024-10-02T05:34:09.407Z"
   },
   {
    "duration": 12,
    "start_time": "2024-10-02T05:34:09.420Z"
   },
   {
    "duration": 18,
    "start_time": "2024-10-02T05:34:27.863Z"
   },
   {
    "duration": 378,
    "start_time": "2024-10-02T05:51:18.711Z"
   },
   {
    "duration": 1323,
    "start_time": "2024-10-02T05:51:23.918Z"
   },
   {
    "duration": 18,
    "start_time": "2024-10-02T05:51:25.243Z"
   },
   {
    "duration": 9,
    "start_time": "2024-10-02T05:51:25.263Z"
   },
   {
    "duration": 8,
    "start_time": "2024-10-02T05:51:25.286Z"
   },
   {
    "duration": 10,
    "start_time": "2024-10-02T05:51:25.296Z"
   },
   {
    "duration": 11,
    "start_time": "2024-10-02T05:51:25.308Z"
   },
   {
    "duration": 10,
    "start_time": "2024-10-02T05:51:25.321Z"
   },
   {
    "duration": 8,
    "start_time": "2024-10-02T05:51:25.333Z"
   },
   {
    "duration": 9,
    "start_time": "2024-10-02T05:51:25.343Z"
   },
   {
    "duration": 5,
    "start_time": "2024-10-02T05:51:25.389Z"
   },
   {
    "duration": 260,
    "start_time": "2024-10-02T05:51:25.395Z"
   },
   {
    "duration": 206,
    "start_time": "2024-10-02T05:51:25.657Z"
   },
   {
    "duration": 29,
    "start_time": "2024-10-02T05:51:25.864Z"
   },
   {
    "duration": 468,
    "start_time": "2024-10-02T05:51:25.895Z"
   },
   {
    "duration": 22,
    "start_time": "2024-10-02T05:51:26.365Z"
   },
   {
    "duration": 6,
    "start_time": "2024-10-02T05:51:26.389Z"
   },
   {
    "duration": 18,
    "start_time": "2024-10-02T05:51:26.396Z"
   },
   {
    "duration": 432,
    "start_time": "2024-10-02T05:51:26.416Z"
   },
   {
    "duration": 12,
    "start_time": "2024-10-02T05:51:26.850Z"
   },
   {
    "duration": 808,
    "start_time": "2024-10-02T05:58:16.790Z"
   },
   {
    "duration": 15,
    "start_time": "2024-10-02T05:58:17.601Z"
   },
   {
    "duration": 9,
    "start_time": "2024-10-02T05:58:17.617Z"
   },
   {
    "duration": 8,
    "start_time": "2024-10-02T05:58:17.629Z"
   },
   {
    "duration": 9,
    "start_time": "2024-10-02T05:58:17.639Z"
   },
   {
    "duration": 36,
    "start_time": "2024-10-02T05:58:17.650Z"
   },
   {
    "duration": 13,
    "start_time": "2024-10-02T05:58:17.688Z"
   },
   {
    "duration": 8,
    "start_time": "2024-10-02T05:58:17.703Z"
   },
   {
    "duration": 10,
    "start_time": "2024-10-02T05:58:17.713Z"
   },
   {
    "duration": 4,
    "start_time": "2024-10-02T05:58:17.726Z"
   },
   {
    "duration": 312,
    "start_time": "2024-10-02T05:58:17.731Z"
   },
   {
    "duration": 219,
    "start_time": "2024-10-02T05:58:18.045Z"
   },
   {
    "duration": 25,
    "start_time": "2024-10-02T05:58:18.266Z"
   },
   {
    "duration": 477,
    "start_time": "2024-10-02T05:58:18.293Z"
   },
   {
    "duration": 20,
    "start_time": "2024-10-02T05:58:18.772Z"
   },
   {
    "duration": 6,
    "start_time": "2024-10-02T05:58:18.793Z"
   },
   {
    "duration": 18,
    "start_time": "2024-10-02T05:58:18.802Z"
   },
   {
    "duration": 601,
    "start_time": "2024-10-02T05:58:18.822Z"
   },
   {
    "duration": 66,
    "start_time": "2024-10-02T05:58:19.425Z"
   },
   {
    "duration": 647,
    "start_time": "2024-10-02T05:58:19.493Z"
   },
   {
    "duration": 10,
    "start_time": "2024-10-02T05:58:20.142Z"
   },
   {
    "duration": 228,
    "start_time": "2024-10-02T06:01:47.832Z"
   },
   {
    "duration": 880,
    "start_time": "2024-10-02T06:01:57.710Z"
   },
   {
    "duration": 15,
    "start_time": "2024-10-02T06:01:58.592Z"
   },
   {
    "duration": 9,
    "start_time": "2024-10-02T06:01:58.609Z"
   },
   {
    "duration": 8,
    "start_time": "2024-10-02T06:01:58.620Z"
   },
   {
    "duration": 10,
    "start_time": "2024-10-02T06:01:58.631Z"
   },
   {
    "duration": 11,
    "start_time": "2024-10-02T06:01:58.643Z"
   },
   {
    "duration": 41,
    "start_time": "2024-10-02T06:01:58.656Z"
   },
   {
    "duration": 10,
    "start_time": "2024-10-02T06:01:58.699Z"
   },
   {
    "duration": 11,
    "start_time": "2024-10-02T06:01:58.710Z"
   },
   {
    "duration": 5,
    "start_time": "2024-10-02T06:01:58.723Z"
   },
   {
    "duration": 296,
    "start_time": "2024-10-02T06:01:58.731Z"
   },
   {
    "duration": 217,
    "start_time": "2024-10-02T06:01:59.029Z"
   },
   {
    "duration": 20,
    "start_time": "2024-10-02T06:01:59.248Z"
   },
   {
    "duration": 476,
    "start_time": "2024-10-02T06:01:59.286Z"
   },
   {
    "duration": 23,
    "start_time": "2024-10-02T06:01:59.764Z"
   },
   {
    "duration": 6,
    "start_time": "2024-10-02T06:01:59.788Z"
   },
   {
    "duration": 19,
    "start_time": "2024-10-02T06:01:59.796Z"
   },
   {
    "duration": 451,
    "start_time": "2024-10-02T06:01:59.818Z"
   },
   {
    "duration": 16,
    "start_time": "2024-10-02T06:02:00.271Z"
   },
   {
    "duration": 494,
    "start_time": "2024-10-02T06:02:00.289Z"
   },
   {
    "duration": 686,
    "start_time": "2024-10-02T06:02:00.786Z"
   },
   {
    "duration": 0,
    "start_time": "2024-10-02T06:02:01.475Z"
   },
   {
    "duration": 0,
    "start_time": "2024-10-02T06:02:01.476Z"
   },
   {
    "duration": 844,
    "start_time": "2024-10-02T06:02:45.447Z"
   },
   {
    "duration": 14,
    "start_time": "2024-10-02T06:02:46.293Z"
   },
   {
    "duration": 9,
    "start_time": "2024-10-02T06:02:46.309Z"
   },
   {
    "duration": 8,
    "start_time": "2024-10-02T06:02:46.321Z"
   },
   {
    "duration": 9,
    "start_time": "2024-10-02T06:02:46.331Z"
   },
   {
    "duration": 10,
    "start_time": "2024-10-02T06:02:46.342Z"
   },
   {
    "duration": 42,
    "start_time": "2024-10-02T06:02:46.354Z"
   },
   {
    "duration": 9,
    "start_time": "2024-10-02T06:02:46.398Z"
   },
   {
    "duration": 11,
    "start_time": "2024-10-02T06:02:46.409Z"
   },
   {
    "duration": 4,
    "start_time": "2024-10-02T06:02:46.423Z"
   },
   {
    "duration": 298,
    "start_time": "2024-10-02T06:02:46.429Z"
   },
   {
    "duration": 210,
    "start_time": "2024-10-02T06:02:46.729Z"
   },
   {
    "duration": 17,
    "start_time": "2024-10-02T06:02:46.941Z"
   },
   {
    "duration": 491,
    "start_time": "2024-10-02T06:02:46.960Z"
   },
   {
    "duration": 14,
    "start_time": "2024-10-02T06:02:47.453Z"
   },
   {
    "duration": 17,
    "start_time": "2024-10-02T06:02:47.469Z"
   },
   {
    "duration": 17,
    "start_time": "2024-10-02T06:02:47.488Z"
   },
   {
    "duration": 434,
    "start_time": "2024-10-02T06:02:47.507Z"
   },
   {
    "duration": 10,
    "start_time": "2024-10-02T06:02:47.943Z"
   },
   {
    "duration": 521,
    "start_time": "2024-10-02T06:02:47.956Z"
   },
   {
    "duration": 659,
    "start_time": "2024-10-02T06:02:48.479Z"
   },
   {
    "duration": 0,
    "start_time": "2024-10-02T06:02:49.141Z"
   },
   {
    "duration": 0,
    "start_time": "2024-10-02T06:02:49.142Z"
   },
   {
    "duration": 3,
    "start_time": "2024-10-02T06:09:54.404Z"
   },
   {
    "duration": 936,
    "start_time": "2024-10-02T06:13:00.362Z"
   },
   {
    "duration": 839,
    "start_time": "2024-10-02T06:13:06.140Z"
   },
   {
    "duration": 18,
    "start_time": "2024-10-02T06:13:06.982Z"
   },
   {
    "duration": 11,
    "start_time": "2024-10-02T06:13:07.001Z"
   },
   {
    "duration": 11,
    "start_time": "2024-10-02T06:13:07.015Z"
   },
   {
    "duration": 11,
    "start_time": "2024-10-02T06:13:07.029Z"
   },
   {
    "duration": 13,
    "start_time": "2024-10-02T06:13:07.042Z"
   },
   {
    "duration": 37,
    "start_time": "2024-10-02T06:13:07.057Z"
   },
   {
    "duration": 9,
    "start_time": "2024-10-02T06:13:07.096Z"
   },
   {
    "duration": 11,
    "start_time": "2024-10-02T06:13:07.107Z"
   },
   {
    "duration": 5,
    "start_time": "2024-10-02T06:13:07.120Z"
   },
   {
    "duration": 280,
    "start_time": "2024-10-02T06:13:07.127Z"
   },
   {
    "duration": 211,
    "start_time": "2024-10-02T06:13:07.409Z"
   },
   {
    "duration": 1318,
    "start_time": "2024-10-02T06:13:07.623Z"
   },
   {
    "duration": 0,
    "start_time": "2024-10-02T06:13:08.943Z"
   },
   {
    "duration": 0,
    "start_time": "2024-10-02T06:13:08.944Z"
   },
   {
    "duration": 0,
    "start_time": "2024-10-02T06:13:08.945Z"
   },
   {
    "duration": 3,
    "start_time": "2024-10-02T06:14:49.803Z"
   },
   {
    "duration": 231,
    "start_time": "2024-10-02T06:15:07.508Z"
   },
   {
    "duration": 234,
    "start_time": "2024-10-02T06:15:18.670Z"
   },
   {
    "duration": 240,
    "start_time": "2024-10-02T06:17:43.360Z"
   },
   {
    "duration": 211,
    "start_time": "2024-10-02T06:20:05.768Z"
   },
   {
    "duration": 3,
    "start_time": "2024-10-02T06:21:08.062Z"
   },
   {
    "duration": 3,
    "start_time": "2024-10-02T06:21:14.888Z"
   },
   {
    "duration": 6,
    "start_time": "2024-10-02T06:21:32.772Z"
   },
   {
    "duration": 194,
    "start_time": "2024-10-02T06:21:35.437Z"
   },
   {
    "duration": 6,
    "start_time": "2024-10-02T06:22:46.422Z"
   },
   {
    "duration": 180,
    "start_time": "2024-10-02T06:22:50.009Z"
   },
   {
    "duration": 205,
    "start_time": "2024-10-02T06:23:30.696Z"
   },
   {
    "duration": 214,
    "start_time": "2024-10-02T06:24:30.631Z"
   },
   {
    "duration": 208,
    "start_time": "2024-10-02T06:24:45.165Z"
   },
   {
    "duration": 856,
    "start_time": "2024-10-02T06:26:21.525Z"
   },
   {
    "duration": 16,
    "start_time": "2024-10-02T06:26:22.384Z"
   },
   {
    "duration": 8,
    "start_time": "2024-10-02T06:26:22.402Z"
   },
   {
    "duration": 9,
    "start_time": "2024-10-02T06:26:22.413Z"
   },
   {
    "duration": 9,
    "start_time": "2024-10-02T06:26:22.424Z"
   },
   {
    "duration": 11,
    "start_time": "2024-10-02T06:26:22.434Z"
   },
   {
    "duration": 44,
    "start_time": "2024-10-02T06:26:22.447Z"
   },
   {
    "duration": 10,
    "start_time": "2024-10-02T06:26:22.493Z"
   },
   {
    "duration": 10,
    "start_time": "2024-10-02T06:26:22.504Z"
   },
   {
    "duration": 5,
    "start_time": "2024-10-02T06:26:22.516Z"
   },
   {
    "duration": 276,
    "start_time": "2024-10-02T06:26:22.523Z"
   },
   {
    "duration": 211,
    "start_time": "2024-10-02T06:26:22.801Z"
   },
   {
    "duration": 327,
    "start_time": "2024-10-02T06:26:23.014Z"
   },
   {
    "duration": 6,
    "start_time": "2024-10-02T06:26:23.344Z"
   },
   {
    "duration": 238,
    "start_time": "2024-10-02T06:26:23.352Z"
   },
   {
    "duration": 237,
    "start_time": "2024-10-02T06:26:23.591Z"
   },
   {
    "duration": 0,
    "start_time": "2024-10-02T06:26:23.830Z"
   },
   {
    "duration": 0,
    "start_time": "2024-10-02T06:26:23.831Z"
   },
   {
    "duration": 197,
    "start_time": "2024-10-02T06:31:21.157Z"
   },
   {
    "duration": 15,
    "start_time": "2024-10-02T06:32:04.238Z"
   },
   {
    "duration": 263,
    "start_time": "2024-10-02T06:32:27.747Z"
   },
   {
    "duration": 171,
    "start_time": "2024-10-02T06:34:09.374Z"
   },
   {
    "duration": 407,
    "start_time": "2024-10-02T06:34:27.733Z"
   },
   {
    "duration": 17,
    "start_time": "2024-10-02T06:35:00.256Z"
   },
   {
    "duration": 345,
    "start_time": "2024-10-02T06:35:25.243Z"
   },
   {
    "duration": 1139,
    "start_time": "2024-10-02T06:35:31.832Z"
   },
   {
    "duration": 20,
    "start_time": "2024-10-02T06:35:32.973Z"
   },
   {
    "duration": 9,
    "start_time": "2024-10-02T06:35:32.995Z"
   },
   {
    "duration": 8,
    "start_time": "2024-10-02T06:35:33.006Z"
   },
   {
    "duration": 11,
    "start_time": "2024-10-02T06:35:33.016Z"
   },
   {
    "duration": 11,
    "start_time": "2024-10-02T06:35:33.029Z"
   },
   {
    "duration": 12,
    "start_time": "2024-10-02T06:35:33.041Z"
   },
   {
    "duration": 9,
    "start_time": "2024-10-02T06:35:33.088Z"
   },
   {
    "duration": 19,
    "start_time": "2024-10-02T06:35:33.099Z"
   },
   {
    "duration": 6,
    "start_time": "2024-10-02T06:35:33.120Z"
   },
   {
    "duration": 291,
    "start_time": "2024-10-02T06:35:33.128Z"
   },
   {
    "duration": 593,
    "start_time": "2024-10-02T06:35:33.421Z"
   },
   {
    "duration": 433,
    "start_time": "2024-10-02T06:35:34.016Z"
   },
   {
    "duration": 5,
    "start_time": "2024-10-02T06:35:34.452Z"
   },
   {
    "duration": 231,
    "start_time": "2024-10-02T06:35:34.459Z"
   },
   {
    "duration": 201,
    "start_time": "2024-10-02T06:35:34.692Z"
   },
   {
    "duration": 297,
    "start_time": "2024-10-02T06:35:34.895Z"
   },
   {
    "duration": 912,
    "start_time": "2024-10-02T06:35:35.194Z"
   },
   {
    "duration": 0,
    "start_time": "2024-10-02T06:35:36.108Z"
   },
   {
    "duration": 185,
    "start_time": "2024-10-02T06:39:19.703Z"
   },
   {
    "duration": 453,
    "start_time": "2024-10-02T06:39:43.457Z"
   },
   {
    "duration": 864,
    "start_time": "2024-10-02T06:39:59.745Z"
   },
   {
    "duration": 16,
    "start_time": "2024-10-02T06:40:00.611Z"
   },
   {
    "duration": 9,
    "start_time": "2024-10-02T06:40:00.629Z"
   },
   {
    "duration": 10,
    "start_time": "2024-10-02T06:40:00.640Z"
   },
   {
    "duration": 11,
    "start_time": "2024-10-02T06:40:00.652Z"
   },
   {
    "duration": 12,
    "start_time": "2024-10-02T06:40:00.687Z"
   },
   {
    "duration": 12,
    "start_time": "2024-10-02T06:40:00.700Z"
   },
   {
    "duration": 10,
    "start_time": "2024-10-02T06:40:00.714Z"
   },
   {
    "duration": 12,
    "start_time": "2024-10-02T06:40:00.726Z"
   },
   {
    "duration": 5,
    "start_time": "2024-10-02T06:40:00.741Z"
   },
   {
    "duration": 295,
    "start_time": "2024-10-02T06:40:00.748Z"
   },
   {
    "duration": 228,
    "start_time": "2024-10-02T06:40:01.045Z"
   },
   {
    "duration": 329,
    "start_time": "2024-10-02T06:40:01.275Z"
   },
   {
    "duration": 6,
    "start_time": "2024-10-02T06:40:01.606Z"
   },
   {
    "duration": 222,
    "start_time": "2024-10-02T06:40:01.614Z"
   },
   {
    "duration": 197,
    "start_time": "2024-10-02T06:40:01.837Z"
   },
   {
    "duration": 279,
    "start_time": "2024-10-02T06:40:02.036Z"
   },
   {
    "duration": 16,
    "start_time": "2024-10-02T06:40:02.317Z"
   },
   {
    "duration": 11,
    "start_time": "2024-10-02T06:40:02.336Z"
   },
   {
    "duration": 178,
    "start_time": "2024-10-02T06:40:36.693Z"
   },
   {
    "duration": 191,
    "start_time": "2024-10-02T06:42:13.917Z"
   },
   {
    "duration": 271,
    "start_time": "2024-10-02T06:44:08.688Z"
   },
   {
    "duration": 305,
    "start_time": "2024-10-02T06:45:21.328Z"
   },
   {
    "duration": 302,
    "start_time": "2024-10-02T06:45:35.370Z"
   },
   {
    "duration": 597,
    "start_time": "2024-10-02T06:47:04.392Z"
   },
   {
    "duration": 841,
    "start_time": "2024-10-02T06:47:10.650Z"
   },
   {
    "duration": 15,
    "start_time": "2024-10-02T06:47:11.493Z"
   },
   {
    "duration": 10,
    "start_time": "2024-10-02T06:47:11.510Z"
   },
   {
    "duration": 10,
    "start_time": "2024-10-02T06:47:11.523Z"
   },
   {
    "duration": 12,
    "start_time": "2024-10-02T06:47:11.535Z"
   },
   {
    "duration": 43,
    "start_time": "2024-10-02T06:47:11.549Z"
   },
   {
    "duration": 12,
    "start_time": "2024-10-02T06:47:11.594Z"
   },
   {
    "duration": 10,
    "start_time": "2024-10-02T06:47:11.607Z"
   },
   {
    "duration": 9,
    "start_time": "2024-10-02T06:47:11.619Z"
   },
   {
    "duration": 5,
    "start_time": "2024-10-02T06:47:11.632Z"
   },
   {
    "duration": 288,
    "start_time": "2024-10-02T06:47:11.639Z"
   },
   {
    "duration": 226,
    "start_time": "2024-10-02T06:47:11.929Z"
   },
   {
    "duration": 297,
    "start_time": "2024-10-02T06:47:12.157Z"
   },
   {
    "duration": 5,
    "start_time": "2024-10-02T06:47:12.456Z"
   },
   {
    "duration": 229,
    "start_time": "2024-10-02T06:47:12.463Z"
   },
   {
    "duration": 205,
    "start_time": "2024-10-02T06:47:12.694Z"
   },
   {
    "duration": 327,
    "start_time": "2024-10-02T06:47:12.901Z"
   },
   {
    "duration": 5,
    "start_time": "2024-10-02T06:47:13.230Z"
   },
   {
    "duration": 215,
    "start_time": "2024-10-02T06:47:13.237Z"
   },
   {
    "duration": 535,
    "start_time": "2024-10-02T06:47:13.454Z"
   },
   {
    "duration": 17,
    "start_time": "2024-10-02T06:47:13.992Z"
   },
   {
    "duration": 12,
    "start_time": "2024-10-02T06:49:57.615Z"
   },
   {
    "duration": 10,
    "start_time": "2024-10-02T06:52:17.611Z"
   },
   {
    "duration": 143,
    "start_time": "2024-10-02T06:53:11.825Z"
   },
   {
    "duration": 149,
    "start_time": "2024-10-02T06:53:50.844Z"
   },
   {
    "duration": 157,
    "start_time": "2024-10-02T06:54:08.976Z"
   },
   {
    "duration": 12,
    "start_time": "2024-10-02T06:58:19.096Z"
   },
   {
    "duration": 262,
    "start_time": "2024-10-02T06:59:00.787Z"
   },
   {
    "duration": 264,
    "start_time": "2024-10-02T06:59:38.926Z"
   },
   {
    "duration": 632,
    "start_time": "2024-10-02T07:00:43.970Z"
   },
   {
    "duration": 842,
    "start_time": "2024-10-02T07:00:55.424Z"
   },
   {
    "duration": 15,
    "start_time": "2024-10-02T07:00:56.268Z"
   },
   {
    "duration": 8,
    "start_time": "2024-10-02T07:00:56.286Z"
   },
   {
    "duration": 9,
    "start_time": "2024-10-02T07:00:56.296Z"
   },
   {
    "duration": 10,
    "start_time": "2024-10-02T07:00:56.308Z"
   },
   {
    "duration": 10,
    "start_time": "2024-10-02T07:00:56.320Z"
   },
   {
    "duration": 12,
    "start_time": "2024-10-02T07:00:56.332Z"
   },
   {
    "duration": 48,
    "start_time": "2024-10-02T07:00:56.346Z"
   },
   {
    "duration": 11,
    "start_time": "2024-10-02T07:00:56.395Z"
   },
   {
    "duration": 6,
    "start_time": "2024-10-02T07:00:56.407Z"
   },
   {
    "duration": 273,
    "start_time": "2024-10-02T07:00:56.414Z"
   },
   {
    "duration": 222,
    "start_time": "2024-10-02T07:00:56.689Z"
   },
   {
    "duration": 304,
    "start_time": "2024-10-02T07:00:56.913Z"
   },
   {
    "duration": 5,
    "start_time": "2024-10-02T07:00:57.220Z"
   },
   {
    "duration": 231,
    "start_time": "2024-10-02T07:00:57.227Z"
   },
   {
    "duration": 210,
    "start_time": "2024-10-02T07:00:57.460Z"
   },
   {
    "duration": 279,
    "start_time": "2024-10-02T07:00:57.672Z"
   },
   {
    "duration": 7,
    "start_time": "2024-10-02T07:00:57.953Z"
   },
   {
    "duration": 222,
    "start_time": "2024-10-02T07:00:57.961Z"
   },
   {
    "duration": 322,
    "start_time": "2024-10-02T07:00:58.187Z"
   },
   {
    "duration": 271,
    "start_time": "2024-10-02T07:00:58.512Z"
   },
   {
    "duration": 647,
    "start_time": "2024-10-02T07:00:58.785Z"
   },
   {
    "duration": 4,
    "start_time": "2024-10-02T07:01:29.294Z"
   },
   {
    "duration": 43,
    "start_time": "2024-10-02T07:02:26.223Z"
   },
   {
    "duration": 872,
    "start_time": "2024-10-02T07:02:33.807Z"
   },
   {
    "duration": 14,
    "start_time": "2024-10-02T07:02:34.682Z"
   },
   {
    "duration": 9,
    "start_time": "2024-10-02T07:02:34.697Z"
   },
   {
    "duration": 9,
    "start_time": "2024-10-02T07:02:34.708Z"
   },
   {
    "duration": 9,
    "start_time": "2024-10-02T07:02:34.720Z"
   },
   {
    "duration": 11,
    "start_time": "2024-10-02T07:02:34.731Z"
   },
   {
    "duration": 44,
    "start_time": "2024-10-02T07:02:34.744Z"
   },
   {
    "duration": 10,
    "start_time": "2024-10-02T07:02:34.790Z"
   },
   {
    "duration": 12,
    "start_time": "2024-10-02T07:02:34.802Z"
   },
   {
    "duration": 6,
    "start_time": "2024-10-02T07:02:34.818Z"
   },
   {
    "duration": 293,
    "start_time": "2024-10-02T07:02:34.826Z"
   },
   {
    "duration": 211,
    "start_time": "2024-10-02T07:02:35.121Z"
   },
   {
    "duration": 299,
    "start_time": "2024-10-02T07:02:35.335Z"
   },
   {
    "duration": 5,
    "start_time": "2024-10-02T07:02:35.637Z"
   },
   {
    "duration": 223,
    "start_time": "2024-10-02T07:02:35.644Z"
   },
   {
    "duration": 547,
    "start_time": "2024-10-02T07:02:35.869Z"
   },
   {
    "duration": 399,
    "start_time": "2024-10-02T07:02:36.418Z"
   },
   {
    "duration": 6,
    "start_time": "2024-10-02T07:02:36.819Z"
   },
   {
    "duration": 234,
    "start_time": "2024-10-02T07:02:36.827Z"
   },
   {
    "duration": 314,
    "start_time": "2024-10-02T07:02:37.063Z"
   },
   {
    "duration": 267,
    "start_time": "2024-10-02T07:02:37.379Z"
   },
   {
    "duration": 687,
    "start_time": "2024-10-02T07:02:37.647Z"
   },
   {
    "duration": 5,
    "start_time": "2024-10-02T07:03:23.300Z"
   },
   {
    "duration": 5,
    "start_time": "2024-10-02T07:04:31.865Z"
   },
   {
    "duration": 4,
    "start_time": "2024-10-02T07:05:06.661Z"
   },
   {
    "duration": 802,
    "start_time": "2024-10-02T07:26:35.983Z"
   },
   {
    "duration": 15,
    "start_time": "2024-10-02T07:26:36.787Z"
   },
   {
    "duration": 8,
    "start_time": "2024-10-02T07:26:36.804Z"
   },
   {
    "duration": 9,
    "start_time": "2024-10-02T07:26:36.814Z"
   },
   {
    "duration": 10,
    "start_time": "2024-10-02T07:26:36.824Z"
   },
   {
    "duration": 9,
    "start_time": "2024-10-02T07:26:36.836Z"
   },
   {
    "duration": 44,
    "start_time": "2024-10-02T07:26:36.847Z"
   },
   {
    "duration": 12,
    "start_time": "2024-10-02T07:26:36.893Z"
   },
   {
    "duration": 10,
    "start_time": "2024-10-02T07:26:36.907Z"
   },
   {
    "duration": 4,
    "start_time": "2024-10-02T07:26:36.921Z"
   },
   {
    "duration": 284,
    "start_time": "2024-10-02T07:26:36.927Z"
   },
   {
    "duration": 211,
    "start_time": "2024-10-02T07:26:37.213Z"
   },
   {
    "duration": 288,
    "start_time": "2024-10-02T07:26:37.427Z"
   },
   {
    "duration": 6,
    "start_time": "2024-10-02T07:26:37.717Z"
   },
   {
    "duration": 237,
    "start_time": "2024-10-02T07:26:37.724Z"
   },
   {
    "duration": 223,
    "start_time": "2024-10-02T07:26:37.963Z"
   },
   {
    "duration": 297,
    "start_time": "2024-10-02T07:26:38.189Z"
   },
   {
    "duration": 6,
    "start_time": "2024-10-02T07:26:38.488Z"
   },
   {
    "duration": 207,
    "start_time": "2024-10-02T07:26:38.496Z"
   },
   {
    "duration": 341,
    "start_time": "2024-10-02T07:26:38.705Z"
   },
   {
    "duration": 269,
    "start_time": "2024-10-02T07:26:39.048Z"
   },
   {
    "duration": 6,
    "start_time": "2024-10-02T07:26:39.319Z"
   },
   {
    "duration": 14,
    "start_time": "2024-10-02T07:26:39.328Z"
   },
   {
    "duration": 236,
    "start_time": "2024-10-02T07:26:39.344Z"
   },
   {
    "duration": 142,
    "start_time": "2024-10-02T07:28:24.947Z"
   },
   {
    "duration": 228,
    "start_time": "2024-10-02T07:30:09.992Z"
   },
   {
    "duration": 135,
    "start_time": "2024-10-02T07:30:31.755Z"
   },
   {
    "duration": 5,
    "start_time": "2024-10-02T07:32:58.327Z"
   },
   {
    "duration": 6,
    "start_time": "2024-10-02T07:33:54.150Z"
   },
   {
    "duration": 4,
    "start_time": "2024-10-02T07:34:52.968Z"
   },
   {
    "duration": 2846,
    "start_time": "2024-10-03T00:54:27.694Z"
   },
   {
    "duration": 42,
    "start_time": "2024-10-03T00:54:30.542Z"
   },
   {
    "duration": 9,
    "start_time": "2024-10-03T00:54:30.586Z"
   },
   {
    "duration": 9,
    "start_time": "2024-10-03T00:54:30.598Z"
   },
   {
    "duration": 11,
    "start_time": "2024-10-03T00:54:30.609Z"
   },
   {
    "duration": 11,
    "start_time": "2024-10-03T00:54:30.621Z"
   },
   {
    "duration": 14,
    "start_time": "2024-10-03T00:54:30.633Z"
   },
   {
    "duration": 10,
    "start_time": "2024-10-03T00:54:30.648Z"
   },
   {
    "duration": 10,
    "start_time": "2024-10-03T00:54:30.660Z"
   },
   {
    "duration": 37,
    "start_time": "2024-10-03T00:54:30.674Z"
   },
   {
    "duration": 280,
    "start_time": "2024-10-03T00:54:30.713Z"
   },
   {
    "duration": 214,
    "start_time": "2024-10-03T00:54:30.995Z"
   },
   {
    "duration": 239,
    "start_time": "2024-10-03T00:54:31.211Z"
   },
   {
    "duration": 5,
    "start_time": "2024-10-03T00:54:31.453Z"
   },
   {
    "duration": 242,
    "start_time": "2024-10-03T00:54:31.460Z"
   },
   {
    "duration": 255,
    "start_time": "2024-10-03T00:54:31.709Z"
   },
   {
    "duration": 356,
    "start_time": "2024-10-03T00:54:31.967Z"
   },
   {
    "duration": 6,
    "start_time": "2024-10-03T00:54:32.325Z"
   },
   {
    "duration": 238,
    "start_time": "2024-10-03T00:54:32.332Z"
   },
   {
    "duration": 308,
    "start_time": "2024-10-03T00:54:32.572Z"
   },
   {
    "duration": 249,
    "start_time": "2024-10-03T00:54:32.882Z"
   },
   {
    "duration": 4,
    "start_time": "2024-10-03T00:54:33.132Z"
   },
   {
    "duration": 13,
    "start_time": "2024-10-03T00:54:33.138Z"
   },
   {
    "duration": 158,
    "start_time": "2024-10-03T00:54:33.153Z"
   },
   {
    "duration": 5,
    "start_time": "2024-10-03T00:54:33.313Z"
   },
   {
    "duration": 15,
    "start_time": "2024-10-03T01:09:18.236Z"
   },
   {
    "duration": 854,
    "start_time": "2024-10-03T01:17:19.544Z"
   },
   {
    "duration": 22,
    "start_time": "2024-10-03T01:17:20.400Z"
   },
   {
    "duration": 12,
    "start_time": "2024-10-03T01:17:20.424Z"
   },
   {
    "duration": 17,
    "start_time": "2024-10-03T01:17:20.438Z"
   },
   {
    "duration": 15,
    "start_time": "2024-10-03T01:17:20.458Z"
   },
   {
    "duration": 13,
    "start_time": "2024-10-03T01:17:20.476Z"
   },
   {
    "duration": 24,
    "start_time": "2024-10-03T01:17:20.491Z"
   },
   {
    "duration": 10,
    "start_time": "2024-10-03T01:17:20.517Z"
   },
   {
    "duration": 10,
    "start_time": "2024-10-03T01:17:20.529Z"
   },
   {
    "duration": 5,
    "start_time": "2024-10-03T01:17:20.541Z"
   },
   {
    "duration": 296,
    "start_time": "2024-10-03T01:17:20.549Z"
   },
   {
    "duration": 213,
    "start_time": "2024-10-03T01:17:20.847Z"
   },
   {
    "duration": 492,
    "start_time": "2024-10-03T01:17:21.062Z"
   },
   {
    "duration": 5,
    "start_time": "2024-10-03T01:17:21.611Z"
   },
   {
    "duration": 518,
    "start_time": "2024-10-03T01:17:21.618Z"
   },
   {
    "duration": 219,
    "start_time": "2024-10-03T01:17:22.139Z"
   },
   {
    "duration": 275,
    "start_time": "2024-10-03T01:17:22.361Z"
   },
   {
    "duration": 5,
    "start_time": "2024-10-03T01:17:22.638Z"
   },
   {
    "duration": 206,
    "start_time": "2024-10-03T01:17:22.645Z"
   },
   {
    "duration": 317,
    "start_time": "2024-10-03T01:17:22.853Z"
   },
   {
    "duration": 316,
    "start_time": "2024-10-03T01:17:23.172Z"
   },
   {
    "duration": 5,
    "start_time": "2024-10-03T01:17:23.490Z"
   },
   {
    "duration": 21,
    "start_time": "2024-10-03T01:17:23.497Z"
   },
   {
    "duration": 172,
    "start_time": "2024-10-03T01:17:23.519Z"
   },
   {
    "duration": 4,
    "start_time": "2024-10-03T01:17:23.694Z"
   },
   {
    "duration": 236,
    "start_time": "2024-10-03T01:17:23.699Z"
   },
   {
    "duration": 856,
    "start_time": "2024-10-03T01:18:02.426Z"
   },
   {
    "duration": 15,
    "start_time": "2024-10-03T01:18:03.284Z"
   },
   {
    "duration": 12,
    "start_time": "2024-10-03T01:18:03.301Z"
   },
   {
    "duration": 8,
    "start_time": "2024-10-03T01:18:03.316Z"
   },
   {
    "duration": 10,
    "start_time": "2024-10-03T01:18:03.325Z"
   },
   {
    "duration": 9,
    "start_time": "2024-10-03T01:18:03.336Z"
   },
   {
    "duration": 10,
    "start_time": "2024-10-03T01:18:03.347Z"
   },
   {
    "duration": 11,
    "start_time": "2024-10-03T01:18:03.359Z"
   },
   {
    "duration": 46,
    "start_time": "2024-10-03T01:18:03.372Z"
   },
   {
    "duration": 8,
    "start_time": "2024-10-03T01:18:03.422Z"
   },
   {
    "duration": 622,
    "start_time": "2024-10-03T01:18:03.431Z"
   },
   {
    "duration": 365,
    "start_time": "2024-10-03T01:18:04.055Z"
   },
   {
    "duration": 297,
    "start_time": "2024-10-03T01:18:04.422Z"
   },
   {
    "duration": 8,
    "start_time": "2024-10-03T01:18:04.722Z"
   },
   {
    "duration": 248,
    "start_time": "2024-10-03T01:18:04.733Z"
   },
   {
    "duration": 219,
    "start_time": "2024-10-03T01:18:04.983Z"
   },
   {
    "duration": 291,
    "start_time": "2024-10-03T01:18:05.208Z"
   },
   {
    "duration": 9,
    "start_time": "2024-10-03T01:18:05.501Z"
   },
   {
    "duration": 210,
    "start_time": "2024-10-03T01:18:05.513Z"
   },
   {
    "duration": 331,
    "start_time": "2024-10-03T01:18:05.725Z"
   },
   {
    "duration": 265,
    "start_time": "2024-10-03T01:18:06.058Z"
   },
   {
    "duration": 6,
    "start_time": "2024-10-03T01:18:06.326Z"
   },
   {
    "duration": 13,
    "start_time": "2024-10-03T01:18:06.335Z"
   },
   {
    "duration": 172,
    "start_time": "2024-10-03T01:18:06.350Z"
   },
   {
    "duration": 7,
    "start_time": "2024-10-03T01:18:06.526Z"
   },
   {
    "duration": 467,
    "start_time": "2024-10-03T01:18:06.536Z"
   },
   {
    "duration": 7,
    "start_time": "2024-10-03T01:19:05.616Z"
   },
   {
    "duration": 966,
    "start_time": "2024-10-03T01:21:26.536Z"
   },
   {
    "duration": 26,
    "start_time": "2024-10-03T01:21:27.509Z"
   },
   {
    "duration": 10,
    "start_time": "2024-10-03T01:21:27.539Z"
   },
   {
    "duration": 8,
    "start_time": "2024-10-03T01:21:27.551Z"
   },
   {
    "duration": 13,
    "start_time": "2024-10-03T01:21:27.563Z"
   },
   {
    "duration": 11,
    "start_time": "2024-10-03T01:21:27.578Z"
   },
   {
    "duration": 29,
    "start_time": "2024-10-03T01:21:27.591Z"
   },
   {
    "duration": 11,
    "start_time": "2024-10-03T01:21:27.622Z"
   },
   {
    "duration": 11,
    "start_time": "2024-10-03T01:21:27.636Z"
   },
   {
    "duration": 5,
    "start_time": "2024-10-03T01:21:27.649Z"
   },
   {
    "duration": 336,
    "start_time": "2024-10-03T01:21:27.658Z"
   },
   {
    "duration": 328,
    "start_time": "2024-10-03T01:21:27.996Z"
   },
   {
    "duration": 685,
    "start_time": "2024-10-03T01:21:28.326Z"
   },
   {
    "duration": 6,
    "start_time": "2024-10-03T01:21:29.014Z"
   },
   {
    "duration": 292,
    "start_time": "2024-10-03T01:21:29.022Z"
   },
   {
    "duration": 205,
    "start_time": "2024-10-03T01:21:29.316Z"
   },
   {
    "duration": 307,
    "start_time": "2024-10-03T01:21:29.523Z"
   },
   {
    "duration": 6,
    "start_time": "2024-10-03T01:21:29.832Z"
   },
   {
    "duration": 207,
    "start_time": "2024-10-03T01:21:29.840Z"
   },
   {
    "duration": 312,
    "start_time": "2024-10-03T01:21:30.049Z"
   },
   {
    "duration": 273,
    "start_time": "2024-10-03T01:21:30.363Z"
   },
   {
    "duration": 4,
    "start_time": "2024-10-03T01:21:30.638Z"
   },
   {
    "duration": 12,
    "start_time": "2024-10-03T01:21:30.644Z"
   },
   {
    "duration": 162,
    "start_time": "2024-10-03T01:21:30.659Z"
   },
   {
    "duration": 6,
    "start_time": "2024-10-03T01:21:30.823Z"
   },
   {
    "duration": 4,
    "start_time": "2024-10-03T01:21:30.832Z"
   },
   {
    "duration": 8,
    "start_time": "2024-10-03T01:22:15.800Z"
   },
   {
    "duration": 7,
    "start_time": "2024-10-03T01:25:37.885Z"
   },
   {
    "duration": 566,
    "start_time": "2024-10-03T01:31:42.258Z"
   },
   {
    "duration": 12,
    "start_time": "2024-10-03T01:32:16.810Z"
   },
   {
    "duration": 128,
    "start_time": "2024-10-03T01:33:45.698Z"
   },
   {
    "duration": 133,
    "start_time": "2024-10-03T01:36:38.715Z"
   },
   {
    "duration": 13,
    "start_time": "2024-10-03T01:40:25.692Z"
   },
   {
    "duration": 13,
    "start_time": "2024-10-03T01:40:38.303Z"
   },
   {
    "duration": 12,
    "start_time": "2024-10-03T02:33:25.642Z"
   },
   {
    "duration": 159,
    "start_time": "2024-10-03T05:46:02.353Z"
   },
   {
    "duration": 2517,
    "start_time": "2024-10-03T05:46:07.889Z"
   },
   {
    "duration": 39,
    "start_time": "2024-10-03T05:46:10.408Z"
   },
   {
    "duration": 8,
    "start_time": "2024-10-03T05:46:10.449Z"
   },
   {
    "duration": 8,
    "start_time": "2024-10-03T05:46:10.459Z"
   },
   {
    "duration": 9,
    "start_time": "2024-10-03T05:46:10.469Z"
   },
   {
    "duration": 11,
    "start_time": "2024-10-03T05:46:10.479Z"
   },
   {
    "duration": 15,
    "start_time": "2024-10-03T05:46:10.491Z"
   },
   {
    "duration": 8,
    "start_time": "2024-10-03T05:46:10.508Z"
   },
   {
    "duration": 57,
    "start_time": "2024-10-03T05:46:10.518Z"
   },
   {
    "duration": 4,
    "start_time": "2024-10-03T05:46:10.577Z"
   },
   {
    "duration": 511,
    "start_time": "2024-10-03T05:46:10.583Z"
   },
   {
    "duration": 276,
    "start_time": "2024-10-03T05:46:11.096Z"
   },
   {
    "duration": 234,
    "start_time": "2024-10-03T05:46:11.374Z"
   },
   {
    "duration": 6,
    "start_time": "2024-10-03T05:46:11.612Z"
   },
   {
    "duration": 8,
    "start_time": "2024-10-03T05:46:11.620Z"
   },
   {
    "duration": 223,
    "start_time": "2024-10-03T05:46:11.630Z"
   },
   {
    "duration": 195,
    "start_time": "2024-10-03T05:46:11.855Z"
   },
   {
    "duration": 297,
    "start_time": "2024-10-03T05:46:12.054Z"
   },
   {
    "duration": 5,
    "start_time": "2024-10-03T05:46:12.353Z"
   },
   {
    "duration": 249,
    "start_time": "2024-10-03T05:46:12.369Z"
   },
   {
    "duration": 303,
    "start_time": "2024-10-03T05:46:12.619Z"
   },
   {
    "duration": 257,
    "start_time": "2024-10-03T05:46:12.923Z"
   },
   {
    "duration": 4,
    "start_time": "2024-10-03T05:46:13.183Z"
   },
   {
    "duration": 12,
    "start_time": "2024-10-03T05:46:13.189Z"
   },
   {
    "duration": 156,
    "start_time": "2024-10-03T05:46:13.203Z"
   },
   {
    "duration": 11,
    "start_time": "2024-10-03T05:46:13.361Z"
   },
   {
    "duration": 7,
    "start_time": "2024-10-03T05:46:13.374Z"
   },
   {
    "duration": 5,
    "start_time": "2024-10-03T05:46:13.382Z"
   },
   {
    "duration": 243,
    "start_time": "2024-10-03T05:46:13.389Z"
   },
   {
    "duration": 0,
    "start_time": "2024-10-03T05:46:13.634Z"
   },
   {
    "duration": 9,
    "start_time": "2024-10-03T05:46:38.780Z"
   },
   {
    "duration": 9,
    "start_time": "2024-10-03T05:56:57.264Z"
   },
   {
    "duration": 8,
    "start_time": "2024-10-03T05:57:18.727Z"
   },
   {
    "duration": 215,
    "start_time": "2024-10-03T05:58:35.595Z"
   },
   {
    "duration": 7,
    "start_time": "2024-10-03T06:08:39.115Z"
   },
   {
    "duration": 833,
    "start_time": "2024-10-03T06:08:47.414Z"
   },
   {
    "duration": 17,
    "start_time": "2024-10-03T06:08:48.249Z"
   },
   {
    "duration": 8,
    "start_time": "2024-10-03T06:08:48.269Z"
   },
   {
    "duration": 9,
    "start_time": "2024-10-03T06:08:48.279Z"
   },
   {
    "duration": 9,
    "start_time": "2024-10-03T06:08:48.289Z"
   },
   {
    "duration": 10,
    "start_time": "2024-10-03T06:08:48.299Z"
   },
   {
    "duration": 12,
    "start_time": "2024-10-03T06:08:48.310Z"
   },
   {
    "duration": 8,
    "start_time": "2024-10-03T06:08:48.324Z"
   },
   {
    "duration": 11,
    "start_time": "2024-10-03T06:08:48.370Z"
   },
   {
    "duration": 4,
    "start_time": "2024-10-03T06:08:48.384Z"
   },
   {
    "duration": 265,
    "start_time": "2024-10-03T06:08:48.389Z"
   },
   {
    "duration": 207,
    "start_time": "2024-10-03T06:08:48.657Z"
   },
   {
    "duration": 274,
    "start_time": "2024-10-03T06:08:48.869Z"
   },
   {
    "duration": 5,
    "start_time": "2024-10-03T06:08:49.145Z"
   },
   {
    "duration": 211,
    "start_time": "2024-10-03T06:08:49.152Z"
   },
   {
    "duration": 200,
    "start_time": "2024-10-03T06:08:49.364Z"
   },
   {
    "duration": 4,
    "start_time": "2024-10-03T06:08:49.570Z"
   },
   {
    "duration": 0,
    "start_time": "2024-10-03T06:08:49.575Z"
   },
   {
    "duration": 0,
    "start_time": "2024-10-03T06:08:49.577Z"
   },
   {
    "duration": 0,
    "start_time": "2024-10-03T06:08:49.578Z"
   },
   {
    "duration": 0,
    "start_time": "2024-10-03T06:08:49.579Z"
   },
   {
    "duration": 0,
    "start_time": "2024-10-03T06:08:49.580Z"
   },
   {
    "duration": 0,
    "start_time": "2024-10-03T06:08:49.581Z"
   },
   {
    "duration": 0,
    "start_time": "2024-10-03T06:08:49.582Z"
   },
   {
    "duration": 0,
    "start_time": "2024-10-03T06:08:49.584Z"
   },
   {
    "duration": 0,
    "start_time": "2024-10-03T06:08:49.585Z"
   },
   {
    "duration": 0,
    "start_time": "2024-10-03T06:08:49.586Z"
   },
   {
    "duration": 0,
    "start_time": "2024-10-03T06:08:49.587Z"
   },
   {
    "duration": 0,
    "start_time": "2024-10-03T06:08:49.588Z"
   },
   {
    "duration": 0,
    "start_time": "2024-10-03T06:08:49.590Z"
   },
   {
    "duration": 5,
    "start_time": "2024-10-03T06:09:45.731Z"
   },
   {
    "duration": 6,
    "start_time": "2024-10-03T06:10:51.203Z"
   },
   {
    "duration": 9,
    "start_time": "2024-10-03T06:12:23.733Z"
   },
   {
    "duration": 4,
    "start_time": "2024-10-03T06:13:13.781Z"
   },
   {
    "duration": 11,
    "start_time": "2024-10-03T06:13:47.448Z"
   },
   {
    "duration": 883,
    "start_time": "2024-10-03T06:13:59.683Z"
   },
   {
    "duration": 14,
    "start_time": "2024-10-03T06:14:00.568Z"
   },
   {
    "duration": 9,
    "start_time": "2024-10-03T06:14:00.584Z"
   },
   {
    "duration": 9,
    "start_time": "2024-10-03T06:14:00.596Z"
   },
   {
    "duration": 10,
    "start_time": "2024-10-03T06:14:00.607Z"
   },
   {
    "duration": 10,
    "start_time": "2024-10-03T06:14:00.618Z"
   },
   {
    "duration": 11,
    "start_time": "2024-10-03T06:14:00.630Z"
   },
   {
    "duration": 10,
    "start_time": "2024-10-03T06:14:00.671Z"
   },
   {
    "duration": 9,
    "start_time": "2024-10-03T06:14:00.683Z"
   },
   {
    "duration": 5,
    "start_time": "2024-10-03T06:14:00.696Z"
   },
   {
    "duration": 280,
    "start_time": "2024-10-03T06:14:00.702Z"
   },
   {
    "duration": 212,
    "start_time": "2024-10-03T06:14:00.984Z"
   },
   {
    "duration": 295,
    "start_time": "2024-10-03T06:14:01.198Z"
   },
   {
    "duration": 5,
    "start_time": "2024-10-03T06:14:01.495Z"
   },
   {
    "duration": 216,
    "start_time": "2024-10-03T06:14:01.502Z"
   },
   {
    "duration": 205,
    "start_time": "2024-10-03T06:14:01.721Z"
   },
   {
    "duration": 13,
    "start_time": "2024-10-03T06:14:01.928Z"
   },
   {
    "duration": 266,
    "start_time": "2024-10-03T06:14:01.943Z"
   },
   {
    "duration": 8,
    "start_time": "2024-10-03T06:14:02.211Z"
   },
   {
    "duration": 211,
    "start_time": "2024-10-03T06:14:02.222Z"
   },
   {
    "duration": 295,
    "start_time": "2024-10-03T06:14:02.435Z"
   },
   {
    "duration": 278,
    "start_time": "2024-10-03T06:14:02.732Z"
   },
   {
    "duration": 5,
    "start_time": "2024-10-03T06:14:03.012Z"
   },
   {
    "duration": 12,
    "start_time": "2024-10-03T06:14:03.019Z"
   },
   {
    "duration": 170,
    "start_time": "2024-10-03T06:14:03.034Z"
   },
   {
    "duration": 5,
    "start_time": "2024-10-03T06:14:03.206Z"
   },
   {
    "duration": 8,
    "start_time": "2024-10-03T06:14:03.213Z"
   },
   {
    "duration": 5,
    "start_time": "2024-10-03T06:14:03.225Z"
   },
   {
    "duration": 253,
    "start_time": "2024-10-03T06:14:03.232Z"
   },
   {
    "duration": 0,
    "start_time": "2024-10-03T06:14:03.487Z"
   },
   {
    "duration": 15,
    "start_time": "2024-10-03T06:15:22.001Z"
   },
   {
    "duration": 10,
    "start_time": "2024-10-03T06:15:25.038Z"
   },
   {
    "duration": 265,
    "start_time": "2024-10-03T06:28:21.734Z"
   },
   {
    "duration": 203,
    "start_time": "2024-10-03T06:28:50.170Z"
   },
   {
    "duration": 812,
    "start_time": "2024-10-03T06:29:02.638Z"
   },
   {
    "duration": 17,
    "start_time": "2024-10-03T06:29:03.452Z"
   },
   {
    "duration": 7,
    "start_time": "2024-10-03T06:29:03.471Z"
   },
   {
    "duration": 7,
    "start_time": "2024-10-03T06:29:03.481Z"
   },
   {
    "duration": 10,
    "start_time": "2024-10-03T06:29:03.491Z"
   },
   {
    "duration": 9,
    "start_time": "2024-10-03T06:29:03.502Z"
   },
   {
    "duration": 12,
    "start_time": "2024-10-03T06:29:03.513Z"
   },
   {
    "duration": 45,
    "start_time": "2024-10-03T06:29:03.527Z"
   },
   {
    "duration": 9,
    "start_time": "2024-10-03T06:29:03.574Z"
   },
   {
    "duration": 5,
    "start_time": "2024-10-03T06:29:03.584Z"
   },
   {
    "duration": 285,
    "start_time": "2024-10-03T06:29:03.590Z"
   },
   {
    "duration": 208,
    "start_time": "2024-10-03T06:29:03.876Z"
   },
   {
    "duration": 284,
    "start_time": "2024-10-03T06:29:04.086Z"
   },
   {
    "duration": 7,
    "start_time": "2024-10-03T06:29:04.373Z"
   },
   {
    "duration": 223,
    "start_time": "2024-10-03T06:29:04.382Z"
   },
   {
    "duration": 210,
    "start_time": "2024-10-03T06:29:04.607Z"
   },
   {
    "duration": 283,
    "start_time": "2024-10-03T06:29:04.819Z"
   },
   {
    "duration": 6,
    "start_time": "2024-10-03T06:29:05.105Z"
   },
   {
    "duration": 209,
    "start_time": "2024-10-03T06:29:05.113Z"
   },
   {
    "duration": 306,
    "start_time": "2024-10-03T06:29:05.324Z"
   },
   {
    "duration": 243,
    "start_time": "2024-10-03T06:29:05.632Z"
   },
   {
    "duration": 4,
    "start_time": "2024-10-03T06:29:05.878Z"
   },
   {
    "duration": 11,
    "start_time": "2024-10-03T06:29:05.884Z"
   },
   {
    "duration": 159,
    "start_time": "2024-10-03T06:29:05.897Z"
   },
   {
    "duration": 4,
    "start_time": "2024-10-03T06:29:06.059Z"
   },
   {
    "duration": 7,
    "start_time": "2024-10-03T06:29:06.070Z"
   },
   {
    "duration": 6,
    "start_time": "2024-10-03T06:29:06.079Z"
   },
   {
    "duration": 247,
    "start_time": "2024-10-03T06:29:06.088Z"
   },
   {
    "duration": 0,
    "start_time": "2024-10-03T06:29:06.337Z"
   },
   {
    "duration": 271,
    "start_time": "2024-10-03T06:29:39.199Z"
   },
   {
    "duration": 250,
    "start_time": "2024-10-03T06:30:45.945Z"
   },
   {
    "duration": 289,
    "start_time": "2024-10-03T06:31:29.470Z"
   },
   {
    "duration": 232,
    "start_time": "2024-10-03T06:32:55.725Z"
   },
   {
    "duration": 258,
    "start_time": "2024-10-03T06:33:05.539Z"
   },
   {
    "duration": 7,
    "start_time": "2024-10-03T06:34:18.975Z"
   },
   {
    "duration": 7,
    "start_time": "2024-10-03T06:38:40.477Z"
   },
   {
    "duration": 359,
    "start_time": "2024-10-03T07:02:47.626Z"
   },
   {
    "duration": 785,
    "start_time": "2024-10-03T07:02:54.075Z"
   },
   {
    "duration": 18,
    "start_time": "2024-10-03T07:02:54.862Z"
   },
   {
    "duration": 8,
    "start_time": "2024-10-03T07:02:54.882Z"
   },
   {
    "duration": 8,
    "start_time": "2024-10-03T07:02:54.892Z"
   },
   {
    "duration": 8,
    "start_time": "2024-10-03T07:02:54.903Z"
   },
   {
    "duration": 9,
    "start_time": "2024-10-03T07:02:54.913Z"
   },
   {
    "duration": 11,
    "start_time": "2024-10-03T07:02:54.924Z"
   },
   {
    "duration": 36,
    "start_time": "2024-10-03T07:02:54.940Z"
   },
   {
    "duration": 9,
    "start_time": "2024-10-03T07:02:54.977Z"
   },
   {
    "duration": 4,
    "start_time": "2024-10-03T07:02:54.988Z"
   },
   {
    "duration": 269,
    "start_time": "2024-10-03T07:02:54.993Z"
   },
   {
    "duration": 214,
    "start_time": "2024-10-03T07:02:55.264Z"
   },
   {
    "duration": 279,
    "start_time": "2024-10-03T07:02:55.481Z"
   },
   {
    "duration": 10,
    "start_time": "2024-10-03T07:02:55.763Z"
   },
   {
    "duration": 209,
    "start_time": "2024-10-03T07:02:55.776Z"
   },
   {
    "duration": 194,
    "start_time": "2024-10-03T07:02:55.986Z"
   },
   {
    "duration": 236,
    "start_time": "2024-10-03T07:02:56.182Z"
   },
   {
    "duration": 0,
    "start_time": "2024-10-03T07:02:56.419Z"
   },
   {
    "duration": 0,
    "start_time": "2024-10-03T07:02:56.421Z"
   },
   {
    "duration": 0,
    "start_time": "2024-10-03T07:02:56.422Z"
   },
   {
    "duration": 0,
    "start_time": "2024-10-03T07:02:56.422Z"
   },
   {
    "duration": 0,
    "start_time": "2024-10-03T07:02:56.423Z"
   },
   {
    "duration": 0,
    "start_time": "2024-10-03T07:02:56.424Z"
   },
   {
    "duration": 0,
    "start_time": "2024-10-03T07:02:56.425Z"
   },
   {
    "duration": 1,
    "start_time": "2024-10-03T07:02:56.426Z"
   },
   {
    "duration": 0,
    "start_time": "2024-10-03T07:02:56.427Z"
   },
   {
    "duration": 0,
    "start_time": "2024-10-03T07:02:56.429Z"
   },
   {
    "duration": 0,
    "start_time": "2024-10-03T07:02:56.430Z"
   },
   {
    "duration": 0,
    "start_time": "2024-10-03T07:02:56.431Z"
   },
   {
    "duration": 0,
    "start_time": "2024-10-03T07:02:56.433Z"
   },
   {
    "duration": 19,
    "start_time": "2024-10-03T07:03:27.001Z"
   },
   {
    "duration": 20,
    "start_time": "2024-10-03T07:04:43.146Z"
   },
   {
    "duration": 307,
    "start_time": "2024-10-03T07:05:44.982Z"
   },
   {
    "duration": 817,
    "start_time": "2024-10-03T07:06:06.848Z"
   },
   {
    "duration": 16,
    "start_time": "2024-10-03T07:06:07.667Z"
   },
   {
    "duration": 8,
    "start_time": "2024-10-03T07:06:07.684Z"
   },
   {
    "duration": 8,
    "start_time": "2024-10-03T07:06:07.695Z"
   },
   {
    "duration": 8,
    "start_time": "2024-10-03T07:06:07.705Z"
   },
   {
    "duration": 9,
    "start_time": "2024-10-03T07:06:07.715Z"
   },
   {
    "duration": 11,
    "start_time": "2024-10-03T07:06:07.726Z"
   },
   {
    "duration": 37,
    "start_time": "2024-10-03T07:06:07.738Z"
   },
   {
    "duration": 8,
    "start_time": "2024-10-03T07:06:07.777Z"
   },
   {
    "duration": 4,
    "start_time": "2024-10-03T07:06:07.788Z"
   },
   {
    "duration": 439,
    "start_time": "2024-10-03T07:06:07.795Z"
   },
   {
    "duration": 439,
    "start_time": "2024-10-03T07:06:08.236Z"
   },
   {
    "duration": 279,
    "start_time": "2024-10-03T07:06:08.677Z"
   },
   {
    "duration": 13,
    "start_time": "2024-10-03T07:06:08.957Z"
   },
   {
    "duration": 339,
    "start_time": "2024-10-03T07:06:08.973Z"
   },
   {
    "duration": 456,
    "start_time": "2024-10-03T07:06:09.314Z"
   },
   {
    "duration": 302,
    "start_time": "2024-10-03T07:06:09.772Z"
   },
   {
    "duration": 5,
    "start_time": "2024-10-03T07:06:10.076Z"
   },
   {
    "duration": 294,
    "start_time": "2024-10-03T07:06:10.083Z"
   },
   {
    "duration": 10,
    "start_time": "2024-10-03T07:06:10.379Z"
   },
   {
    "duration": 713,
    "start_time": "2024-10-03T07:06:10.391Z"
   },
   {
    "duration": 585,
    "start_time": "2024-10-03T07:06:11.106Z"
   },
   {
    "duration": 5,
    "start_time": "2024-10-03T07:06:11.692Z"
   },
   {
    "duration": 11,
    "start_time": "2024-10-03T07:06:11.698Z"
   },
   {
    "duration": 362,
    "start_time": "2024-10-03T07:06:11.711Z"
   },
   {
    "duration": 5,
    "start_time": "2024-10-03T07:06:12.074Z"
   },
   {
    "duration": 7,
    "start_time": "2024-10-03T07:06:12.080Z"
   },
   {
    "duration": 5,
    "start_time": "2024-10-03T07:06:12.091Z"
   },
   {
    "duration": 362,
    "start_time": "2024-10-03T07:06:12.097Z"
   },
   {
    "duration": 0,
    "start_time": "2024-10-03T07:06:12.461Z"
   },
   {
    "duration": 288,
    "start_time": "2024-10-03T07:14:23.268Z"
   },
   {
    "duration": 16,
    "start_time": "2024-10-03T07:15:08.015Z"
   },
   {
    "duration": 827,
    "start_time": "2024-10-03T07:15:14.686Z"
   },
   {
    "duration": 14,
    "start_time": "2024-10-03T07:15:15.516Z"
   },
   {
    "duration": 9,
    "start_time": "2024-10-03T07:15:15.533Z"
   },
   {
    "duration": 9,
    "start_time": "2024-10-03T07:15:15.543Z"
   },
   {
    "duration": 9,
    "start_time": "2024-10-03T07:15:15.569Z"
   },
   {
    "duration": 9,
    "start_time": "2024-10-03T07:15:15.580Z"
   },
   {
    "duration": 11,
    "start_time": "2024-10-03T07:15:15.590Z"
   },
   {
    "duration": 8,
    "start_time": "2024-10-03T07:15:15.602Z"
   },
   {
    "duration": 10,
    "start_time": "2024-10-03T07:15:15.612Z"
   },
   {
    "duration": 5,
    "start_time": "2024-10-03T07:15:15.623Z"
   },
   {
    "duration": 296,
    "start_time": "2024-10-03T07:15:15.630Z"
   },
   {
    "duration": 212,
    "start_time": "2024-10-03T07:15:15.928Z"
   },
   {
    "duration": 301,
    "start_time": "2024-10-03T07:15:16.142Z"
   },
   {
    "duration": 5,
    "start_time": "2024-10-03T07:15:16.447Z"
   },
   {
    "duration": 226,
    "start_time": "2024-10-03T07:15:16.455Z"
   },
   {
    "duration": 215,
    "start_time": "2024-10-03T07:15:16.685Z"
   },
   {
    "duration": 306,
    "start_time": "2024-10-03T07:15:16.902Z"
   },
   {
    "duration": 6,
    "start_time": "2024-10-03T07:15:17.210Z"
   },
   {
    "duration": 201,
    "start_time": "2024-10-03T07:15:17.217Z"
   },
   {
    "duration": 307,
    "start_time": "2024-10-03T07:15:17.420Z"
   },
   {
    "duration": 3,
    "start_time": "2024-10-03T07:15:17.729Z"
   },
   {
    "duration": 244,
    "start_time": "2024-10-03T07:15:17.734Z"
   },
   {
    "duration": 3,
    "start_time": "2024-10-03T07:15:17.981Z"
   },
   {
    "duration": 22,
    "start_time": "2024-10-03T07:15:17.986Z"
   },
   {
    "duration": 148,
    "start_time": "2024-10-03T07:15:18.010Z"
   },
   {
    "duration": 11,
    "start_time": "2024-10-03T07:15:18.160Z"
   },
   {
    "duration": 7,
    "start_time": "2024-10-03T07:15:18.172Z"
   },
   {
    "duration": 6,
    "start_time": "2024-10-03T07:15:18.181Z"
   },
   {
    "duration": 242,
    "start_time": "2024-10-03T07:15:18.188Z"
   },
   {
    "duration": 0,
    "start_time": "2024-10-03T07:15:18.432Z"
   },
   {
    "duration": 5,
    "start_time": "2024-10-03T07:15:54.021Z"
   },
   {
    "duration": 9,
    "start_time": "2024-10-03T07:16:35.526Z"
   },
   {
    "duration": 8,
    "start_time": "2024-10-03T07:16:55.972Z"
   },
   {
    "duration": 289,
    "start_time": "2024-10-03T07:21:44.273Z"
   },
   {
    "duration": 52,
    "start_time": "2024-10-03T07:22:23.827Z"
   },
   {
    "duration": 54,
    "start_time": "2024-10-03T07:22:29.293Z"
   },
   {
    "duration": 51,
    "start_time": "2024-10-03T07:22:49.224Z"
   },
   {
    "duration": 52,
    "start_time": "2024-10-03T07:23:10.830Z"
   },
   {
    "duration": 830,
    "start_time": "2024-10-03T07:23:18.081Z"
   },
   {
    "duration": 15,
    "start_time": "2024-10-03T07:23:18.913Z"
   },
   {
    "duration": 9,
    "start_time": "2024-10-03T07:23:18.931Z"
   },
   {
    "duration": 9,
    "start_time": "2024-10-03T07:23:18.941Z"
   },
   {
    "duration": 23,
    "start_time": "2024-10-03T07:23:18.952Z"
   },
   {
    "duration": 9,
    "start_time": "2024-10-03T07:23:18.977Z"
   },
   {
    "duration": 11,
    "start_time": "2024-10-03T07:23:18.987Z"
   },
   {
    "duration": 8,
    "start_time": "2024-10-03T07:23:19.000Z"
   },
   {
    "duration": 10,
    "start_time": "2024-10-03T07:23:19.009Z"
   },
   {
    "duration": 5,
    "start_time": "2024-10-03T07:23:19.020Z"
   },
   {
    "duration": 288,
    "start_time": "2024-10-03T07:23:19.026Z"
   },
   {
    "duration": 207,
    "start_time": "2024-10-03T07:23:19.316Z"
   },
   {
    "duration": 286,
    "start_time": "2024-10-03T07:23:19.525Z"
   },
   {
    "duration": 5,
    "start_time": "2024-10-03T07:23:19.814Z"
   },
   {
    "duration": 206,
    "start_time": "2024-10-03T07:23:19.820Z"
   },
   {
    "duration": 205,
    "start_time": "2024-10-03T07:23:20.028Z"
   },
   {
    "duration": 266,
    "start_time": "2024-10-03T07:23:20.234Z"
   },
   {
    "duration": 5,
    "start_time": "2024-10-03T07:23:20.502Z"
   },
   {
    "duration": 197,
    "start_time": "2024-10-03T07:23:20.509Z"
   },
   {
    "duration": 317,
    "start_time": "2024-10-03T07:23:20.708Z"
   },
   {
    "duration": 262,
    "start_time": "2024-10-03T07:23:21.027Z"
   },
   {
    "duration": 4,
    "start_time": "2024-10-03T07:23:21.290Z"
   },
   {
    "duration": 12,
    "start_time": "2024-10-03T07:23:21.296Z"
   },
   {
    "duration": 157,
    "start_time": "2024-10-03T07:23:21.310Z"
   },
   {
    "duration": 4,
    "start_time": "2024-10-03T07:23:21.469Z"
   },
   {
    "duration": 7,
    "start_time": "2024-10-03T07:23:21.475Z"
   },
   {
    "duration": 6,
    "start_time": "2024-10-03T07:23:21.483Z"
   },
   {
    "duration": 261,
    "start_time": "2024-10-03T07:23:21.491Z"
   },
   {
    "duration": 0,
    "start_time": "2024-10-03T07:23:21.754Z"
   },
   {
    "duration": 297,
    "start_time": "2024-10-03T07:24:29.608Z"
   },
   {
    "duration": 53,
    "start_time": "2024-10-03T07:25:09.108Z"
   },
   {
    "duration": 789,
    "start_time": "2024-10-03T07:25:13.939Z"
   },
   {
    "duration": 15,
    "start_time": "2024-10-03T07:25:14.730Z"
   },
   {
    "duration": 9,
    "start_time": "2024-10-03T07:25:14.746Z"
   },
   {
    "duration": 8,
    "start_time": "2024-10-03T07:25:14.769Z"
   },
   {
    "duration": 14,
    "start_time": "2024-10-03T07:25:14.779Z"
   },
   {
    "duration": 9,
    "start_time": "2024-10-03T07:25:14.795Z"
   },
   {
    "duration": 11,
    "start_time": "2024-10-03T07:25:14.806Z"
   },
   {
    "duration": 8,
    "start_time": "2024-10-03T07:25:14.818Z"
   },
   {
    "duration": 9,
    "start_time": "2024-10-03T07:25:14.828Z"
   },
   {
    "duration": 4,
    "start_time": "2024-10-03T07:25:14.872Z"
   },
   {
    "duration": 260,
    "start_time": "2024-10-03T07:25:14.878Z"
   },
   {
    "duration": 207,
    "start_time": "2024-10-03T07:25:15.140Z"
   },
   {
    "duration": 267,
    "start_time": "2024-10-03T07:25:15.349Z"
   },
   {
    "duration": 5,
    "start_time": "2024-10-03T07:25:15.617Z"
   },
   {
    "duration": 213,
    "start_time": "2024-10-03T07:25:15.624Z"
   },
   {
    "duration": 201,
    "start_time": "2024-10-03T07:25:15.840Z"
   },
   {
    "duration": 264,
    "start_time": "2024-10-03T07:25:16.042Z"
   },
   {
    "duration": 5,
    "start_time": "2024-10-03T07:25:16.308Z"
   },
   {
    "duration": 210,
    "start_time": "2024-10-03T07:25:16.315Z"
   },
   {
    "duration": 306,
    "start_time": "2024-10-03T07:25:16.527Z"
   },
   {
    "duration": 265,
    "start_time": "2024-10-03T07:25:16.835Z"
   },
   {
    "duration": 4,
    "start_time": "2024-10-03T07:25:17.102Z"
   },
   {
    "duration": 11,
    "start_time": "2024-10-03T07:25:17.108Z"
   },
   {
    "duration": 165,
    "start_time": "2024-10-03T07:25:17.120Z"
   },
   {
    "duration": 5,
    "start_time": "2024-10-03T07:25:17.288Z"
   },
   {
    "duration": 9,
    "start_time": "2024-10-03T07:25:17.294Z"
   },
   {
    "duration": 5,
    "start_time": "2024-10-03T07:25:17.305Z"
   },
   {
    "duration": 244,
    "start_time": "2024-10-03T07:25:17.314Z"
   },
   {
    "duration": 0,
    "start_time": "2024-10-03T07:25:17.560Z"
   },
   {
    "duration": 331,
    "start_time": "2024-10-03T07:28:22.673Z"
   },
   {
    "duration": 274,
    "start_time": "2024-10-03T07:28:35.066Z"
   },
   {
    "duration": 264,
    "start_time": "2024-10-03T07:28:44.067Z"
   },
   {
    "duration": 344,
    "start_time": "2024-10-03T07:30:12.886Z"
   },
   {
    "duration": 394,
    "start_time": "2024-10-03T07:30:48.820Z"
   },
   {
    "duration": 235,
    "start_time": "2024-10-03T07:40:52.194Z"
   },
   {
    "duration": 237,
    "start_time": "2024-10-03T07:41:31.980Z"
   },
   {
    "duration": 228,
    "start_time": "2024-10-03T07:42:44.542Z"
   },
   {
    "duration": 230,
    "start_time": "2024-10-03T07:43:07.778Z"
   },
   {
    "duration": 237,
    "start_time": "2024-10-03T07:43:51.624Z"
   },
   {
    "duration": 14,
    "start_time": "2024-10-03T07:50:05.190Z"
   },
   {
    "duration": 806,
    "start_time": "2024-10-03T07:50:11.747Z"
   },
   {
    "duration": 15,
    "start_time": "2024-10-03T07:50:12.555Z"
   },
   {
    "duration": 9,
    "start_time": "2024-10-03T07:50:12.571Z"
   },
   {
    "duration": 7,
    "start_time": "2024-10-03T07:50:12.582Z"
   },
   {
    "duration": 9,
    "start_time": "2024-10-03T07:50:12.592Z"
   },
   {
    "duration": 10,
    "start_time": "2024-10-03T07:50:12.603Z"
   },
   {
    "duration": 11,
    "start_time": "2024-10-03T07:50:12.614Z"
   },
   {
    "duration": 9,
    "start_time": "2024-10-03T07:50:12.626Z"
   },
   {
    "duration": 43,
    "start_time": "2024-10-03T07:50:12.636Z"
   },
   {
    "duration": 4,
    "start_time": "2024-10-03T07:50:12.682Z"
   },
   {
    "duration": 282,
    "start_time": "2024-10-03T07:50:12.688Z"
   },
   {
    "duration": 212,
    "start_time": "2024-10-03T07:50:12.972Z"
   },
   {
    "duration": 273,
    "start_time": "2024-10-03T07:50:13.186Z"
   },
   {
    "duration": 12,
    "start_time": "2024-10-03T07:50:13.461Z"
   },
   {
    "duration": 208,
    "start_time": "2024-10-03T07:50:13.474Z"
   },
   {
    "duration": 201,
    "start_time": "2024-10-03T07:50:13.683Z"
   },
   {
    "duration": 304,
    "start_time": "2024-10-03T07:50:13.886Z"
   },
   {
    "duration": 5,
    "start_time": "2024-10-03T07:50:14.192Z"
   },
   {
    "duration": 254,
    "start_time": "2024-10-03T07:50:14.199Z"
   },
   {
    "duration": 368,
    "start_time": "2024-10-03T07:50:14.454Z"
   },
   {
    "duration": 228,
    "start_time": "2024-10-03T07:50:14.824Z"
   },
   {
    "duration": 4,
    "start_time": "2024-10-03T07:50:15.054Z"
   },
   {
    "duration": 150,
    "start_time": "2024-10-03T07:50:15.061Z"
   },
   {
    "duration": 138,
    "start_time": "2024-10-03T07:50:15.214Z"
   },
   {
    "duration": 0,
    "start_time": "2024-10-03T07:50:15.354Z"
   },
   {
    "duration": 0,
    "start_time": "2024-10-03T07:50:15.356Z"
   },
   {
    "duration": 0,
    "start_time": "2024-10-03T07:50:15.358Z"
   },
   {
    "duration": 0,
    "start_time": "2024-10-03T07:50:15.370Z"
   },
   {
    "duration": 0,
    "start_time": "2024-10-03T07:50:15.371Z"
   },
   {
    "duration": 7,
    "start_time": "2024-10-03T07:50:25.215Z"
   },
   {
    "duration": 4,
    "start_time": "2024-10-03T07:51:21.467Z"
   },
   {
    "duration": 5,
    "start_time": "2024-10-03T07:53:01.270Z"
   },
   {
    "duration": 111,
    "start_time": "2024-10-03T07:53:46.085Z"
   },
   {
    "duration": 804,
    "start_time": "2024-10-03T07:53:54.012Z"
   },
   {
    "duration": 15,
    "start_time": "2024-10-03T07:53:54.818Z"
   },
   {
    "duration": 9,
    "start_time": "2024-10-03T07:53:54.835Z"
   },
   {
    "duration": 9,
    "start_time": "2024-10-03T07:53:54.845Z"
   },
   {
    "duration": 8,
    "start_time": "2024-10-03T07:53:54.871Z"
   },
   {
    "duration": 9,
    "start_time": "2024-10-03T07:53:54.881Z"
   },
   {
    "duration": 11,
    "start_time": "2024-10-03T07:53:54.892Z"
   },
   {
    "duration": 8,
    "start_time": "2024-10-03T07:53:54.905Z"
   },
   {
    "duration": 9,
    "start_time": "2024-10-03T07:53:54.915Z"
   },
   {
    "duration": 4,
    "start_time": "2024-10-03T07:53:54.926Z"
   },
   {
    "duration": 286,
    "start_time": "2024-10-03T07:53:54.932Z"
   },
   {
    "duration": 207,
    "start_time": "2024-10-03T07:53:55.220Z"
   },
   {
    "duration": 276,
    "start_time": "2024-10-03T07:53:55.429Z"
   },
   {
    "duration": 5,
    "start_time": "2024-10-03T07:53:55.709Z"
   },
   {
    "duration": 212,
    "start_time": "2024-10-03T07:53:55.716Z"
   },
   {
    "duration": 201,
    "start_time": "2024-10-03T07:53:55.929Z"
   },
   {
    "duration": 274,
    "start_time": "2024-10-03T07:53:56.132Z"
   },
   {
    "duration": 5,
    "start_time": "2024-10-03T07:53:56.408Z"
   },
   {
    "duration": 272,
    "start_time": "2024-10-03T07:53:56.414Z"
   },
   {
    "duration": 357,
    "start_time": "2024-10-03T07:53:56.689Z"
   },
   {
    "duration": 262,
    "start_time": "2024-10-03T07:53:57.048Z"
   },
   {
    "duration": 4,
    "start_time": "2024-10-03T07:53:57.312Z"
   },
   {
    "duration": 154,
    "start_time": "2024-10-03T07:53:57.318Z"
   },
   {
    "duration": 6,
    "start_time": "2024-10-03T07:53:57.477Z"
   },
   {
    "duration": 3,
    "start_time": "2024-10-03T07:53:57.485Z"
   },
   {
    "duration": 7,
    "start_time": "2024-10-03T07:53:57.490Z"
   },
   {
    "duration": 6,
    "start_time": "2024-10-03T07:53:57.498Z"
   },
   {
    "duration": 251,
    "start_time": "2024-10-03T07:53:57.506Z"
   },
   {
    "duration": 0,
    "start_time": "2024-10-03T07:53:57.759Z"
   },
   {
    "duration": 19,
    "start_time": "2024-10-03T07:55:12.535Z"
   },
   {
    "duration": 116,
    "start_time": "2024-10-03T07:55:20.267Z"
   },
   {
    "duration": 9,
    "start_time": "2024-10-03T07:55:27.376Z"
   },
   {
    "duration": 2550,
    "start_time": "2024-10-03T17:30:03.792Z"
   },
   {
    "duration": 43,
    "start_time": "2024-10-03T17:30:06.345Z"
   },
   {
    "duration": 9,
    "start_time": "2024-10-03T17:30:06.389Z"
   },
   {
    "duration": 8,
    "start_time": "2024-10-03T17:30:06.400Z"
   },
   {
    "duration": 9,
    "start_time": "2024-10-03T17:30:06.410Z"
   },
   {
    "duration": 9,
    "start_time": "2024-10-03T17:30:06.420Z"
   },
   {
    "duration": 10,
    "start_time": "2024-10-03T17:30:06.431Z"
   },
   {
    "duration": 8,
    "start_time": "2024-10-03T17:30:06.443Z"
   },
   {
    "duration": 9,
    "start_time": "2024-10-03T17:30:06.453Z"
   },
   {
    "duration": 4,
    "start_time": "2024-10-03T17:30:06.465Z"
   },
   {
    "duration": 278,
    "start_time": "2024-10-03T17:30:06.470Z"
   },
   {
    "duration": 209,
    "start_time": "2024-10-03T17:30:06.750Z"
   },
   {
    "duration": 223,
    "start_time": "2024-10-03T17:30:06.961Z"
   },
   {
    "duration": 4,
    "start_time": "2024-10-03T17:30:07.188Z"
   },
   {
    "duration": 218,
    "start_time": "2024-10-03T17:30:07.194Z"
   },
   {
    "duration": 197,
    "start_time": "2024-10-03T17:30:07.413Z"
   },
   {
    "duration": 345,
    "start_time": "2024-10-03T17:30:07.611Z"
   },
   {
    "duration": 5,
    "start_time": "2024-10-03T17:30:07.958Z"
   },
   {
    "duration": 292,
    "start_time": "2024-10-03T17:30:07.965Z"
   },
   {
    "duration": 332,
    "start_time": "2024-10-03T17:30:08.259Z"
   },
   {
    "duration": 240,
    "start_time": "2024-10-03T17:30:08.593Z"
   },
   {
    "duration": 4,
    "start_time": "2024-10-03T17:30:08.835Z"
   },
   {
    "duration": 147,
    "start_time": "2024-10-03T17:30:08.840Z"
   },
   {
    "duration": 4,
    "start_time": "2024-10-03T17:30:08.989Z"
   },
   {
    "duration": 19,
    "start_time": "2024-10-03T17:30:08.995Z"
   },
   {
    "duration": 6,
    "start_time": "2024-10-03T17:30:09.015Z"
   },
   {
    "duration": 129,
    "start_time": "2024-10-03T17:30:09.023Z"
   },
   {
    "duration": 8,
    "start_time": "2024-10-03T17:30:09.154Z"
   },
   {
    "duration": 12,
    "start_time": "2024-10-03T19:06:04.548Z"
   },
   {
    "duration": 780,
    "start_time": "2024-10-03T19:07:58.718Z"
   },
   {
    "duration": 22,
    "start_time": "2024-10-03T19:07:59.500Z"
   },
   {
    "duration": 8,
    "start_time": "2024-10-03T19:07:59.524Z"
   },
   {
    "duration": 8,
    "start_time": "2024-10-03T19:07:59.534Z"
   },
   {
    "duration": 8,
    "start_time": "2024-10-03T19:07:59.545Z"
   },
   {
    "duration": 10,
    "start_time": "2024-10-03T19:07:59.554Z"
   },
   {
    "duration": 11,
    "start_time": "2024-10-03T19:07:59.566Z"
   },
   {
    "duration": 41,
    "start_time": "2024-10-03T19:07:59.578Z"
   },
   {
    "duration": 10,
    "start_time": "2024-10-03T19:07:59.620Z"
   },
   {
    "duration": 4,
    "start_time": "2024-10-03T19:07:59.631Z"
   },
   {
    "duration": 283,
    "start_time": "2024-10-03T19:07:59.637Z"
   },
   {
    "duration": 211,
    "start_time": "2024-10-03T19:07:59.922Z"
   },
   {
    "duration": 268,
    "start_time": "2024-10-03T19:08:00.135Z"
   },
   {
    "duration": 10,
    "start_time": "2024-10-03T19:08:00.406Z"
   },
   {
    "duration": 215,
    "start_time": "2024-10-03T19:08:00.417Z"
   },
   {
    "duration": 197,
    "start_time": "2024-10-03T19:08:00.634Z"
   },
   {
    "duration": 304,
    "start_time": "2024-10-03T19:08:00.833Z"
   },
   {
    "duration": 5,
    "start_time": "2024-10-03T19:08:01.139Z"
   },
   {
    "duration": 249,
    "start_time": "2024-10-03T19:08:01.146Z"
   },
   {
    "duration": 361,
    "start_time": "2024-10-03T19:08:01.396Z"
   },
   {
    "duration": 226,
    "start_time": "2024-10-03T19:08:01.759Z"
   },
   {
    "duration": 4,
    "start_time": "2024-10-03T19:08:01.987Z"
   },
   {
    "duration": 150,
    "start_time": "2024-10-03T19:08:01.993Z"
   },
   {
    "duration": 4,
    "start_time": "2024-10-03T19:08:02.145Z"
   },
   {
    "duration": 8,
    "start_time": "2024-10-03T19:08:02.151Z"
   },
   {
    "duration": 6,
    "start_time": "2024-10-03T19:08:02.161Z"
   },
   {
    "duration": 175,
    "start_time": "2024-10-03T19:08:02.168Z"
   },
   {
    "duration": 9,
    "start_time": "2024-10-03T19:08:02.346Z"
   },
   {
    "duration": 6,
    "start_time": "2024-10-04T04:10:13.406Z"
   }
  ],
  "kernelspec": {
   "display_name": "base",
   "language": "python",
   "name": "python3"
  },
  "language_info": {
   "codemirror_mode": {
    "name": "ipython",
    "version": 3
   },
   "file_extension": ".py",
   "mimetype": "text/x-python",
   "name": "python",
   "nbconvert_exporter": "python",
   "pygments_lexer": "ipython3",
   "version": "3.12.4"
  },
  "toc": {
   "base_numbering": 1,
   "nav_menu": {
    "height": "469px",
    "width": "831px"
   },
   "number_sections": true,
   "sideBar": true,
   "skip_h1_title": true,
   "title_cell": "Table of Contents",
   "title_sidebar": "Contents",
   "toc_cell": false,
   "toc_position": {
    "height": "calc(100% - 180px)",
    "left": "10px",
    "top": "150px",
    "width": "165px"
   },
   "toc_section_display": true,
   "toc_window_display": false
  }
 },
 "nbformat": 4,
 "nbformat_minor": 2
}
